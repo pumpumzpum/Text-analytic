{
 "cells": [
  {
   "cell_type": "markdown",
   "metadata": {},
   "source": [
    "# Text Classification with Keras"
   ]
  },
  {
   "cell_type": "markdown",
   "metadata": {},
   "source": [
    "---"
   ]
  },
  {
   "cell_type": "markdown",
   "metadata": {},
   "source": [
    "# 1. Load data"
   ]
  },
  {
   "cell_type": "code",
   "execution_count": 2,
   "metadata": {},
   "outputs": [
    {
     "name": "stdout",
     "output_type": "stream",
     "text": [
      "D:\\Pum_Program\\HDS_WORK\\Year 3\\Semester 1\\Text analytics\\Lecture7_lab\n"
     ]
    }
   ],
   "source": [
    "%cd D:\\Pum_Program\\HDS_WORK\\Year 3\\Semester 1\\Text analytics\\Lecture7_lab"
   ]
  },
  {
   "cell_type": "code",
   "execution_count": 3,
   "metadata": {},
   "outputs": [
    {
     "data": {
      "text/plain": [
       "'D:\\\\Pum_Program\\\\HDS_WORK\\\\Year 3\\\\Semester 1\\\\Text analytics\\\\Lecture7_lab'"
      ]
     },
     "execution_count": 3,
     "metadata": {},
     "output_type": "execute_result"
    }
   ],
   "source": [
    "%pwd"
   ]
  },
  {
   "cell_type": "code",
   "execution_count": 4,
   "metadata": {},
   "outputs": [],
   "source": [
    "import pandas as pd\n",
    "import matplotlib.pyplot as plt"
   ]
  },
  {
   "cell_type": "code",
   "execution_count": 5,
   "metadata": {},
   "outputs": [],
   "source": [
    "df = pd.read_pickle('consumer_complaint_dataset.data', compression='gzip')"
   ]
  },
  {
   "cell_type": "code",
   "execution_count": 6,
   "metadata": {},
   "outputs": [
    {
     "data": {
      "text/html": [
       "<div>\n",
       "<style scoped>\n",
       "    .dataframe tbody tr th:only-of-type {\n",
       "        vertical-align: middle;\n",
       "    }\n",
       "\n",
       "    .dataframe tbody tr th {\n",
       "        vertical-align: top;\n",
       "    }\n",
       "\n",
       "    .dataframe thead th {\n",
       "        text-align: right;\n",
       "    }\n",
       "</style>\n",
       "<table border=\"1\" class=\"dataframe\">\n",
       "  <thead>\n",
       "    <tr style=\"text-align: right;\">\n",
       "      <th></th>\n",
       "      <th>topic</th>\n",
       "      <th>input</th>\n",
       "    </tr>\n",
       "  </thead>\n",
       "  <tbody>\n",
       "    <tr>\n",
       "      <th>0</th>\n",
       "      <td>Debt collection</td>\n",
       "      <td>transworld systems inc. \\nis trying to collect...</td>\n",
       "    </tr>\n",
       "    <tr>\n",
       "      <th>1</th>\n",
       "      <td>Credit reporting, credit repair services, or o...</td>\n",
       "      <td>I would like to request the suppression of the...</td>\n",
       "    </tr>\n",
       "    <tr>\n",
       "      <th>2</th>\n",
       "      <td>Debt collection</td>\n",
       "      <td>Over the past 2 weeks, I have been receiving e...</td>\n",
       "    </tr>\n",
       "    <tr>\n",
       "      <th>3</th>\n",
       "      <td>Credit reporting, credit repair services, or o...</td>\n",
       "      <td>I HAD FILED WITH CFPB ON XX/XX/XXXX19 TO HAVE ...</td>\n",
       "    </tr>\n",
       "    <tr>\n",
       "      <th>4</th>\n",
       "      <td>Credit reporting, credit repair services, or o...</td>\n",
       "      <td>I have several accounts that the balance is in...</td>\n",
       "    </tr>\n",
       "  </tbody>\n",
       "</table>\n",
       "</div>"
      ],
      "text/plain": [
       "                                               topic  \\\n",
       "0                                    Debt collection   \n",
       "1  Credit reporting, credit repair services, or o...   \n",
       "2                                    Debt collection   \n",
       "3  Credit reporting, credit repair services, or o...   \n",
       "4  Credit reporting, credit repair services, or o...   \n",
       "\n",
       "                                               input  \n",
       "0  transworld systems inc. \\nis trying to collect...  \n",
       "1  I would like to request the suppression of the...  \n",
       "2  Over the past 2 weeks, I have been receiving e...  \n",
       "3  I HAD FILED WITH CFPB ON XX/XX/XXXX19 TO HAVE ...  \n",
       "4  I have several accounts that the balance is in...  "
      ]
     },
     "execution_count": 6,
     "metadata": {},
     "output_type": "execute_result"
    }
   ],
   "source": [
    "df.head()"
   ]
  },
  {
   "cell_type": "code",
   "execution_count": 7,
   "metadata": {},
   "outputs": [],
   "source": [
    "df['length'] = df['input'].str.len()"
   ]
  },
  {
   "cell_type": "code",
   "execution_count": 9,
   "metadata": {},
   "outputs": [
    {
     "data": {
      "text/html": [
       "<div>\n",
       "<style scoped>\n",
       "    .dataframe tbody tr th:only-of-type {\n",
       "        vertical-align: middle;\n",
       "    }\n",
       "\n",
       "    .dataframe tbody tr th {\n",
       "        vertical-align: top;\n",
       "    }\n",
       "\n",
       "    .dataframe thead th {\n",
       "        text-align: right;\n",
       "    }\n",
       "</style>\n",
       "<table border=\"1\" class=\"dataframe\">\n",
       "  <thead>\n",
       "    <tr style=\"text-align: right;\">\n",
       "      <th></th>\n",
       "      <th>count</th>\n",
       "      <th>mean</th>\n",
       "      <th>std</th>\n",
       "      <th>min</th>\n",
       "      <th>25%</th>\n",
       "      <th>50%</th>\n",
       "      <th>75%</th>\n",
       "      <th>max</th>\n",
       "    </tr>\n",
       "  </thead>\n",
       "  <tbody>\n",
       "    <tr>\n",
       "      <th>length</th>\n",
       "      <td>492255.0</td>\n",
       "      <td>1079.263477</td>\n",
       "      <td>1222.237793</td>\n",
       "      <td>5.0</td>\n",
       "      <td>384.0</td>\n",
       "      <td>726.0</td>\n",
       "      <td>1340.0</td>\n",
       "      <td>32317.0</td>\n",
       "    </tr>\n",
       "  </tbody>\n",
       "</table>\n",
       "</div>"
      ],
      "text/plain": [
       "           count         mean          std  min    25%    50%     75%      max\n",
       "length  492255.0  1079.263477  1222.237793  5.0  384.0  726.0  1340.0  32317.0"
      ]
     },
     "execution_count": 9,
     "metadata": {},
     "output_type": "execute_result"
    }
   ],
   "source": [
    "df.describe().T"
   ]
  },
  {
   "cell_type": "code",
   "execution_count": 7,
   "metadata": {},
   "outputs": [
    {
     "data": {
      "text/html": [
       "<div>\n",
       "<style scoped>\n",
       "    .dataframe tbody tr th:only-of-type {\n",
       "        vertical-align: middle;\n",
       "    }\n",
       "\n",
       "    .dataframe tbody tr th {\n",
       "        vertical-align: top;\n",
       "    }\n",
       "\n",
       "    .dataframe thead th {\n",
       "        text-align: right;\n",
       "    }\n",
       "</style>\n",
       "<table border=\"1\" class=\"dataframe\">\n",
       "  <thead>\n",
       "    <tr style=\"text-align: right;\">\n",
       "      <th>col_0</th>\n",
       "      <th>Count</th>\n",
       "    </tr>\n",
       "    <tr>\n",
       "      <th>topic</th>\n",
       "      <th></th>\n",
       "    </tr>\n",
       "  </thead>\n",
       "  <tbody>\n",
       "    <tr>\n",
       "      <th>Credit reporting, credit repair services, or other personal consumer reports</th>\n",
       "      <td>145090</td>\n",
       "    </tr>\n",
       "    <tr>\n",
       "      <th>Debt collection</th>\n",
       "      <td>106946</td>\n",
       "    </tr>\n",
       "    <tr>\n",
       "      <th>Mortgage</th>\n",
       "      <td>61581</td>\n",
       "    </tr>\n",
       "    <tr>\n",
       "      <th>Credit card or prepaid card</th>\n",
       "      <td>32144</td>\n",
       "    </tr>\n",
       "    <tr>\n",
       "      <th>Credit reporting</th>\n",
       "      <td>31588</td>\n",
       "    </tr>\n",
       "    <tr>\n",
       "      <th>Student loan</th>\n",
       "      <td>25083</td>\n",
       "    </tr>\n",
       "    <tr>\n",
       "      <th>Checking or savings account</th>\n",
       "      <td>19153</td>\n",
       "    </tr>\n",
       "    <tr>\n",
       "      <th>Credit card</th>\n",
       "      <td>18838</td>\n",
       "    </tr>\n",
       "    <tr>\n",
       "      <th>Bank account or service</th>\n",
       "      <td>14885</td>\n",
       "    </tr>\n",
       "    <tr>\n",
       "      <th>Consumer Loan</th>\n",
       "      <td>9473</td>\n",
       "    </tr>\n",
       "    <tr>\n",
       "      <th>Vehicle loan or lease</th>\n",
       "      <td>8204</td>\n",
       "    </tr>\n",
       "    <tr>\n",
       "      <th>Money transfer, virtual currency, or money service</th>\n",
       "      <td>7865</td>\n",
       "    </tr>\n",
       "    <tr>\n",
       "      <th>Payday loan, title loan, or personal loan</th>\n",
       "      <td>6404</td>\n",
       "    </tr>\n",
       "    <tr>\n",
       "      <th>Payday loan</th>\n",
       "      <td>1746</td>\n",
       "    </tr>\n",
       "    <tr>\n",
       "      <th>Money transfers</th>\n",
       "      <td>1497</td>\n",
       "    </tr>\n",
       "    <tr>\n",
       "      <th>Prepaid card</th>\n",
       "      <td>1450</td>\n",
       "    </tr>\n",
       "    <tr>\n",
       "      <th>Other financial service</th>\n",
       "      <td>292</td>\n",
       "    </tr>\n",
       "    <tr>\n",
       "      <th>Virtual currency</th>\n",
       "      <td>16</td>\n",
       "    </tr>\n",
       "  </tbody>\n",
       "</table>\n",
       "</div>"
      ],
      "text/plain": [
       "col_0                                                Count\n",
       "topic                                                     \n",
       "Credit reporting, credit repair services, or ot...  145090\n",
       "Debt collection                                     106946\n",
       "Mortgage                                             61581\n",
       "Credit card or prepaid card                          32144\n",
       "Credit reporting                                     31588\n",
       "Student loan                                         25083\n",
       "Checking or savings account                          19153\n",
       "Credit card                                          18838\n",
       "Bank account or service                              14885\n",
       "Consumer Loan                                         9473\n",
       "Vehicle loan or lease                                 8204\n",
       "Money transfer, virtual currency, or money service    7865\n",
       "Payday loan, title loan, or personal loan             6404\n",
       "Payday loan                                           1746\n",
       "Money transfers                                       1497\n",
       "Prepaid card                                          1450\n",
       "Other financial service                                292\n",
       "Virtual currency                                        16"
      ]
     },
     "execution_count": 7,
     "metadata": {},
     "output_type": "execute_result"
    }
   ],
   "source": [
    "pd.crosstab(df.topic, columns='Count')\\\n",
    "  .sort_values(by='Count', ascending=False)"
   ]
  },
  {
   "cell_type": "markdown",
   "metadata": {},
   "source": [
    "# 2. Label grouping / cleaning"
   ]
  },
  {
   "cell_type": "markdown",
   "metadata": {},
   "source": [
    "- Group \"Credit reporting\" into \"Credit reporting, credit repair services, or other personal consumer reports\".\n",
    "- Group \"Credit card\"/\"Prepaid card\" into \"Credit card or prepaid card\".\n",
    "- Group \"Payday loan\" into \"Payday loan, title loan, or personal loan\".\n",
    "- Group \"Virtual currency\"/\"Money transfers\" into \"Money transfer, virtual currency, or money service\".\n",
    "- Remove \"Other financial service\""
   ]
  },
  {
   "cell_type": "code",
   "execution_count": 8,
   "metadata": {},
   "outputs": [],
   "source": [
    "df.loc[df['topic'] == 'Credit reporting', 'topic'] = 'Credit reporting, credit repair services, or other personal consumer reports'\n",
    "df.loc[df['topic'] == 'Credit card', 'topic'] = 'Credit card or prepaid card'\n",
    "df.loc[df['topic'] == 'Prepaid card', 'topic'] = 'Credit card or prepaid card'\n",
    "df.loc[df['topic'] == 'Payday loan', 'topic'] = 'Payday loan, title loan, or personal loan'\n",
    "df.loc[df['topic'] == 'Virtual currency', 'topic'] = 'Money transfer, virtual currency, or money service'\n",
    "df.loc[df['topic'] == 'Money transfers', 'topic'] = 'Money transfer, virtual currency, or money service'\n",
    "df = df[df['topic'] != 'Other financial service']"
   ]
  },
  {
   "cell_type": "code",
   "execution_count": 9,
   "metadata": {},
   "outputs": [
    {
     "data": {
      "image/png": "[encoded data removed]",
      "text/plain": [
       "<Figure size 432x288 with 1 Axes>"
      ]
     },
     "metadata": {
      "needs_background": "light"
     },
     "output_type": "display_data"
    }
   ],
   "source": [
    "df['topic']\\\n",
    "  .value_counts()\\\n",
    "  .sort_values(ascending=False)\\\n",
    "  .plot(kind='bar',\n",
    "        title='Number complaints in each topic')\n",
    "plt.show()"
   ]
  },
  {
   "cell_type": "markdown",
   "metadata": {},
   "source": [
    "# 3. Clean text"
   ]
  },
  {
   "cell_type": "code",
   "execution_count": 10,
   "metadata": {},
   "outputs": [
    {
     "name": "stdout",
     "output_type": "stream",
     "text": [
      "XXXX is reporting incorrectly to Equifax and XXXX an account balance of {$2300.00} on the XXXX partial account number XXXX. ( Please see pages 12 and 13 of the attached credit report ). This account is over 7 years old and therefore should not be on my credit report. This incorrect reporting is harming my credit score and is a Fair Credit Reporting Act ( F.C.R.A. ) violation.\n",
      "Topic: Credit reporting, credit repair services, or other personal consumer reports\n"
     ]
    }
   ],
   "source": [
    "def print_plot(index):\n",
    "    example = df[df.index == index][['input', 'topic']].values[0]\n",
    "    if len(example) > 0:\n",
    "        print(example[0])\n",
    "        print('Topic:', example[1])\n",
    "        \n",
    "print_plot(10)"
   ]
  },
  {
   "cell_type": "code",
   "execution_count": 11,
   "metadata": {},
   "outputs": [
    {
     "name": "stdout",
     "output_type": "stream",
     "text": [
      "I worked for XXXX from XX/XX/XXXX to XX/XX/XXXX. XXXX directly paid XXXX for my internet service at my resident. I never received any billing statement from XXXX. Everything was handled directly between XXXX and XXXX. \n",
      "I moved and ended my employment with XXXX on XX/XX/XXXX. I received a letter from XXXX XXXX dated XX/XX/XXXX to my new address attempting to collect {$120.00} for XXXX. I called XXXX on XX/XX/XXXX to resolve issue and they confirmed the account was XXXX corporate account. I also called XXXX XXXX to dispute my collection account. I finally received a letter from XXXX XXXX dated XX/XX/XXXX that they had reviewed account and resolved it. The letter stated \" Our office has reviewed the above-referenced account and we have made the decision to discontinue our collection efforts. Rest assured that no information regarding this account has been reported to the credit bureaus by this agency. '' I thought this issue was resolved and closed. \n",
      "\n",
      "However, recently, I checked my credit reports on XX/XX/XXXX and I noticed a collection account is on my file. It damaged my credit score and my credit history. I have disputed with all 3 credit agencies. XXXX and XXXX did not resolve my issue. I requested XXXX  3 times : 1 in XXXX, 1 in XXXX, and 1 in XXXX to send me my dispute result in writing but I still haven't received any in mail. XXXX sent me the investigation results. The letter stated that the Collection account from XXXX XXXX XXXX # XXXX. I never receive any letter or any notification from XXXX XXXX XXXX before. This is the first time I am aware of the collection account from XXXX XXXX XXXX for the same creditor XXXX is on my credit file. How many collection agencies out there attempting to collect the same account for XXXX? How can I dispute when I never receive any mail or notification from XXXX XXXX XXXX.? \n",
      "Please assist me to resolve this issue and make sure the collection account is removed from my credit file.\n",
      "Topic: Debt collection\n"
     ]
    }
   ],
   "source": [
    "print_plot(50)"
   ]
  },
  {
   "cell_type": "markdown",
   "metadata": {},
   "source": [
    "## Steps:\n",
    "1. Convert all text to lower case.\n",
    "2. Replace REPLACE_BY_SPACE_RE symbols by space in text.\n",
    "3. Remove symbols that are in BAD_SYMBOLS_RE from text.\n",
    "4. Remove “x” in text.\n",
    "5. Remove stop words.\n",
    "6. Remove digits in text."
   ]
  },
  {
   "cell_type": "code",
   "execution_count": 12,
   "metadata": {},
   "outputs": [
    {
     "name": "stderr",
     "output_type": "stream",
     "text": [
      "[nltk_data] Downloading package stopwords to\n",
      "[nltk_data]     C:\\Users\\66885\\AppData\\Roaming\\nltk_data...\n",
      "[nltk_data]   Package stopwords is already up-to-date!\n"
     ]
    },
    {
     "data": {
      "text/plain": [
       "True"
      ]
     },
     "execution_count": 12,
     "metadata": {},
     "output_type": "execute_result"
    }
   ],
   "source": [
    "import nltk\n",
    "from nltk.corpus import stopwords\n",
    "nltk.download('stopwords')"
   ]
  },
  {
   "cell_type": "code",
   "execution_count": 14,
   "metadata": {},
   "outputs": [
    {
     "name": "stderr",
     "output_type": "stream",
     "text": [
      "<ipython-input-14-89ef6f99f93e>:24: FutureWarning: The default value of regex will change from True to False in a future version.\n",
      "  df['input'] = df['input'].str.replace('\\d+', '')\n"
     ]
    }
   ],
   "source": [
    "import re\n",
    "\n",
    "REPLACE_BY_SPACE_RE = re.compile('[/(){}\\[\\]\\|@,;]')\n",
    "BAD_SYMBOLS_RE = re.compile('[^0-9a-z #+_]')\n",
    "STOPWORDS = set(stopwords.words('english'))\n",
    "\n",
    "def clean_text(text):\n",
    "    \"\"\"\n",
    "        text: a string\n",
    "        \n",
    "        return: modified initial string\n",
    "    \"\"\"\n",
    "    text = text.lower() # lowercase text\n",
    "    text = REPLACE_BY_SPACE_RE.sub(' ', text) # replace REPLACE_BY_SPACE_RE symbols by space in text. substitute the matched string in REPLACE_BY_SPACE_RE with space.\n",
    "    text = BAD_SYMBOLS_RE.sub('', text) # remove symbols which are in BAD_SYMBOLS_RE from text. substitute the matched string in BAD_SYMBOLS_RE with nothing. \n",
    "    text = text.replace('x', '')\n",
    "#    text = re.sub(r'\\W+', '', text)\n",
    "    text = ' '.join(word for word in text.split() if word not in STOPWORDS) # remove stopwors from text\n",
    "    return text\n",
    "\n",
    "df['input'] = df['input'].apply(clean_text)\n",
    "\n",
    "# Remove groups of numerical sequences with whitespace\n",
    "df['input'] = df['input'].str.replace('\\d+', '')"
   ]
  },
  {
   "cell_type": "code",
   "execution_count": 15,
   "metadata": {},
   "outputs": [
    {
     "name": "stdout",
     "output_type": "stream",
     "text": [
      "reporting incorrectly equifa account balance  partial account number please see pages   attached credit report account  years old therefore credit report incorrect reporting harming credit score fair credit reporting act fcra violation\n",
      "Topic: Credit reporting, credit repair services, or other personal consumer reports\n"
     ]
    }
   ],
   "source": [
    "print_plot(10)"
   ]
  },
  {
   "cell_type": "code",
   "execution_count": 16,
   "metadata": {},
   "outputs": [
    {
     "name": "stdout",
     "output_type": "stream",
     "text": [
      "worked directly paid internet service resident never received billing statement everything handled directly moved ended employment received letter dated new address attempting collect  called resolve issue confirmed account corporate account also called dispute collection account finally received letter dated reviewed account resolved letter stated office reviewed abovereferenced account made decision discontinue collection efforts rest assured information regarding account reported credit bureaus agency thought issue resolved closed however recently checked credit reports noticed collection account file damaged credit score credit history disputed  credit agencies resolve issue requested  times    send dispute result writing still havent received mail sent investigation results letter stated collection account # never receive letter notification first time aware collection account creditor credit file many collection agencies attempting collect account dispute never receive mail notification please assist resolve issue make sure collection account removed credit file\n",
      "Topic: Debt collection\n"
     ]
    }
   ],
   "source": [
    "print_plot(50)"
   ]
  },
  {
   "cell_type": "markdown",
   "metadata": {},
   "source": [
    "# 4. Modeling"
   ]
  },
  {
   "cell_type": "markdown",
   "metadata": {},
   "source": [
    "1. Vectorize consumer complaints input text, by turning each text into either a sequence of integers or into a vector.\n",
    "2. Limit the data set to the top 50000 words.\n",
    "3. Set the max number of words in each complaint at 250."
   ]
  },
  {
   "cell_type": "markdown",
   "metadata": {},
   "source": [
    "### 4.1 Train the tokenizer"
   ]
  },
  {
   "cell_type": "code",
   "execution_count": 1,
   "metadata": {},
   "outputs": [],
   "source": [
    "#!pip install tensorflow --user"
   ]
  },
  {
   "cell_type": "code",
   "execution_count": 2,
   "metadata": {},
   "outputs": [],
   "source": [
    "#!pip install keras"
   ]
  },
  {
   "cell_type": "code",
   "execution_count": 17,
   "metadata": {},
   "outputs": [
    {
     "name": "stdout",
     "output_type": "stream",
     "text": [
      "Found 166330 unique tokens.\n"
     ]
    }
   ],
   "source": [
    "from keras.preprocessing.text import Tokenizer\n",
    "# The maximum number of words to be used. (most frequent)\n",
    "MAX_NB_WORDS = 50000\n",
    "# Max number of words in each complaint.\n",
    "MAX_SEQUENCE_LENGTH = 250\n",
    "# This is fixed.\n",
    "EMBEDDING_DIM = 100\n",
    "\n",
    "tokenizer = Tokenizer(num_words=MAX_NB_WORDS, \n",
    "                      filters='!\"#$%&()*+,-./:;<=>?@[\\]^_`{|}~', \n",
    "                      lower=True)\n",
    "tokenizer.fit_on_texts(df['input'].values)\n",
    "word_index = tokenizer.word_index\n",
    "print('Found %s unique tokens.' % len(word_index))"
   ]
  },
  {
   "cell_type": "markdown",
   "metadata": {},
   "source": [
    "### 4.2 Pad the text sequence"
   ]
  },
  {
   "cell_type": "code",
   "execution_count": 18,
   "metadata": {},
   "outputs": [
    {
     "name": "stdout",
     "output_type": "stream",
     "text": [
      "Shape of data tensor: (491963, 250)\n"
     ]
    }
   ],
   "source": [
    "from keras.preprocessing.sequence import pad_sequences\n",
    "\n",
    "X = tokenizer.texts_to_sequences(df['input'].values)\n",
    "X = pad_sequences(X, maxlen=MAX_SEQUENCE_LENGTH)\n",
    "print('Shape of data tensor:', X.shape)"
   ]
  },
  {
   "cell_type": "code",
   "execution_count": 19,
   "metadata": {},
   "outputs": [
    {
     "data": {
      "text/plain": [
       "'transworld systems inc trying collect debt mine owed inaccurate'"
      ]
     },
     "execution_count": 19,
     "metadata": {},
     "output_type": "execute_result"
    }
   ],
   "source": [
    "df['input'].values[0]"
   ]
  },
  {
   "cell_type": "code",
   "execution_count": 20,
   "metadata": {},
   "outputs": [
    {
     "data": {
      "text/plain": [
       "array([   0,    0,    0,    0,    0,    0,    0,    0,    0,    0,    0,\n",
       "          0,    0,    0,    0,    0,    0,    0,    0,    0,    0,    0,\n",
       "          0,    0,    0,    0,    0,    0,    0,    0,    0,    0,    0,\n",
       "          0,    0,    0,    0,    0,    0,    0,    0,    0,    0,    0,\n",
       "          0,    0,    0,    0,    0,    0,    0,    0,    0,    0,    0,\n",
       "          0,    0,    0,    0,    0,    0,    0,    0,    0,    0,    0,\n",
       "          0,    0,    0,    0,    0,    0,    0,    0,    0,    0,    0,\n",
       "          0,    0,    0,    0,    0,    0,    0,    0,    0,    0,    0,\n",
       "          0,    0,    0,    0,    0,    0,    0,    0,    0,    0,    0,\n",
       "          0,    0,    0,    0,    0,    0,    0,    0,    0,    0,    0,\n",
       "          0,    0,    0,    0,    0,    0,    0,    0,    0,    0,    0,\n",
       "          0,    0,    0,    0,    0,    0,    0,    0,    0,    0,    0,\n",
       "          0,    0,    0,    0,    0,    0,    0,    0,    0,    0,    0,\n",
       "          0,    0,    0,    0,    0,    0,    0,    0,    0,    0,    0,\n",
       "          0,    0,    0,    0,    0,    0,    0,    0,    0,    0,    0,\n",
       "          0,    0,    0,    0,    0,    0,    0,    0,    0,    0,    0,\n",
       "          0,    0,    0,    0,    0,    0,    0,    0,    0,    0,    0,\n",
       "          0,    0,    0,    0,    0,    0,    0,    0,    0,    0,    0,\n",
       "          0,    0,    0,    0,    0,    0,    0,    0,    0,    0,    0,\n",
       "          0,    0,    0,    0,    0,    0,    0,    0,    0,    0,    0,\n",
       "          0,    0,    0,    0,    0,    0,    0,    0,    0,    0,    0,\n",
       "          0,    0,    0,    0,    0,    0,    0,    0,    0,    0, 2378,\n",
       "        769,  632,  127,  257,    8,  271,  201,  260])"
      ]
     },
     "execution_count": 20,
     "metadata": {},
     "output_type": "execute_result"
    }
   ],
   "source": [
    "X[0]"
   ]
  },
  {
   "cell_type": "markdown",
   "metadata": {},
   "source": [
    "## 4.3 Convert output label into numeric values"
   ]
  },
  {
   "cell_type": "code",
   "execution_count": 21,
   "metadata": {},
   "outputs": [
    {
     "name": "stdout",
     "output_type": "stream",
     "text": [
      "Shape of label tensor: (491963, 11)\n"
     ]
    }
   ],
   "source": [
    "Y = pd.get_dummies(df['topic']).values\n",
    "print('Shape of label tensor:', Y.shape)"
   ]
  },
  {
   "cell_type": "code",
   "execution_count": 22,
   "metadata": {},
   "outputs": [
    {
     "data": {
      "text/plain": [
       "array([[0, 0, 0, ..., 0, 0, 0],\n",
       "       [0, 0, 0, ..., 0, 0, 0],\n",
       "       [0, 0, 0, ..., 0, 0, 0],\n",
       "       ...,\n",
       "       [0, 0, 0, ..., 0, 0, 0],\n",
       "       [0, 0, 0, ..., 0, 0, 0],\n",
       "       [0, 0, 0, ..., 0, 0, 0]], dtype=uint8)"
      ]
     },
     "execution_count": 22,
     "metadata": {},
     "output_type": "execute_result"
    }
   ],
   "source": [
    "Y"
   ]
  },
  {
   "cell_type": "markdown",
   "metadata": {},
   "source": [
    "## 4.4 Holdout"
   ]
  },
  {
   "cell_type": "code",
   "execution_count": 23,
   "metadata": {},
   "outputs": [
    {
     "name": "stdout",
     "output_type": "stream",
     "text": [
      "(344374, 250) (344374, 11)\n",
      "(147589, 250) (147589, 11)\n"
     ]
    }
   ],
   "source": [
    "from sklearn.model_selection import train_test_split\n",
    "\n",
    "X_train, X_test, Y_train, Y_test = train_test_split(\n",
    "    X,Y, test_size = 0.30, random_state = 42\n",
    ")\n",
    "print(X_train.shape,Y_train.shape)\n",
    "print(X_test.shape,Y_test.shape)"
   ]
  },
  {
   "cell_type": "markdown",
   "metadata": {},
   "source": [
    "## 4.5 Modeling with Keras"
   ]
  },
  {
   "cell_type": "markdown",
   "metadata": {},
   "source": [
    "- The first layer is the embedded layer that uses 100 length vectors to represent each word.\n",
    "- SpatialDropout1D drops random words from all input\n",
    "- The next layer is the LSTM layer with 100 memory units.\n",
    "- The output layer must create 13 output values, one for each class.\n",
    "- Activation function is softmax for multi-class classification.\n",
    "- Because it is a multi-class classification problem, categorical_crossentropy is used as the loss function."
   ]
  },
  {
   "cell_type": "markdown",
   "metadata": {},
   "source": [
    "### Choose between\n",
    "### 1) Load the model"
   ]
  },
  {
   "cell_type": "code",
   "execution_count": 24,
   "metadata": {
    "scrolled": true
   },
   "outputs": [],
   "source": [
    "import os\n",
    "from keras.models import load_model\n",
    "if os.path.exists('model_lstm.h5'):\n",
    "    model = load_model('model_lstm.h5')"
   ]
  },
  {
   "cell_type": "markdown",
   "metadata": {},
   "source": [
    "### 2) Train the new model"
   ]
  },
  {
   "cell_type": "code",
   "execution_count": 25,
   "metadata": {},
   "outputs": [
    {
     "name": "stdout",
     "output_type": "stream",
     "text": [
      "Epoch 1/5\n",
      "4843/4843 [==============================] - 2145s 443ms/step - loss: 0.8885 - accuracy: 0.7175 - val_loss: 0.6526 - val_accuracy: 0.7861\n",
      "Epoch 2/5\n",
      "4843/4843 [==============================] - 2196s 453ms/step - loss: 0.5858 - accuracy: 0.8029 - val_loss: 0.5393 - val_accuracy: 0.8160\n",
      "Epoch 3/5\n",
      "4843/4843 [==============================] - 2236s 462ms/step - loss: 0.5027 - accuracy: 0.8262 - val_loss: 0.5153 - val_accuracy: 0.8230\n",
      "Epoch 4/5\n",
      "4843/4843 [==============================] - 2601s 537ms/step - loss: 0.4524 - accuracy: 0.8434 - val_loss: 0.4980 - val_accuracy: 0.8318\n",
      "Epoch 5/5\n",
      "4843/4843 [==============================] - 2615s 540ms/step - loss: 0.4060 - accuracy: 0.8610 - val_loss: 0.5043 - val_accuracy: 0.8321\n"
     ]
    }
   ],
   "source": [
    "from keras.models import Sequential\n",
    "from keras.layers import Embedding, SpatialDropout1D, LSTM, Dense\n",
    "from keras.callbacks import EarlyStopping\n",
    "\n",
    "model = Sequential()\n",
    "model.add(Embedding(MAX_NB_WORDS, EMBEDDING_DIM, input_length=X.shape[1]))\n",
    "model.add(SpatialDropout1D(0.2))\n",
    "model.add(LSTM(100, dropout=0.2, recurrent_dropout=0.2))\n",
    "model.add(Dense(11, activation='softmax'))\n",
    "model.compile(loss='categorical_crossentropy', \n",
    "              optimizer='adam', metrics=['accuracy'])\n",
    "\n",
    "epochs = 5\n",
    "batch_size = 64\n",
    "\n",
    "history = model.fit(X_train, Y_train, \n",
    "                    epochs=epochs, \n",
    "                    batch_size=batch_size,\n",
    "                    validation_split=0.1,\n",
    "                    callbacks=[EarlyStopping(monitor='val_loss', \n",
    "                                             patience=3, \n",
    "                                             min_delta=0.0001)])\n"
   ]
  },
  {
   "cell_type": "code",
   "execution_count": 26,
   "metadata": {},
   "outputs": [],
   "source": [
    "from keras.models import load_model\n",
    "\n",
    "model.save('model_lstm.h5')"
   ]
  },
  {
   "cell_type": "markdown",
   "metadata": {},
   "source": [
    "# 5. Evaluation"
   ]
  },
  {
   "cell_type": "code",
   "execution_count": 27,
   "metadata": {},
   "outputs": [
    {
     "name": "stdout",
     "output_type": "stream",
     "text": [
      "4613/4613 [==============================] - 231s 50ms/step - loss: 0.5058 - accuracy: 0.8297\n",
      "Test set\n",
      "\tLoss: 0.506\n",
      "\tAccuracy: 0.830\n"
     ]
    }
   ],
   "source": [
    "accr = model.evaluate(X_test,Y_test)\n",
    "print('Test set\\n\\tLoss: {:0.3f}\\n\\tAccuracy: {:0.3f}'\\\n",
    "      .format(accr[0],accr[1]))"
   ]
  },
  {
   "cell_type": "code",
   "execution_count": 28,
   "metadata": {},
   "outputs": [
    {
     "data": {
      "image/png": "[encoded data removed]",
      "text/plain": [
       "<Figure size 432x288 with 1 Axes>"
      ]
     },
     "metadata": {
      "needs_background": "light"
     },
     "output_type": "display_data"
    }
   ],
   "source": [
    "plt.title('Loss')\n",
    "plt.plot(history.history['loss'], label='train')\n",
    "plt.plot(history.history['val_loss'], label='test')\n",
    "plt.legend()\n",
    "plt.show();"
   ]
  },
  {
   "cell_type": "code",
   "execution_count": 29,
   "metadata": {},
   "outputs": [
    {
     "data": {
      "image/png": "[encoded data removed]",
      "text/plain": [
       "<Figure size 432x288 with 1 Axes>"
      ]
     },
     "metadata": {
      "needs_background": "light"
     },
     "output_type": "display_data"
    }
   ],
   "source": [
    "plt.title('Accuracy')\n",
    "plt.plot(history.history['accuracy'], label='train')\n",
    "plt.plot(history.history['val_accuracy'], label='test')\n",
    "plt.legend()\n",
    "plt.show();"
   ]
  },
  {
   "cell_type": "code",
   "execution_count": 37,
   "metadata": {},
   "outputs": [
    {
     "data": {
      "text/html": [
       "<div>\n",
       "<style scoped>\n",
       "    .dataframe tbody tr th:only-of-type {\n",
       "        vertical-align: middle;\n",
       "    }\n",
       "\n",
       "    .dataframe tbody tr th {\n",
       "        vertical-align: top;\n",
       "    }\n",
       "\n",
       "    .dataframe thead th {\n",
       "        text-align: right;\n",
       "    }\n",
       "</style>\n",
       "<table border=\"1\" class=\"dataframe\">\n",
       "  <thead>\n",
       "    <tr style=\"text-align: right;\">\n",
       "      <th></th>\n",
       "      <th>Bank account or service</th>\n",
       "      <th>Checking or savings account</th>\n",
       "      <th>Consumer Loan</th>\n",
       "      <th>Credit card or prepaid card</th>\n",
       "      <th>Credit reporting, credit repair services, or other personal consumer reports</th>\n",
       "      <th>Debt collection</th>\n",
       "      <th>Money transfer, virtual currency, or money service</th>\n",
       "      <th>Mortgage</th>\n",
       "      <th>Payday loan, title loan, or personal loan</th>\n",
       "      <th>Student loan</th>\n",
       "      <th>Vehicle loan or lease</th>\n",
       "    </tr>\n",
       "  </thead>\n",
       "  <tbody>\n",
       "    <tr>\n",
       "      <th>Bank account or service</th>\n",
       "      <td>1703</td>\n",
       "      <td>1643</td>\n",
       "      <td>29</td>\n",
       "      <td>429</td>\n",
       "      <td>151</td>\n",
       "      <td>123</td>\n",
       "      <td>168</td>\n",
       "      <td>164</td>\n",
       "      <td>29</td>\n",
       "      <td>7</td>\n",
       "      <td>9</td>\n",
       "    </tr>\n",
       "    <tr>\n",
       "      <th>Checking or savings account</th>\n",
       "      <td>784</td>\n",
       "      <td>4000</td>\n",
       "      <td>6</td>\n",
       "      <td>354</td>\n",
       "      <td>132</td>\n",
       "      <td>118</td>\n",
       "      <td>236</td>\n",
       "      <td>39</td>\n",
       "      <td>27</td>\n",
       "      <td>5</td>\n",
       "      <td>11</td>\n",
       "    </tr>\n",
       "    <tr>\n",
       "      <th>Consumer Loan</th>\n",
       "      <td>12</td>\n",
       "      <td>6</td>\n",
       "      <td>1014</td>\n",
       "      <td>131</td>\n",
       "      <td>463</td>\n",
       "      <td>366</td>\n",
       "      <td>4</td>\n",
       "      <td>101</td>\n",
       "      <td>412</td>\n",
       "      <td>21</td>\n",
       "      <td>352</td>\n",
       "    </tr>\n",
       "    <tr>\n",
       "      <th>Credit card or prepaid card</th>\n",
       "      <td>238</td>\n",
       "      <td>376</td>\n",
       "      <td>18</td>\n",
       "      <td>12757</td>\n",
       "      <td>1245</td>\n",
       "      <td>759</td>\n",
       "      <td>121</td>\n",
       "      <td>65</td>\n",
       "      <td>58</td>\n",
       "      <td>25</td>\n",
       "      <td>17</td>\n",
       "    </tr>\n",
       "    <tr>\n",
       "      <th>Credit reporting, credit repair services, or other personal consumer reports</th>\n",
       "      <td>41</td>\n",
       "      <td>125</td>\n",
       "      <td>132</td>\n",
       "      <td>1142</td>\n",
       "      <td>47389</td>\n",
       "      <td>2973</td>\n",
       "      <td>18</td>\n",
       "      <td>493</td>\n",
       "      <td>121</td>\n",
       "      <td>358</td>\n",
       "      <td>171</td>\n",
       "    </tr>\n",
       "    <tr>\n",
       "      <th>Debt collection</th>\n",
       "      <td>44</td>\n",
       "      <td>89</td>\n",
       "      <td>140</td>\n",
       "      <td>593</td>\n",
       "      <td>2813</td>\n",
       "      <td>27153</td>\n",
       "      <td>44</td>\n",
       "      <td>436</td>\n",
       "      <td>299</td>\n",
       "      <td>403</td>\n",
       "      <td>104</td>\n",
       "    </tr>\n",
       "    <tr>\n",
       "      <th>Money transfer, virtual currency, or money service</th>\n",
       "      <td>49</td>\n",
       "      <td>305</td>\n",
       "      <td>4</td>\n",
       "      <td>187</td>\n",
       "      <td>38</td>\n",
       "      <td>61</td>\n",
       "      <td>2061</td>\n",
       "      <td>31</td>\n",
       "      <td>22</td>\n",
       "      <td>14</td>\n",
       "      <td>6</td>\n",
       "    </tr>\n",
       "    <tr>\n",
       "      <th>Mortgage</th>\n",
       "      <td>30</td>\n",
       "      <td>67</td>\n",
       "      <td>13</td>\n",
       "      <td>101</td>\n",
       "      <td>574</td>\n",
       "      <td>340</td>\n",
       "      <td>11</td>\n",
       "      <td>17347</td>\n",
       "      <td>84</td>\n",
       "      <td>55</td>\n",
       "      <td>16</td>\n",
       "    </tr>\n",
       "    <tr>\n",
       "      <th>Payday loan, title loan, or personal loan</th>\n",
       "      <td>20</td>\n",
       "      <td>38</td>\n",
       "      <td>74</td>\n",
       "      <td>134</td>\n",
       "      <td>170</td>\n",
       "      <td>370</td>\n",
       "      <td>18</td>\n",
       "      <td>92</td>\n",
       "      <td>1449</td>\n",
       "      <td>45</td>\n",
       "      <td>57</td>\n",
       "    </tr>\n",
       "    <tr>\n",
       "      <th>Student loan</th>\n",
       "      <td>9</td>\n",
       "      <td>2</td>\n",
       "      <td>11</td>\n",
       "      <td>43</td>\n",
       "      <td>397</td>\n",
       "      <td>354</td>\n",
       "      <td>5</td>\n",
       "      <td>41</td>\n",
       "      <td>66</td>\n",
       "      <td>6525</td>\n",
       "      <td>9</td>\n",
       "    </tr>\n",
       "    <tr>\n",
       "      <th>Vehicle loan or lease</th>\n",
       "      <td>5</td>\n",
       "      <td>13</td>\n",
       "      <td>507</td>\n",
       "      <td>74</td>\n",
       "      <td>468</td>\n",
       "      <td>152</td>\n",
       "      <td>6</td>\n",
       "      <td>38</td>\n",
       "      <td>105</td>\n",
       "      <td>12</td>\n",
       "      <td>1055</td>\n",
       "    </tr>\n",
       "  </tbody>\n",
       "</table>\n",
       "</div>"
      ],
      "text/plain": [
       "                                                    Bank account or service  \\\n",
       "Bank account or service                                                1703   \n",
       "Checking or savings account                                             784   \n",
       "Consumer Loan                                                            12   \n",
       "Credit card or prepaid card                                             238   \n",
       "Credit reporting, credit repair services, or ot...                       41   \n",
       "Debt collection                                                          44   \n",
       "Money transfer, virtual currency, or money service                       49   \n",
       "Mortgage                                                                 30   \n",
       "Payday loan, title loan, or personal loan                                20   \n",
       "Student loan                                                              9   \n",
       "Vehicle loan or lease                                                     5   \n",
       "\n",
       "                                                    Checking or savings account  \\\n",
       "Bank account or service                                                    1643   \n",
       "Checking or savings account                                                4000   \n",
       "Consumer Loan                                                                 6   \n",
       "Credit card or prepaid card                                                 376   \n",
       "Credit reporting, credit repair services, or ot...                          125   \n",
       "Debt collection                                                              89   \n",
       "Money transfer, virtual currency, or money service                          305   \n",
       "Mortgage                                                                     67   \n",
       "Payday loan, title loan, or personal loan                                    38   \n",
       "Student loan                                                                  2   \n",
       "Vehicle loan or lease                                                        13   \n",
       "\n",
       "                                                    Consumer Loan  \\\n",
       "Bank account or service                                        29   \n",
       "Checking or savings account                                     6   \n",
       "Consumer Loan                                                1014   \n",
       "Credit card or prepaid card                                    18   \n",
       "Credit reporting, credit repair services, or ot...            132   \n",
       "Debt collection                                               140   \n",
       "Money transfer, virtual currency, or money service              4   \n",
       "Mortgage                                                       13   \n",
       "Payday loan, title loan, or personal loan                      74   \n",
       "Student loan                                                   11   \n",
       "Vehicle loan or lease                                         507   \n",
       "\n",
       "                                                    Credit card or prepaid card  \\\n",
       "Bank account or service                                                     429   \n",
       "Checking or savings account                                                 354   \n",
       "Consumer Loan                                                               131   \n",
       "Credit card or prepaid card                                               12757   \n",
       "Credit reporting, credit repair services, or ot...                         1142   \n",
       "Debt collection                                                             593   \n",
       "Money transfer, virtual currency, or money service                          187   \n",
       "Mortgage                                                                    101   \n",
       "Payday loan, title loan, or personal loan                                   134   \n",
       "Student loan                                                                 43   \n",
       "Vehicle loan or lease                                                        74   \n",
       "\n",
       "                                                    Credit reporting, credit repair services, or other personal consumer reports  \\\n",
       "Bank account or service                                                                           151                              \n",
       "Checking or savings account                                                                       132                              \n",
       "Consumer Loan                                                                                     463                              \n",
       "Credit card or prepaid card                                                                      1245                              \n",
       "Credit reporting, credit repair services, or ot...                                              47389                              \n",
       "Debt collection                                                                                  2813                              \n",
       "Money transfer, virtual currency, or money service                                                 38                              \n",
       "Mortgage                                                                                          574                              \n",
       "Payday loan, title loan, or personal loan                                                         170                              \n",
       "Student loan                                                                                      397                              \n",
       "Vehicle loan or lease                                                                             468                              \n",
       "\n",
       "                                                    Debt collection  \\\n",
       "Bank account or service                                         123   \n",
       "Checking or savings account                                     118   \n",
       "Consumer Loan                                                   366   \n",
       "Credit card or prepaid card                                     759   \n",
       "Credit reporting, credit repair services, or ot...             2973   \n",
       "Debt collection                                               27153   \n",
       "Money transfer, virtual currency, or money service               61   \n",
       "Mortgage                                                        340   \n",
       "Payday loan, title loan, or personal loan                       370   \n",
       "Student loan                                                    354   \n",
       "Vehicle loan or lease                                           152   \n",
       "\n",
       "                                                    Money transfer, virtual currency, or money service  \\\n",
       "Bank account or service                                                                           168    \n",
       "Checking or savings account                                                                       236    \n",
       "Consumer Loan                                                                                       4    \n",
       "Credit card or prepaid card                                                                       121    \n",
       "Credit reporting, credit repair services, or ot...                                                 18    \n",
       "Debt collection                                                                                    44    \n",
       "Money transfer, virtual currency, or money service                                               2061    \n",
       "Mortgage                                                                                           11    \n",
       "Payday loan, title loan, or personal loan                                                          18    \n",
       "Student loan                                                                                        5    \n",
       "Vehicle loan or lease                                                                               6    \n",
       "\n",
       "                                                    Mortgage  \\\n",
       "Bank account or service                                  164   \n",
       "Checking or savings account                               39   \n",
       "Consumer Loan                                            101   \n",
       "Credit card or prepaid card                               65   \n",
       "Credit reporting, credit repair services, or ot...       493   \n",
       "Debt collection                                          436   \n",
       "Money transfer, virtual currency, or money service        31   \n",
       "Mortgage                                               17347   \n",
       "Payday loan, title loan, or personal loan                 92   \n",
       "Student loan                                              41   \n",
       "Vehicle loan or lease                                     38   \n",
       "\n",
       "                                                    Payday loan, title loan, or personal loan  \\\n",
       "Bank account or service                                                                    29   \n",
       "Checking or savings account                                                                27   \n",
       "Consumer Loan                                                                             412   \n",
       "Credit card or prepaid card                                                                58   \n",
       "Credit reporting, credit repair services, or ot...                                        121   \n",
       "Debt collection                                                                           299   \n",
       "Money transfer, virtual currency, or money service                                         22   \n",
       "Mortgage                                                                                   84   \n",
       "Payday loan, title loan, or personal loan                                                1449   \n",
       "Student loan                                                                               66   \n",
       "Vehicle loan or lease                                                                     105   \n",
       "\n",
       "                                                    Student loan  \\\n",
       "Bank account or service                                        7   \n",
       "Checking or savings account                                    5   \n",
       "Consumer Loan                                                 21   \n",
       "Credit card or prepaid card                                   25   \n",
       "Credit reporting, credit repair services, or ot...           358   \n",
       "Debt collection                                              403   \n",
       "Money transfer, virtual currency, or money service            14   \n",
       "Mortgage                                                      55   \n",
       "Payday loan, title loan, or personal loan                     45   \n",
       "Student loan                                                6525   \n",
       "Vehicle loan or lease                                         12   \n",
       "\n",
       "                                                    Vehicle loan or lease  \n",
       "Bank account or service                                                 9  \n",
       "Checking or savings account                                            11  \n",
       "Consumer Loan                                                         352  \n",
       "Credit card or prepaid card                                            17  \n",
       "Credit reporting, credit repair services, or ot...                    171  \n",
       "Debt collection                                                       104  \n",
       "Money transfer, virtual currency, or money service                      6  \n",
       "Mortgage                                                               16  \n",
       "Payday loan, title loan, or personal loan                              57  \n",
       "Student loan                                                            9  \n",
       "Vehicle loan or lease                                                1055  "
      ]
     },
     "execution_count": 37,
     "metadata": {},
     "output_type": "execute_result"
    }
   ],
   "source": [
    "from sklearn.metrics import confusion_matrix\n",
    "y_pred = model.predict(X_test)\n",
    "\n",
    "pd.DataFrame(confusion_matrix(Y_test.argmax(axis=1), \n",
    "                              y_pred.argmax(axis=1)),\n",
    "             index=labels, columns=labels)"
   ]
  },
  {
   "cell_type": "code",
   "execution_count": 31,
   "metadata": {},
   "outputs": [
    {
     "name": "stdout",
     "output_type": "stream",
     "text": [
      "              precision    recall  f1-score   support\n",
      "\n",
      "           0       0.58      0.38      0.46      4455\n",
      "           1       0.60      0.70      0.65      5712\n",
      "           2       0.52      0.35      0.42      2882\n",
      "           3       0.80      0.81      0.81     15679\n",
      "           4       0.88      0.89      0.89     52963\n",
      "           5       0.83      0.85      0.84     32118\n",
      "           6       0.77      0.74      0.75      2778\n",
      "           7       0.92      0.93      0.93     18638\n",
      "           8       0.54      0.59      0.56      2467\n",
      "           9       0.87      0.87      0.87      7462\n",
      "          10       0.58      0.43      0.50      2435\n",
      "\n",
      "    accuracy                           0.83    147589\n",
      "   macro avg       0.72      0.69      0.70    147589\n",
      "weighted avg       0.83      0.83      0.83    147589\n",
      "\n"
     ]
    }
   ],
   "source": [
    "from sklearn.metrics import classification_report\n",
    "\n",
    "print(classification_report(y_true=Y_test.argmax(axis=1), \n",
    "                            y_pred=y_pred.argmax(axis=1)))"
   ]
  },
  {
   "cell_type": "code",
   "execution_count": 36,
   "metadata": {},
   "outputs": [
    {
     "data": {
      "text/html": [
       "<div>\n",
       "<style scoped>\n",
       "    .dataframe tbody tr th:only-of-type {\n",
       "        vertical-align: middle;\n",
       "    }\n",
       "\n",
       "    .dataframe tbody tr th {\n",
       "        vertical-align: top;\n",
       "    }\n",
       "\n",
       "    .dataframe thead th {\n",
       "        text-align: right;\n",
       "    }\n",
       "</style>\n",
       "<table border=\"1\" class=\"dataframe\">\n",
       "  <thead>\n",
       "    <tr style=\"text-align: right;\">\n",
       "      <th></th>\n",
       "      <th>Index</th>\n",
       "      <th>Class</th>\n",
       "    </tr>\n",
       "  </thead>\n",
       "  <tbody>\n",
       "    <tr>\n",
       "      <th>0</th>\n",
       "      <td>0</td>\n",
       "      <td>Bank account or service</td>\n",
       "    </tr>\n",
       "    <tr>\n",
       "      <th>1</th>\n",
       "      <td>1</td>\n",
       "      <td>Checking or savings account</td>\n",
       "    </tr>\n",
       "    <tr>\n",
       "      <th>2</th>\n",
       "      <td>2</td>\n",
       "      <td>Consumer Loan</td>\n",
       "    </tr>\n",
       "    <tr>\n",
       "      <th>3</th>\n",
       "      <td>3</td>\n",
       "      <td>Credit card or prepaid card</td>\n",
       "    </tr>\n",
       "    <tr>\n",
       "      <th>4</th>\n",
       "      <td>4</td>\n",
       "      <td>Credit reporting, credit repair services, or o...</td>\n",
       "    </tr>\n",
       "    <tr>\n",
       "      <th>5</th>\n",
       "      <td>5</td>\n",
       "      <td>Debt collection</td>\n",
       "    </tr>\n",
       "    <tr>\n",
       "      <th>6</th>\n",
       "      <td>6</td>\n",
       "      <td>Money transfer, virtual currency, or money ser...</td>\n",
       "    </tr>\n",
       "    <tr>\n",
       "      <th>7</th>\n",
       "      <td>7</td>\n",
       "      <td>Mortgage</td>\n",
       "    </tr>\n",
       "    <tr>\n",
       "      <th>8</th>\n",
       "      <td>8</td>\n",
       "      <td>Payday loan, title loan, or personal loan</td>\n",
       "    </tr>\n",
       "    <tr>\n",
       "      <th>9</th>\n",
       "      <td>9</td>\n",
       "      <td>Student loan</td>\n",
       "    </tr>\n",
       "    <tr>\n",
       "      <th>10</th>\n",
       "      <td>10</td>\n",
       "      <td>Vehicle loan or lease</td>\n",
       "    </tr>\n",
       "  </tbody>\n",
       "</table>\n",
       "</div>"
      ],
      "text/plain": [
       "    Index                                              Class\n",
       "0       0                            Bank account or service\n",
       "1       1                        Checking or savings account\n",
       "2       2                                      Consumer Loan\n",
       "3       3                        Credit card or prepaid card\n",
       "4       4  Credit reporting, credit repair services, or o...\n",
       "5       5                                    Debt collection\n",
       "6       6  Money transfer, virtual currency, or money ser...\n",
       "7       7                                           Mortgage\n",
       "8       8          Payday loan, title loan, or personal loan\n",
       "9       9                                       Student loan\n",
       "10     10                              Vehicle loan or lease"
      ]
     },
     "execution_count": 36,
     "metadata": {},
     "output_type": "execute_result"
    }
   ],
   "source": [
    "import numpy as np\n",
    "pd.DataFrame({'Index':np.arange(0,11,1),'Class':labels})"
   ]
  },
  {
   "cell_type": "markdown",
   "metadata": {},
   "source": [
    "# 6. Test with new complaint"
   ]
  },
  {
   "cell_type": "code",
   "execution_count": 34,
   "metadata": {},
   "outputs": [
    {
     "name": "stdout",
     "output_type": "stream",
     "text": [
      "[[1.4598100e-03 8.8243774e-05 1.0472081e-03 6.0864016e-02 9.1706002e-03\n",
      "  9.2713857e-01 5.4726792e-05 2.6461017e-05 7.1213872e-05 5.5882549e-05\n",
      "  2.3271597e-05]] Debt collection\n"
     ]
    }
   ],
   "source": [
    "import numpy as np\n",
    "new_complaint = ['I am a victim of identity theft and someone stole my identity and personal information to open up a Visa credit card account with Bank of America. The following Bank of America Visa credit card account do not belong to me : XXXX.']\n",
    "seq = tokenizer.texts_to_sequences(new_complaint)\n",
    "padded = pad_sequences(seq, maxlen=MAX_SEQUENCE_LENGTH)\n",
    "pred = model.predict(padded)\n",
    "labels = pd.get_dummies(df['topic']).columns.values\n",
    "print(pred, labels[np.argmax(pred)])"
   ]
  },
  {
   "cell_type": "code",
   "execution_count": 35,
   "metadata": {},
   "outputs": [
    {
     "name": "stdout",
     "output_type": "stream",
     "text": [
      "[[4.5226485e-02 3.6985632e-02 5.2581221e-04 1.2845859e-01 4.0414776e-03\n",
      "  1.3672149e-02 7.6818508e-01 6.1169863e-05 2.3590226e-03 4.4885266e-04\n",
      "  3.5717378e-05]] Money transfer, virtual currency, or money service\n"
     ]
    }
   ],
   "source": [
    "new_complaint = ['sold access event digitally screenshots detail transactions transferred money provided fake ticket reported paypal amount  including  fee paypal occured  paypal user gave two accounts']\n",
    "seq = tokenizer.texts_to_sequences(new_complaint)\n",
    "padded = pad_sequences(seq, maxlen=MAX_SEQUENCE_LENGTH)\n",
    "pred = model.predict(padded)\n",
    "labels = pd.get_dummies(df['topic']).columns.values\n",
    "print(pred, labels[np.argmax(pred)])"
   ]
  },
  {
   "cell_type": "markdown",
   "metadata": {},
   "source": [
    "# 7. Bi-directional LSTM"
   ]
  },
  {
   "cell_type": "code",
   "execution_count": 31,
   "metadata": {},
   "outputs": [
    {
     "name": "stdout",
     "output_type": "stream",
     "text": [
      "WARNING:tensorflow:From <ipython-input-31-d733bc6b19c1>:3: is_gpu_available (from tensorflow.python.framework.test_util) is deprecated and will be removed in a future version.\n",
      "Instructions for updating:\n",
      "Use `tf.config.list_physical_devices('GPU')` instead.\n",
      "False <tensorflow.python.eager.context._EagerDeviceContext object at 0x00000158E27BE1C0>\n"
     ]
    }
   ],
   "source": [
    "import keras\n",
    "import tensorflow as tf\n",
    "print(tf.test.is_gpu_available(), tf.device('GPU'))"
   ]
  },
  {
   "cell_type": "code",
   "execution_count": null,
   "metadata": {},
   "outputs": [],
   "source": [
    "from tensorflow.keras.models import Sequential\n",
    "from tensorflow.keras.layers import Embedding, SpatialDropout1D, LSTM, Dense, Bidirectional\n",
    "from tensorflow.keras.callbacks import EarlyStopping\n",
    "\n",
    "model = Sequential()\n",
    "model.add(Embedding(MAX_NB_WORDS, EMBEDDING_DIM, input_length=X.shape[1]))\n",
    "model.add(SpatialDropout1D(0.2))\n",
    "model.add(Bidirectional(LSTM(100, dropout=0.2, recurrent_dropout=0.2)))\n",
    "model.add(Dense(11, activation='softmax'))\n",
    "model.compile(loss='categorical_crossentropy', \n",
    "              optimizer='adam', metrics=['accuracy'])\n",
    "\n",
    "epochs = 5\n",
    "batch_size = 64\n",
    "\n",
    "history = model.fit(X_train, Y_train, \n",
    "                    epochs=epochs, \n",
    "                    batch_size=batch_size,\n",
    "                    validation_split=0.1,\n",
    "                    callbacks=[EarlyStopping(monitor='val_loss', \n",
    "                                             patience=3, \n",
    "                                             min_delta=0.0001)])\n"
   ]
  }
 ],
 "metadata": {
  "kernelspec": {
   "display_name": "Textanalytic",
   "language": "python",
   "name": "textanalytic"
  },
  "language_info": {
   "codemirror_mode": {
    "name": "ipython",
    "version": 3
   },
   "file_extension": ".py",
   "mimetype": "text/x-python",
   "name": "python",
   "nbconvert_exporter": "python",
   "pygments_lexer": "ipython3",
   "version": "3.8.8"
  }
 },
 "nbformat": 4,
 "nbformat_minor": 2
}
