{
 "cells": [
  {
   "cell_type": "code",
   "execution_count": 2,
   "id": "7d15e7f5",
   "metadata": {},
   "outputs": [
    {
     "name": "stderr",
     "output_type": "stream",
     "text": [
      "[nltk_data] Downloading package stopwords to\n",
      "[nltk_data]     C:\\Users\\66885\\AppData\\Roaming\\nltk_data...\n",
      "[nltk_data]   Package stopwords is already up-to-date!\n"
     ]
    },
    {
     "data": {
      "text/plain": [
       "True"
      ]
     },
     "execution_count": 2,
     "metadata": {},
     "output_type": "execute_result"
    }
   ],
   "source": [
    "import pandas as pd\n",
    "import matplotlib.pyplot as plt\n",
    "\n",
    "import nltk\n",
    "from nltk.corpus import stopwords\n",
    "nltk.download('stopwords')"
   ]
  },
  {
   "cell_type": "code",
   "execution_count": 3,
   "id": "e4046dd1",
   "metadata": {},
   "outputs": [],
   "source": [
    "df = pd.read_pickle('consumer_complaint_dataset.data', compression='gzip')"
   ]
  },
  {
   "cell_type": "code",
   "execution_count": 4,
   "id": "c64e970b",
   "metadata": {},
   "outputs": [
    {
     "data": {
      "text/plain": [
       "['Debt collection',\n",
       " 'Credit reporting, credit repair services, or other personal consumer reports',\n",
       " 'Money transfer, virtual currency, or money service',\n",
       " 'Mortgage',\n",
       " 'Student loan',\n",
       " 'Vehicle loan or lease',\n",
       " 'Checking or savings account',\n",
       " 'Credit card or prepaid card',\n",
       " 'Credit card',\n",
       " 'Payday loan, title loan, or personal loan',\n",
       " 'Consumer Loan',\n",
       " 'Payday loan',\n",
       " 'Bank account or service',\n",
       " 'Credit reporting',\n",
       " 'Other financial service',\n",
       " 'Prepaid card',\n",
       " 'Money transfers',\n",
       " 'Virtual currency']"
      ]
     },
     "execution_count": 4,
     "metadata": {},
     "output_type": "execute_result"
    }
   ],
   "source": [
    "topic_unique = list(df[\"topic\"].unique())\n",
    "topic_unique"
   ]
  },
  {
   "cell_type": "code",
   "execution_count": 5,
   "id": "0d6d47ce",
   "metadata": {},
   "outputs": [
    {
     "data": {
      "text/plain": [
       "0         transworld systems inc. \\nis trying to collect...\n",
       "1         I would like to request the suppression of the...\n",
       "2         Over the past 2 weeks, I have been receiving e...\n",
       "3         I HAD FILED WITH CFPB ON XX/XX/XXXX19 TO HAVE ...\n",
       "4         I have several accounts that the balance is in...\n",
       "                                ...                        \n",
       "492250    I was on automatic payment for my car loan. In...\n",
       "492251    I recieved a collections call from an unknown ...\n",
       "492252    On XXXX XXXX, 2015, I contacted XXXX XXXX, who...\n",
       "492253    I can not get from chase who services my mortg...\n",
       "492254    I made a payment to CITI XXXX Credit Card on X...\n",
       "Name: input, Length: 492255, dtype: object"
      ]
     },
     "execution_count": 5,
     "metadata": {},
     "output_type": "execute_result"
    }
   ],
   "source": [
    "df[\"input\"]"
   ]
  },
  {
   "cell_type": "markdown",
   "id": "3ff6f029",
   "metadata": {},
   "source": [
    "## Cleaning text"
   ]
  },
  {
   "cell_type": "code",
   "execution_count": 6,
   "id": "44d86f34",
   "metadata": {},
   "outputs": [
    {
     "name": "stderr",
     "output_type": "stream",
     "text": [
      "<ipython-input-6-89ef6f99f93e>:24: FutureWarning: The default value of regex will change from True to False in a future version.\n",
      "  df['input'] = df['input'].str.replace('\\d+', '')\n"
     ]
    }
   ],
   "source": [
    "import re\n",
    "\n",
    "REPLACE_BY_SPACE_RE = re.compile('[/(){}\\[\\]\\|@,;]')\n",
    "BAD_SYMBOLS_RE = re.compile('[^0-9a-z #+_]')\n",
    "STOPWORDS = set(stopwords.words('english'))\n",
    "\n",
    "def clean_text(text):\n",
    "    \"\"\"\n",
    "        text: a string\n",
    "        \n",
    "        return: modified initial string\n",
    "    \"\"\"\n",
    "    text = text.lower() # lowercase text\n",
    "    text = REPLACE_BY_SPACE_RE.sub(' ', text) # replace REPLACE_BY_SPACE_RE symbols by space in text. substitute the matched string in REPLACE_BY_SPACE_RE with space.\n",
    "    text = BAD_SYMBOLS_RE.sub('', text) # remove symbols which are in BAD_SYMBOLS_RE from text. substitute the matched string in BAD_SYMBOLS_RE with nothing. \n",
    "    text = text.replace('x', '')\n",
    "#    text = re.sub(r'\\W+', '', text)\n",
    "    text = ' '.join(word for word in text.split() if word not in STOPWORDS) # remove stopwors from text\n",
    "    return text\n",
    "\n",
    "df['input'] = df['input'].apply(clean_text)\n",
    "\n",
    "# Remove groups of numerical sequences with whitespace\n",
    "df['input'] = df['input'].str.replace('\\d+', '')"
   ]
  },
  {
   "cell_type": "code",
   "execution_count": 7,
   "id": "8b9fc286",
   "metadata": {},
   "outputs": [],
   "source": [
    "data = df[\"input\"][0:10000]"
   ]
  },
  {
   "cell_type": "code",
   "execution_count": 8,
   "id": "944643e4",
   "metadata": {},
   "outputs": [],
   "source": [
    "from sklearn.feature_extraction.text import TfidfVectorizer\n",
    "vectorizer = TfidfVectorizer(max_df=0.5, max_features=2000,\n",
    "                                 min_df=2,use_idf=True)\n",
    "X = vectorizer.fit_transform(data)"
   ]
  },
  {
   "cell_type": "code",
   "execution_count": 9,
   "id": "8b2f241e",
   "metadata": {},
   "outputs": [],
   "source": [
    "from sklearn.cluster import KMeans\n",
    "km = KMeans(n_clusters=len(topic_unique), max_iter=100, n_init=55, n_jobs=-1)"
   ]
  },
  {
   "cell_type": "code",
   "execution_count": 10,
   "id": "5c83b512",
   "metadata": {
    "scrolled": true
   },
   "outputs": [
    {
     "name": "stderr",
     "output_type": "stream",
     "text": [
      "C:\\Users\\66885\\anaconda3\\lib\\site-packages\\sklearn\\cluster\\_kmeans.py:792: FutureWarning: 'n_jobs' was deprecated in version 0.23 and will be removed in 1.0 (renaming of 0.25).\n",
      "  warnings.warn(\"'n_jobs' was deprecated in version 0.23 and will be\"\n"
     ]
    },
    {
     "data": {
      "text/plain": [
       "KMeans(max_iter=100, n_clusters=18, n_init=55, n_jobs=-1)"
      ]
     },
     "execution_count": 10,
     "metadata": {},
     "output_type": "execute_result"
    }
   ],
   "source": [
    "km.fit(X)"
   ]
  },
  {
   "cell_type": "code",
   "execution_count": 11,
   "id": "bd4f6824",
   "metadata": {},
   "outputs": [],
   "source": [
    "order_centroids = km.cluster_centers_.argsort()[:, ::-1]"
   ]
  },
  {
   "cell_type": "code",
   "execution_count": 12,
   "id": "08928286",
   "metadata": {},
   "outputs": [
    {
     "data": {
      "text/plain": [
       "array([[0.00531037, 0.0039725 , 0.00078712, ..., 0.00793773, 0.00038612,\n",
       "        0.00116101],\n",
       "       [0.00291574, 0.00742936, 0.00109447, ..., 0.00564301, 0.        ,\n",
       "        0.00420447],\n",
       "       [0.00340815, 0.01108831, 0.00192987, ..., 0.00931645, 0.        ,\n",
       "        0.        ],\n",
       "       ...,\n",
       "       [0.00168   , 0.01100783, 0.0025929 , ..., 0.00726653, 0.00206155,\n",
       "        0.00157032],\n",
       "       [0.        , 0.        , 0.        , ..., 0.        , 0.        ,\n",
       "        0.        ],\n",
       "       [0.00525593, 0.00790671, 0.00174   , ..., 0.00415915, 0.        ,\n",
       "        0.00028131]])"
      ]
     },
     "execution_count": 12,
     "metadata": {},
     "output_type": "execute_result"
    }
   ],
   "source": [
    "km.cluster_centers_"
   ]
  },
  {
   "cell_type": "code",
   "execution_count": 13,
   "id": "ad6782be",
   "metadata": {},
   "outputs": [
    {
     "data": {
      "text/plain": [
       "array([[  14, 1506, 1508, ...,  325, 1731, 1106],\n",
       "       [1255,  213,  337, ..., 1376,  586, 1257],\n",
       "       [ 639, 1506,  912, ...,  474, 1306, 1999],\n",
       "       ...,\n",
       "       [ 296,  259,   14, ..., 1430, 1446, 1015],\n",
       "       [1270,  576, 1508, ..., 1328, 1329,    0],\n",
       "       [ 984, 1275, 1276, ..., 1113, 1111, 1287]], dtype=int64)"
      ]
     },
     "execution_count": 13,
     "metadata": {},
     "output_type": "execute_result"
    }
   ],
   "source": [
    "order_centroids"
   ]
  },
  {
   "cell_type": "code",
   "execution_count": 20,
   "id": "ebdd178a",
   "metadata": {},
   "outputs": [
    {
     "name": "stdout",
     "output_type": "stream",
     "text": [
      "Cluster 0 : Debt collection\n",
      "Cluster 1 : Credit reporting, credit repair services, or other personal consumer reports\n",
      "Cluster 2 : Money transfer, virtual currency, or money service\n",
      "Cluster 3 : Mortgage\n",
      "Cluster 4 : Student loan\n",
      "Cluster 5 : Vehicle loan or lease\n",
      "Cluster 6 : Checking or savings account\n",
      "Cluster 7 : Credit card or prepaid card\n",
      "Cluster 8 : Credit card\n",
      "Cluster 9 : Payday loan, title loan, or personal loan\n",
      "Cluster 10 : Consumer Loan\n",
      "Cluster 11 : Payday loan\n",
      "Cluster 12 : Bank account or service\n",
      "Cluster 13 : Credit reporting\n",
      "Cluster 14 : Other financial service\n",
      "Cluster 15 : Prepaid card\n",
      "Cluster 16 : Money transfers\n",
      "Cluster 17 : Virtual currency\n"
     ]
    }
   ],
   "source": [
    "for name in range(len(topic_unique)):\n",
    "    print(\"Cluster %d :\" % name ,topic_unique[name])"
   ]
  },
  {
   "cell_type": "code",
   "execution_count": 14,
   "id": "49e7fdc4",
   "metadata": {},
   "outputs": [
    {
     "name": "stdout",
     "output_type": "stream",
     "text": [
      "Cluster 0: account report reporting opened removed closed balance collection company information\n",
      "Cluster 1: paid bill collection insurance full account balance amount debt report\n",
      "Cluster 2: equifa report information account reporting dispute accounts file removed tried\n",
      "Cluster 3: information reporting report bankruptcy inaccurate bureaus eperian sent letter transunion\n",
      "Cluster 4: consumer agency shall block section information theft identity reporting subsection\n",
      "Cluster 5: loan loans student payments navient interest payment would pay told\n",
      "Cluster 6: report company call inquiries number never phone information called get\n",
      "Cluster 7: theft identity victim report information fraudulent accounts items account result\n",
      "Cluster 8: debt collection company letter validation report collect account owe alleged\n",
      "Cluster 9: bank account money check funds told america paypal would checking\n",
      "Cluster 10: payment mortgage payments loan would made pay month account escrow\n",
      "Cluster 11: inquiry hard unauthorized inquiries report remove company authorize fraudulent removed\n",
      "Cluster 12: card account one capital charges balance would called told epress\n",
      "Cluster 13: wells fargo account bank card money mortgage loan payment check\n",
      "Cluster 14: accounts reporting report fcra original section removed file proof please\n",
      "Cluster 15: chase card account bank dispute would told called money letter\n",
      "Cluster 16: past due reporting harming please nothing impossible coding incorrectly account\n",
      "Cluster 17: late payment payments days report account reporting never made reported\n"
     ]
    }
   ],
   "source": [
    "terms = vectorizer.get_feature_names()\n",
    "for i in range(len(topic_unique)):\n",
    "    print(\"Cluster %d:\" % i, end='')\n",
    "    for ind in order_centroids[i, :10]:\n",
    "        print(' %s' % terms[ind], end='')\n",
    "    print()"
   ]
  }
 ],
 "metadata": {
  "kernelspec": {
   "display_name": "Textanalytic",
   "language": "python",
   "name": "textanalytic"
  },
  "language_info": {
   "codemirror_mode": {
    "name": "ipython",
    "version": 3
   },
   "file_extension": ".py",
   "mimetype": "text/x-python",
   "name": "python",
   "nbconvert_exporter": "python",
   "pygments_lexer": "ipython3",
   "version": "3.8.8"
  }
 },
 "nbformat": 4,
 "nbformat_minor": 5
}
