{
 "cells": [
  {
   "cell_type": "markdown",
   "metadata": {},
   "source": [
    "<img src=\"http://bigdataexperience.org/BX/wp-content/uploads/2016/05/BX-FULL.png\" width=\"200\" height=\"200\" alt=\"Big Data Experience Center, King Mongkut's University of Technology Thonburi\">"
   ]
  },
  {
   "cell_type": "markdown",
   "metadata": {},
   "source": [
    "# <center>Text Analytics</center>\n",
    "# <center>Lecture 6 - Word Representation 2</center>\n",
    "---"
   ]
  },
  {
   "cell_type": "markdown",
   "metadata": {},
   "source": [
    "# 1. WordNet"
   ]
  },
  {
   "cell_type": "code",
   "execution_count": 1,
   "metadata": {},
   "outputs": [
    {
     "name": "stderr",
     "output_type": "stream",
     "text": [
      "[nltk_data] Downloading package wordnet to\n",
      "[nltk_data]     C:\\Users\\66885\\AppData\\Roaming\\nltk_data...\n",
      "[nltk_data]   Package wordnet is already up-to-date!\n"
     ]
    },
    {
     "data": {
      "text/plain": [
       "True"
      ]
     },
     "execution_count": 1,
     "metadata": {},
     "output_type": "execute_result"
    }
   ],
   "source": [
    "import nltk\n",
    "nltk.download('wordnet')"
   ]
  },
  {
   "cell_type": "code",
   "execution_count": 2,
   "metadata": {},
   "outputs": [
    {
     "name": "stdout",
     "output_type": "stream",
     "text": [
      "noun: good\n",
      "noun: good, goodness\n",
      "noun: good, goodness\n",
      "noun: commodity, trade_good, good\n",
      "adj: good\n",
      "adj (s): full, good\n",
      "adj: good\n",
      "adj (s): estimable, good, honorable, respectable\n",
      "adj (s): beneficial, good\n",
      "adj (s): good\n",
      "adj (s): good, just, upright\n",
      "adj (s): adept, expert, good, practiced, proficient, skillful, skilful\n",
      "adj (s): good\n",
      "adj (s): dear, good, near\n",
      "adj (s): dependable, good, safe, secure\n",
      "adj (s): good, right, ripe\n",
      "adj (s): good, well\n",
      "adj (s): effective, good, in_effect, in_force\n",
      "adj (s): good\n",
      "adj (s): good, serious\n",
      "adj (s): good, sound\n",
      "adj (s): good, salutary\n",
      "adj (s): good, honest\n",
      "adj (s): good, undecomposed, unspoiled, unspoilt\n",
      "adj (s): good\n",
      "adv: well, good\n",
      "adv: thoroughly, soundly, good\n"
     ]
    }
   ],
   "source": [
    "from nltk.corpus import wordnet as wn\n",
    "poses = { 'n':'noun', 'v':'verb', 's':'adj (s)', \n",
    "          'a':'adj', 'r':'adv'}\n",
    "for synset in wn.synsets(\"good\"):\n",
    "    print(\"{}: {}\".format(poses[synset.pos()],\n",
    "        \", \".join([l.name() for l in synset.lemmas()])))"
   ]
  },
  {
   "cell_type": "code",
   "execution_count": 3,
   "metadata": {},
   "outputs": [
    {
     "data": {
      "text/plain": [
       "[Synset('procyonid.n.01'),\n",
       " Synset('carnivore.n.01'),\n",
       " Synset('placental.n.01'),\n",
       " Synset('mammal.n.01'),\n",
       " Synset('vertebrate.n.01'),\n",
       " Synset('chordate.n.01'),\n",
       " Synset('animal.n.01'),\n",
       " Synset('organism.n.01'),\n",
       " Synset('living_thing.n.01'),\n",
       " Synset('whole.n.02'),\n",
       " Synset('object.n.01'),\n",
       " Synset('physical_entity.n.01'),\n",
       " Synset('entity.n.01')]"
      ]
     },
     "execution_count": 3,
     "metadata": {},
     "output_type": "execute_result"
    }
   ],
   "source": [
    "from nltk.corpus import wordnet as wn\n",
    "panda = wn.synset(\"panda.n.01\")\n",
    "hyper = lambda s: s.hypernyms()\n",
    "list(panda.closure(hyper))"
   ]
  },
  {
   "cell_type": "markdown",
   "metadata": {},
   "source": [
    "# 2. Training SkipGram model"
   ]
  },
  {
   "cell_type": "markdown",
   "metadata": {},
   "source": [
    "## 2.1 Load data"
   ]
  },
  {
   "cell_type": "code",
   "execution_count": 4,
   "metadata": {
    "scrolled": true
   },
   "outputs": [
    {
     "data": {
      "text/html": [
       "<div>\n",
       "<style scoped>\n",
       "    .dataframe tbody tr th:only-of-type {\n",
       "        vertical-align: middle;\n",
       "    }\n",
       "\n",
       "    .dataframe tbody tr th {\n",
       "        vertical-align: top;\n",
       "    }\n",
       "\n",
       "    .dataframe thead th {\n",
       "        text-align: right;\n",
       "    }\n",
       "</style>\n",
       "<table border=\"1\" class=\"dataframe\">\n",
       "  <thead>\n",
       "    <tr style=\"text-align: right;\">\n",
       "      <th></th>\n",
       "      <th>Make</th>\n",
       "      <th>Model</th>\n",
       "      <th>Year</th>\n",
       "      <th>Engine Fuel Type</th>\n",
       "      <th>Engine HP</th>\n",
       "      <th>Engine Cylinders</th>\n",
       "      <th>Transmission Type</th>\n",
       "      <th>Driven_Wheels</th>\n",
       "      <th>Number of Doors</th>\n",
       "      <th>Market Category</th>\n",
       "      <th>Vehicle Size</th>\n",
       "      <th>Vehicle Style</th>\n",
       "      <th>highway MPG</th>\n",
       "      <th>city mpg</th>\n",
       "      <th>Popularity</th>\n",
       "      <th>MSRP</th>\n",
       "    </tr>\n",
       "  </thead>\n",
       "  <tbody>\n",
       "    <tr>\n",
       "      <th>0</th>\n",
       "      <td>BMW</td>\n",
       "      <td>1 Series M</td>\n",
       "      <td>2011</td>\n",
       "      <td>premium unleaded (required)</td>\n",
       "      <td>335.0</td>\n",
       "      <td>6.0</td>\n",
       "      <td>MANUAL</td>\n",
       "      <td>rear wheel drive</td>\n",
       "      <td>2.0</td>\n",
       "      <td>Factory Tuner,Luxury,High-Performance</td>\n",
       "      <td>Compact</td>\n",
       "      <td>Coupe</td>\n",
       "      <td>26</td>\n",
       "      <td>19</td>\n",
       "      <td>3916</td>\n",
       "      <td>46135</td>\n",
       "    </tr>\n",
       "    <tr>\n",
       "      <th>1</th>\n",
       "      <td>BMW</td>\n",
       "      <td>1 Series</td>\n",
       "      <td>2011</td>\n",
       "      <td>premium unleaded (required)</td>\n",
       "      <td>300.0</td>\n",
       "      <td>6.0</td>\n",
       "      <td>MANUAL</td>\n",
       "      <td>rear wheel drive</td>\n",
       "      <td>2.0</td>\n",
       "      <td>Luxury,Performance</td>\n",
       "      <td>Compact</td>\n",
       "      <td>Convertible</td>\n",
       "      <td>28</td>\n",
       "      <td>19</td>\n",
       "      <td>3916</td>\n",
       "      <td>40650</td>\n",
       "    </tr>\n",
       "    <tr>\n",
       "      <th>2</th>\n",
       "      <td>BMW</td>\n",
       "      <td>1 Series</td>\n",
       "      <td>2011</td>\n",
       "      <td>premium unleaded (required)</td>\n",
       "      <td>300.0</td>\n",
       "      <td>6.0</td>\n",
       "      <td>MANUAL</td>\n",
       "      <td>rear wheel drive</td>\n",
       "      <td>2.0</td>\n",
       "      <td>Luxury,High-Performance</td>\n",
       "      <td>Compact</td>\n",
       "      <td>Coupe</td>\n",
       "      <td>28</td>\n",
       "      <td>20</td>\n",
       "      <td>3916</td>\n",
       "      <td>36350</td>\n",
       "    </tr>\n",
       "    <tr>\n",
       "      <th>3</th>\n",
       "      <td>BMW</td>\n",
       "      <td>1 Series</td>\n",
       "      <td>2011</td>\n",
       "      <td>premium unleaded (required)</td>\n",
       "      <td>230.0</td>\n",
       "      <td>6.0</td>\n",
       "      <td>MANUAL</td>\n",
       "      <td>rear wheel drive</td>\n",
       "      <td>2.0</td>\n",
       "      <td>Luxury,Performance</td>\n",
       "      <td>Compact</td>\n",
       "      <td>Coupe</td>\n",
       "      <td>28</td>\n",
       "      <td>18</td>\n",
       "      <td>3916</td>\n",
       "      <td>29450</td>\n",
       "    </tr>\n",
       "    <tr>\n",
       "      <th>4</th>\n",
       "      <td>BMW</td>\n",
       "      <td>1 Series</td>\n",
       "      <td>2011</td>\n",
       "      <td>premium unleaded (required)</td>\n",
       "      <td>230.0</td>\n",
       "      <td>6.0</td>\n",
       "      <td>MANUAL</td>\n",
       "      <td>rear wheel drive</td>\n",
       "      <td>2.0</td>\n",
       "      <td>Luxury</td>\n",
       "      <td>Compact</td>\n",
       "      <td>Convertible</td>\n",
       "      <td>28</td>\n",
       "      <td>18</td>\n",
       "      <td>3916</td>\n",
       "      <td>34500</td>\n",
       "    </tr>\n",
       "  </tbody>\n",
       "</table>\n",
       "</div>"
      ],
      "text/plain": [
       "  Make       Model  Year             Engine Fuel Type  Engine HP  \\\n",
       "0  BMW  1 Series M  2011  premium unleaded (required)      335.0   \n",
       "1  BMW    1 Series  2011  premium unleaded (required)      300.0   \n",
       "2  BMW    1 Series  2011  premium unleaded (required)      300.0   \n",
       "3  BMW    1 Series  2011  premium unleaded (required)      230.0   \n",
       "4  BMW    1 Series  2011  premium unleaded (required)      230.0   \n",
       "\n",
       "   Engine Cylinders Transmission Type     Driven_Wheels  Number of Doors  \\\n",
       "0               6.0            MANUAL  rear wheel drive              2.0   \n",
       "1               6.0            MANUAL  rear wheel drive              2.0   \n",
       "2               6.0            MANUAL  rear wheel drive              2.0   \n",
       "3               6.0            MANUAL  rear wheel drive              2.0   \n",
       "4               6.0            MANUAL  rear wheel drive              2.0   \n",
       "\n",
       "                         Market Category Vehicle Size Vehicle Style  \\\n",
       "0  Factory Tuner,Luxury,High-Performance      Compact         Coupe   \n",
       "1                     Luxury,Performance      Compact   Convertible   \n",
       "2                Luxury,High-Performance      Compact         Coupe   \n",
       "3                     Luxury,Performance      Compact         Coupe   \n",
       "4                                 Luxury      Compact   Convertible   \n",
       "\n",
       "   highway MPG  city mpg  Popularity   MSRP  \n",
       "0           26        19        3916  46135  \n",
       "1           28        19        3916  40650  \n",
       "2           28        20        3916  36350  \n",
       "3           28        18        3916  29450  \n",
       "4           28        18        3916  34500  "
      ]
     },
     "execution_count": 4,
     "metadata": {},
     "output_type": "execute_result"
    }
   ],
   "source": [
    "import pandas as pd\n",
    "df = pd.read_csv('D:/Pum_Program/HDS_WORK/Year 3/Semester 1/Text analytics/Lecture6_lab/Lecture6_Lab/data.csv')\n",
    "df.head()"
   ]
  },
  {
   "cell_type": "code",
   "execution_count": 5,
   "metadata": {},
   "outputs": [],
   "source": [
    "df['Maker_Model']= df['Make']+ \" \" + df['Model']"
   ]
  },
  {
   "cell_type": "code",
   "execution_count": 6,
   "metadata": {},
   "outputs": [
    {
     "data": {
      "text/html": [
       "<div>\n",
       "<style scoped>\n",
       "    .dataframe tbody tr th:only-of-type {\n",
       "        vertical-align: middle;\n",
       "    }\n",
       "\n",
       "    .dataframe tbody tr th {\n",
       "        vertical-align: top;\n",
       "    }\n",
       "\n",
       "    .dataframe thead th {\n",
       "        text-align: right;\n",
       "    }\n",
       "</style>\n",
       "<table border=\"1\" class=\"dataframe\">\n",
       "  <thead>\n",
       "    <tr style=\"text-align: right;\">\n",
       "      <th></th>\n",
       "      <th>Make</th>\n",
       "      <th>Model</th>\n",
       "      <th>Year</th>\n",
       "      <th>Engine Fuel Type</th>\n",
       "      <th>Engine HP</th>\n",
       "      <th>Engine Cylinders</th>\n",
       "      <th>Transmission Type</th>\n",
       "      <th>Driven_Wheels</th>\n",
       "      <th>Number of Doors</th>\n",
       "      <th>Market Category</th>\n",
       "      <th>Vehicle Size</th>\n",
       "      <th>Vehicle Style</th>\n",
       "      <th>highway MPG</th>\n",
       "      <th>city mpg</th>\n",
       "      <th>Popularity</th>\n",
       "      <th>MSRP</th>\n",
       "      <th>Maker_Model</th>\n",
       "    </tr>\n",
       "  </thead>\n",
       "  <tbody>\n",
       "    <tr>\n",
       "      <th>0</th>\n",
       "      <td>BMW</td>\n",
       "      <td>1 Series M</td>\n",
       "      <td>2011</td>\n",
       "      <td>premium unleaded (required)</td>\n",
       "      <td>335.0</td>\n",
       "      <td>6.0</td>\n",
       "      <td>MANUAL</td>\n",
       "      <td>rear wheel drive</td>\n",
       "      <td>2.0</td>\n",
       "      <td>Factory Tuner,Luxury,High-Performance</td>\n",
       "      <td>Compact</td>\n",
       "      <td>Coupe</td>\n",
       "      <td>26</td>\n",
       "      <td>19</td>\n",
       "      <td>3916</td>\n",
       "      <td>46135</td>\n",
       "      <td>BMW 1 Series M</td>\n",
       "    </tr>\n",
       "    <tr>\n",
       "      <th>1</th>\n",
       "      <td>BMW</td>\n",
       "      <td>1 Series</td>\n",
       "      <td>2011</td>\n",
       "      <td>premium unleaded (required)</td>\n",
       "      <td>300.0</td>\n",
       "      <td>6.0</td>\n",
       "      <td>MANUAL</td>\n",
       "      <td>rear wheel drive</td>\n",
       "      <td>2.0</td>\n",
       "      <td>Luxury,Performance</td>\n",
       "      <td>Compact</td>\n",
       "      <td>Convertible</td>\n",
       "      <td>28</td>\n",
       "      <td>19</td>\n",
       "      <td>3916</td>\n",
       "      <td>40650</td>\n",
       "      <td>BMW 1 Series</td>\n",
       "    </tr>\n",
       "    <tr>\n",
       "      <th>2</th>\n",
       "      <td>BMW</td>\n",
       "      <td>1 Series</td>\n",
       "      <td>2011</td>\n",
       "      <td>premium unleaded (required)</td>\n",
       "      <td>300.0</td>\n",
       "      <td>6.0</td>\n",
       "      <td>MANUAL</td>\n",
       "      <td>rear wheel drive</td>\n",
       "      <td>2.0</td>\n",
       "      <td>Luxury,High-Performance</td>\n",
       "      <td>Compact</td>\n",
       "      <td>Coupe</td>\n",
       "      <td>28</td>\n",
       "      <td>20</td>\n",
       "      <td>3916</td>\n",
       "      <td>36350</td>\n",
       "      <td>BMW 1 Series</td>\n",
       "    </tr>\n",
       "    <tr>\n",
       "      <th>3</th>\n",
       "      <td>BMW</td>\n",
       "      <td>1 Series</td>\n",
       "      <td>2011</td>\n",
       "      <td>premium unleaded (required)</td>\n",
       "      <td>230.0</td>\n",
       "      <td>6.0</td>\n",
       "      <td>MANUAL</td>\n",
       "      <td>rear wheel drive</td>\n",
       "      <td>2.0</td>\n",
       "      <td>Luxury,Performance</td>\n",
       "      <td>Compact</td>\n",
       "      <td>Coupe</td>\n",
       "      <td>28</td>\n",
       "      <td>18</td>\n",
       "      <td>3916</td>\n",
       "      <td>29450</td>\n",
       "      <td>BMW 1 Series</td>\n",
       "    </tr>\n",
       "    <tr>\n",
       "      <th>4</th>\n",
       "      <td>BMW</td>\n",
       "      <td>1 Series</td>\n",
       "      <td>2011</td>\n",
       "      <td>premium unleaded (required)</td>\n",
       "      <td>230.0</td>\n",
       "      <td>6.0</td>\n",
       "      <td>MANUAL</td>\n",
       "      <td>rear wheel drive</td>\n",
       "      <td>2.0</td>\n",
       "      <td>Luxury</td>\n",
       "      <td>Compact</td>\n",
       "      <td>Convertible</td>\n",
       "      <td>28</td>\n",
       "      <td>18</td>\n",
       "      <td>3916</td>\n",
       "      <td>34500</td>\n",
       "      <td>BMW 1 Series</td>\n",
       "    </tr>\n",
       "  </tbody>\n",
       "</table>\n",
       "</div>"
      ],
      "text/plain": [
       "  Make       Model  Year             Engine Fuel Type  Engine HP  \\\n",
       "0  BMW  1 Series M  2011  premium unleaded (required)      335.0   \n",
       "1  BMW    1 Series  2011  premium unleaded (required)      300.0   \n",
       "2  BMW    1 Series  2011  premium unleaded (required)      300.0   \n",
       "3  BMW    1 Series  2011  premium unleaded (required)      230.0   \n",
       "4  BMW    1 Series  2011  premium unleaded (required)      230.0   \n",
       "\n",
       "   Engine Cylinders Transmission Type     Driven_Wheels  Number of Doors  \\\n",
       "0               6.0            MANUAL  rear wheel drive              2.0   \n",
       "1               6.0            MANUAL  rear wheel drive              2.0   \n",
       "2               6.0            MANUAL  rear wheel drive              2.0   \n",
       "3               6.0            MANUAL  rear wheel drive              2.0   \n",
       "4               6.0            MANUAL  rear wheel drive              2.0   \n",
       "\n",
       "                         Market Category Vehicle Size Vehicle Style  \\\n",
       "0  Factory Tuner,Luxury,High-Performance      Compact         Coupe   \n",
       "1                     Luxury,Performance      Compact   Convertible   \n",
       "2                Luxury,High-Performance      Compact         Coupe   \n",
       "3                     Luxury,Performance      Compact         Coupe   \n",
       "4                                 Luxury      Compact   Convertible   \n",
       "\n",
       "   highway MPG  city mpg  Popularity   MSRP     Maker_Model  \n",
       "0           26        19        3916  46135  BMW 1 Series M  \n",
       "1           28        19        3916  40650    BMW 1 Series  \n",
       "2           28        20        3916  36350    BMW 1 Series  \n",
       "3           28        18        3916  29450    BMW 1 Series  \n",
       "4           28        18        3916  34500    BMW 1 Series  "
      ]
     },
     "execution_count": 6,
     "metadata": {},
     "output_type": "execute_result"
    }
   ],
   "source": [
    "df.head()"
   ]
  },
  {
   "cell_type": "code",
   "execution_count": 7,
   "metadata": {},
   "outputs": [
    {
     "data": {
      "text/html": [
       "<div>\n",
       "<style scoped>\n",
       "    .dataframe tbody tr th:only-of-type {\n",
       "        vertical-align: middle;\n",
       "    }\n",
       "\n",
       "    .dataframe tbody tr th {\n",
       "        vertical-align: top;\n",
       "    }\n",
       "\n",
       "    .dataframe thead th {\n",
       "        text-align: right;\n",
       "    }\n",
       "</style>\n",
       "<table border=\"1\" class=\"dataframe\">\n",
       "  <thead>\n",
       "    <tr style=\"text-align: right;\">\n",
       "      <th></th>\n",
       "      <th>Engine Fuel Type</th>\n",
       "      <th>Transmission Type</th>\n",
       "      <th>Driven_Wheels</th>\n",
       "      <th>Market Category</th>\n",
       "      <th>Vehicle Size</th>\n",
       "      <th>Vehicle Style</th>\n",
       "      <th>Maker_Model</th>\n",
       "    </tr>\n",
       "  </thead>\n",
       "  <tbody>\n",
       "    <tr>\n",
       "      <th>0</th>\n",
       "      <td>premium unleaded (required)</td>\n",
       "      <td>MANUAL</td>\n",
       "      <td>rear wheel drive</td>\n",
       "      <td>Factory Tuner,Luxury,High-Performance</td>\n",
       "      <td>Compact</td>\n",
       "      <td>Coupe</td>\n",
       "      <td>BMW 1 Series M</td>\n",
       "    </tr>\n",
       "    <tr>\n",
       "      <th>1</th>\n",
       "      <td>premium unleaded (required)</td>\n",
       "      <td>MANUAL</td>\n",
       "      <td>rear wheel drive</td>\n",
       "      <td>Luxury,Performance</td>\n",
       "      <td>Compact</td>\n",
       "      <td>Convertible</td>\n",
       "      <td>BMW 1 Series</td>\n",
       "    </tr>\n",
       "    <tr>\n",
       "      <th>2</th>\n",
       "      <td>premium unleaded (required)</td>\n",
       "      <td>MANUAL</td>\n",
       "      <td>rear wheel drive</td>\n",
       "      <td>Luxury,High-Performance</td>\n",
       "      <td>Compact</td>\n",
       "      <td>Coupe</td>\n",
       "      <td>BMW 1 Series</td>\n",
       "    </tr>\n",
       "    <tr>\n",
       "      <th>3</th>\n",
       "      <td>premium unleaded (required)</td>\n",
       "      <td>MANUAL</td>\n",
       "      <td>rear wheel drive</td>\n",
       "      <td>Luxury,Performance</td>\n",
       "      <td>Compact</td>\n",
       "      <td>Coupe</td>\n",
       "      <td>BMW 1 Series</td>\n",
       "    </tr>\n",
       "    <tr>\n",
       "      <th>4</th>\n",
       "      <td>premium unleaded (required)</td>\n",
       "      <td>MANUAL</td>\n",
       "      <td>rear wheel drive</td>\n",
       "      <td>Luxury</td>\n",
       "      <td>Compact</td>\n",
       "      <td>Convertible</td>\n",
       "      <td>BMW 1 Series</td>\n",
       "    </tr>\n",
       "  </tbody>\n",
       "</table>\n",
       "</div>"
      ],
      "text/plain": [
       "              Engine Fuel Type Transmission Type     Driven_Wheels  \\\n",
       "0  premium unleaded (required)            MANUAL  rear wheel drive   \n",
       "1  premium unleaded (required)            MANUAL  rear wheel drive   \n",
       "2  premium unleaded (required)            MANUAL  rear wheel drive   \n",
       "3  premium unleaded (required)            MANUAL  rear wheel drive   \n",
       "4  premium unleaded (required)            MANUAL  rear wheel drive   \n",
       "\n",
       "                         Market Category Vehicle Size Vehicle Style  \\\n",
       "0  Factory Tuner,Luxury,High-Performance      Compact         Coupe   \n",
       "1                     Luxury,Performance      Compact   Convertible   \n",
       "2                Luxury,High-Performance      Compact         Coupe   \n",
       "3                     Luxury,Performance      Compact         Coupe   \n",
       "4                                 Luxury      Compact   Convertible   \n",
       "\n",
       "      Maker_Model  \n",
       "0  BMW 1 Series M  \n",
       "1    BMW 1 Series  \n",
       "2    BMW 1 Series  \n",
       "3    BMW 1 Series  \n",
       "4    BMW 1 Series  "
      ]
     },
     "execution_count": 7,
     "metadata": {},
     "output_type": "execute_result"
    }
   ],
   "source": [
    "# Select features from original dataset to form a new dataframe \n",
    "df1 = df[['Engine Fuel Type','Transmission Type','Driven_Wheels','Market Category','Vehicle Size', 'Vehicle Style', 'Maker_Model']]\n",
    "df1.head()"
   ]
  },
  {
   "cell_type": "code",
   "execution_count": 8,
   "metadata": {},
   "outputs": [
    {
     "data": {
      "text/plain": [
       "0    premium unleaded (required),MANUAL,rear wheel ...\n",
       "1    premium unleaded (required),MANUAL,rear wheel ...\n",
       "2    premium unleaded (required),MANUAL,rear wheel ...\n",
       "3    premium unleaded (required),MANUAL,rear wheel ...\n",
       "4    premium unleaded (required),MANUAL,rear wheel ...\n",
       "dtype: object"
      ]
     },
     "execution_count": 8,
     "metadata": {},
     "output_type": "execute_result"
    }
   ],
   "source": [
    "# For each row, combine all the columns into one column\n",
    "df2 = df1.apply(lambda x: ','.join(x.astype(str)), axis=1)\n",
    "\n",
    "df2.head()"
   ]
  },
  {
   "cell_type": "code",
   "execution_count": 9,
   "metadata": {},
   "outputs": [
    {
     "data": {
      "text/html": [
       "<div>\n",
       "<style scoped>\n",
       "    .dataframe tbody tr th:only-of-type {\n",
       "        vertical-align: middle;\n",
       "    }\n",
       "\n",
       "    .dataframe tbody tr th {\n",
       "        vertical-align: top;\n",
       "    }\n",
       "\n",
       "    .dataframe thead th {\n",
       "        text-align: right;\n",
       "    }\n",
       "</style>\n",
       "<table border=\"1\" class=\"dataframe\">\n",
       "  <thead>\n",
       "    <tr style=\"text-align: right;\">\n",
       "      <th></th>\n",
       "      <th>clean</th>\n",
       "    </tr>\n",
       "  </thead>\n",
       "  <tbody>\n",
       "    <tr>\n",
       "      <th>0</th>\n",
       "      <td>premium unleaded (required),MANUAL,rear wheel ...</td>\n",
       "    </tr>\n",
       "    <tr>\n",
       "      <th>1</th>\n",
       "      <td>premium unleaded (required),MANUAL,rear wheel ...</td>\n",
       "    </tr>\n",
       "    <tr>\n",
       "      <th>2</th>\n",
       "      <td>premium unleaded (required),MANUAL,rear wheel ...</td>\n",
       "    </tr>\n",
       "    <tr>\n",
       "      <th>3</th>\n",
       "      <td>premium unleaded (required),MANUAL,rear wheel ...</td>\n",
       "    </tr>\n",
       "    <tr>\n",
       "      <th>4</th>\n",
       "      <td>premium unleaded (required),MANUAL,rear wheel ...</td>\n",
       "    </tr>\n",
       "  </tbody>\n",
       "</table>\n",
       "</div>"
      ],
      "text/plain": [
       "                                               clean\n",
       "0  premium unleaded (required),MANUAL,rear wheel ...\n",
       "1  premium unleaded (required),MANUAL,rear wheel ...\n",
       "2  premium unleaded (required),MANUAL,rear wheel ...\n",
       "3  premium unleaded (required),MANUAL,rear wheel ...\n",
       "4  premium unleaded (required),MANUAL,rear wheel ..."
      ]
     },
     "execution_count": 9,
     "metadata": {},
     "output_type": "execute_result"
    }
   ],
   "source": [
    "# Store them in a pandas dataframe\n",
    "df_clean = pd.DataFrame({'clean': df2})\n",
    "df_clean.head()"
   ]
  },
  {
   "cell_type": "code",
   "execution_count": 10,
   "metadata": {},
   "outputs": [
    {
     "data": {
      "text/plain": [
       "[['premium unleaded (required)',\n",
       "  'MANUAL',\n",
       "  'rear wheel drive',\n",
       "  'Factory Tuner',\n",
       "  'Luxury',\n",
       "  'High-Performance',\n",
       "  'Compact',\n",
       "  'Coupe',\n",
       "  'BMW 1 Series M'],\n",
       " ['premium unleaded (required)',\n",
       "  'MANUAL',\n",
       "  'rear wheel drive',\n",
       "  'Luxury',\n",
       "  'Performance',\n",
       "  'Compact',\n",
       "  'Convertible',\n",
       "  'BMW 1 Series']]"
      ]
     },
     "execution_count": 10,
     "metadata": {},
     "output_type": "execute_result"
    }
   ],
   "source": [
    "# Create the list of list format of the custom corpus for gensim modeling \n",
    "sent = [row.split(',') for row in df_clean['clean']]\n",
    "# show the example of list of list format of the custom corpus for gensim modeling \n",
    "sent[:2]"
   ]
  },
  {
   "cell_type": "markdown",
   "metadata": {},
   "source": [
    "## 2.2 Train Word2Vec model (skip-gram)"
   ]
  },
  {
   "cell_type": "code",
   "execution_count": 11,
   "metadata": {},
   "outputs": [],
   "source": [
    "#!pip install gensim"
   ]
  },
  {
   "cell_type": "code",
   "execution_count": 12,
   "metadata": {},
   "outputs": [],
   "source": [
    "from gensim.models import Word2Vec"
   ]
  },
  {
   "cell_type": "code",
   "execution_count": 13,
   "metadata": {},
   "outputs": [],
   "source": [
    "model = Word2Vec(sent, min_count=1, vector_size= 300, workers=5, window=10, sg = 1, epochs=100)"
   ]
  },
  {
   "cell_type": "markdown",
   "metadata": {},
   "source": [
    "**size**: The number of dimensions of the embeddings and the default is 100.\n",
    "\n",
    "**window**: The maximum distance between a target word and words around the target word. The default window is 5.\n",
    "\n",
    "**min_count**: The minimum count of words to consider when training the model; words with occurrence less than this count will be ignored. The default for min_count is 5.\n",
    "\n",
    "**workers**: The number of partitions during training and the default workers is 3.\n",
    "\n",
    "**sg**: The training algorithm, either CBOW(0) or skip gram(1). The default training algorithm is CBOW."
   ]
  },
  {
   "cell_type": "code",
   "execution_count": 14,
   "metadata": {
    "scrolled": false
   },
   "outputs": [
    {
     "data": {
      "text/plain": [
       "array([ 5.03506288e-02,  1.65065005e-01,  9.85634327e-02, -4.46448140e-02,\n",
       "        3.05511728e-02, -2.73254037e-01,  2.29732823e-02,  2.96869725e-01,\n",
       "       -1.94467634e-01, -1.54228389e-01,  2.21779346e-01, -1.73062950e-01,\n",
       "        1.40511930e-01,  1.83775529e-01, -6.02832325e-02,  5.84000116e-03,\n",
       "        2.74681658e-01,  8.50865990e-02, -2.39957437e-01,  3.83972749e-02,\n",
       "       -1.92833200e-01, -4.94459532e-02, -1.46242037e-01,  1.68840572e-01,\n",
       "       -1.74488619e-01, -1.05506085e-01, -1.74522966e-01,  1.50942370e-01,\n",
       "       -1.59976885e-01, -1.87876552e-01,  4.17173445e-01,  4.45895381e-02,\n",
       "       -1.81850761e-01, -7.99522698e-02, -3.48995961e-02, -1.15800723e-01,\n",
       "        1.17283560e-01, -1.99166596e-01, -7.72713451e-03,  8.05374458e-02,\n",
       "       -1.64225802e-01, -2.48577185e-02,  1.30296454e-01,  3.02661091e-01,\n",
       "       -3.01210266e-02, -2.43813134e-04,  1.35076670e-02, -2.05297455e-01,\n",
       "        1.73380971e-01,  1.70851558e-01,  1.45870835e-01, -1.76691458e-01,\n",
       "        8.73596815e-04, -7.82374516e-02, -4.36922312e-02,  8.22222885e-03,\n",
       "       -8.77175014e-03, -4.90897484e-02, -6.84394501e-03,  1.38210461e-01,\n",
       "        1.01029024e-01,  1.26449168e-01,  1.08936362e-01,  2.46903703e-01,\n",
       "       -1.79272681e-01, -1.17602786e-02,  2.15664729e-01,  3.96103449e-02,\n",
       "       -1.43486872e-01,  3.33344370e-01,  2.78650969e-01,  2.78473794e-02,\n",
       "        2.13079989e-01, -1.41523376e-01,  1.91869885e-02,  1.56615928e-01,\n",
       "       -1.18184537e-01,  1.13525145e-01, -8.89401361e-02,  4.38046269e-02,\n",
       "        1.31283939e-01, -1.00998580e-01,  2.65291706e-02,  3.20752472e-01,\n",
       "        1.27916574e-01, -3.10483351e-02,  2.52013177e-01,  2.04459224e-02,\n",
       "       -1.05019376e-01,  1.43887755e-02,  1.53376132e-01, -2.72872243e-02,\n",
       "       -2.98064411e-01, -3.52164358e-02,  8.50934386e-02, -1.05357185e-01,\n",
       "        1.72295406e-01, -9.52309370e-02,  9.56153274e-02, -9.22070518e-02,\n",
       "        2.32457876e-01,  1.67244121e-01,  1.54974340e-02,  1.59795076e-01,\n",
       "        1.71729416e-01, -3.40820476e-02,  1.92887560e-01, -1.41642287e-01,\n",
       "       -4.48358029e-01,  9.27541927e-02, -2.43198350e-01,  2.19928533e-01,\n",
       "       -2.02602997e-01,  1.20907247e-01,  7.30109811e-02,  4.07921895e-02,\n",
       "        3.34118605e-01,  1.34607963e-02,  6.15269803e-02, -2.60581702e-01,\n",
       "       -1.13263428e-01,  4.14648175e-01,  2.24655375e-01, -7.86002800e-02,\n",
       "        2.31871486e-01,  4.86323982e-01, -5.22736490e-01, -1.37568712e-01,\n",
       "       -1.06153056e-01,  3.73462439e-01,  6.63889945e-02, -9.07339528e-02,\n",
       "       -2.54084915e-02, -4.70613331e-01,  9.83874723e-02,  5.24214387e-01,\n",
       "       -1.44964740e-01,  1.92984641e-02, -4.19564188e-01, -1.59126624e-01,\n",
       "        1.50733870e-02, -1.12534367e-01, -9.71890315e-02,  1.22453921e-01,\n",
       "        2.36957744e-02, -1.15766749e-01,  1.61178093e-02, -2.85531208e-02,\n",
       "        7.07066804e-03, -1.33896902e-01,  2.25669459e-01, -1.88989237e-01,\n",
       "       -1.82089224e-01, -1.56975519e-02, -2.79719025e-01, -2.31378675e-02,\n",
       "       -9.27654728e-02,  1.71031788e-01, -1.12805322e-01,  2.34486133e-01,\n",
       "        1.20470494e-01, -9.77528468e-02, -9.92664546e-02,  3.56951475e-01,\n",
       "        5.31831980e-01, -3.53064202e-02, -8.45262706e-02, -1.32789642e-01,\n",
       "       -6.47666156e-02,  9.87598225e-02, -3.21460098e-01, -1.18641168e-01,\n",
       "        6.80375770e-02,  3.11023425e-02,  6.21930733e-02, -1.84863478e-01,\n",
       "       -3.38494807e-01,  1.25776291e-01,  3.38210076e-01, -1.21293396e-01,\n",
       "        9.26669911e-02,  1.16479784e-01, -2.70571738e-01, -1.64613709e-01,\n",
       "       -3.86314422e-01, -9.97734070e-02,  4.31282490e-01,  2.09922597e-01,\n",
       "        1.53402537e-01, -3.40534955e-01,  2.84683704e-01,  1.00019261e-01,\n",
       "       -1.53214037e-01, -1.24971464e-01, -9.11303386e-02, -4.85484719e-01,\n",
       "       -8.16872716e-02,  1.10939816e-01, -4.94521111e-02, -7.35145509e-02,\n",
       "       -1.57293811e-01,  1.13810435e-01, -9.77754444e-02, -1.00383170e-01,\n",
       "        3.21567744e-01,  2.06430838e-01,  1.43977135e-01,  1.24662079e-01,\n",
       "       -2.01143742e-01,  1.08667411e-01, -1.38568774e-01, -2.57516503e-01,\n",
       "        2.72785068e-01, -1.60585344e-02,  3.57736684e-02, -3.29688154e-02,\n",
       "       -4.84443009e-02, -3.36641431e-01, -1.55509844e-01, -1.18555181e-01,\n",
       "        1.19434580e-01, -2.49644741e-01,  1.42161831e-01, -4.02456559e-02,\n",
       "       -2.71559209e-01, -8.10920298e-02,  9.76900086e-02, -6.42935708e-02,\n",
       "        8.95713568e-02, -1.03768796e-01,  3.96402143e-02, -1.76283792e-01,\n",
       "        5.02994172e-02,  7.59478472e-03, -1.09242126e-02, -4.73289602e-02,\n",
       "        3.23797137e-01,  1.76552758e-01,  1.97875258e-02,  9.52381268e-02,\n",
       "        1.86315417e-01,  1.18392594e-01,  7.58635849e-02,  1.70357421e-01,\n",
       "       -9.05118533e-04, -7.30319694e-02, -7.04540163e-02, -1.23930804e-01,\n",
       "        6.32636547e-02, -2.37395559e-02,  3.00513715e-01, -2.03401908e-01,\n",
       "        3.01631451e-01,  7.95991197e-02, -2.12416574e-01, -1.81534395e-01,\n",
       "        2.79714048e-01,  3.16176891e-01, -2.63465226e-01, -6.20380603e-02,\n",
       "        5.23997955e-02, -1.65869191e-01,  3.76407117e-01,  1.00769520e-01,\n",
       "       -2.90922225e-01,  4.49676141e-02,  2.61311948e-01,  1.54318690e-01,\n",
       "       -1.69260204e-01,  1.73385322e-01, -2.03959584e-01, -5.22115792e-04,\n",
       "       -1.20284386e-01, -6.58682510e-02, -1.18753165e-01, -1.27618417e-01,\n",
       "        1.06528521e-01,  2.56054014e-01, -2.78055370e-01, -7.87288100e-02,\n",
       "       -1.20114870e-01,  1.27509043e-01, -4.58230544e-03,  2.35577613e-01,\n",
       "        1.35036305e-01,  1.41379043e-01, -2.46146366e-01,  2.26929411e-01,\n",
       "       -5.43357991e-02,  1.13830648e-01,  1.78309437e-02,  1.09044230e-02,\n",
       "        8.90246406e-03,  1.03492662e-01,  2.73413479e-01,  2.09278036e-02,\n",
       "        2.26646885e-01, -1.68622106e-01,  8.12683851e-02, -2.53916621e-01],\n",
       "      dtype=float32)"
      ]
     },
     "execution_count": 14,
     "metadata": {},
     "output_type": "execute_result"
    }
   ],
   "source": [
    "model.wv['Toyota Camry']"
   ]
  },
  {
   "cell_type": "markdown",
   "metadata": {},
   "source": [
    "## Similarity"
   ]
  },
  {
   "cell_type": "code",
   "execution_count": 15,
   "metadata": {},
   "outputs": [
    {
     "data": {
      "text/plain": [
       "0.5669403"
      ]
     },
     "execution_count": 15,
     "metadata": {},
     "output_type": "execute_result"
    }
   ],
   "source": [
    "model.wv.similarity('Porsche 718 Cayman', 'Nissan Van')"
   ]
  },
  {
   "cell_type": "code",
   "execution_count": 16,
   "metadata": {},
   "outputs": [
    {
     "data": {
      "text/plain": [
       "0.7933902"
      ]
     },
     "execution_count": 16,
     "metadata": {},
     "output_type": "execute_result"
    }
   ],
   "source": [
    "model.wv.similarity('Porsche 718 Cayman', 'Mercedes-Benz SLK-Class')"
   ]
  },
  {
   "cell_type": "code",
   "execution_count": 17,
   "metadata": {},
   "outputs": [
    {
     "data": {
      "text/plain": [
       "[('Mercedes-Benz SL-Class', 0.9812448024749756),\n",
       " ('Cadillac XLR-V', 0.9672598838806152),\n",
       " ('Porsche Boxster', 0.9416688084602356),\n",
       " ('Mercedes-Benz SLC-Class', 0.9398273229598999),\n",
       " ('BMW Z4 M', 0.9221610426902771)]"
      ]
     },
     "execution_count": 17,
     "metadata": {},
     "output_type": "execute_result"
    }
   ],
   "source": [
    "model.wv.most_similar('Mercedes-Benz SLK-Class')[:5]"
   ]
  },
  {
   "cell_type": "markdown",
   "metadata": {},
   "source": [
    "<img src='https://miro.medium.com/max/1046/1*_Bf9goaALQrS_0XkBozEiQ.png'/>"
   ]
  },
  {
   "cell_type": "code",
   "execution_count": 18,
   "metadata": {},
   "outputs": [],
   "source": [
    "import numpy as np\n",
    "def cosine_distance (model, word,target_list , num) :\n",
    "    cosine_dict ={}\n",
    "    word_list = []\n",
    "    a = model.wv[word] # -> model.wv['Mercedes-Benz SLK-Class'] ---> model.wv[word]\n",
    "    for item in target_list :\n",
    "        if item != word :\n",
    "            b = model.wv[item]\n",
    "            cos_sim = np.dot(a, b)/(np.linalg.norm(a)*np.linalg.norm(b))\n",
    "            cosine_dict[item] = cos_sim\n",
    "    dist_sort=sorted(cosine_dict.items(), key=lambda dist: dist[1],reverse = True) ## in Descedning order \n",
    "    for item in dist_sort:\n",
    "        word_list.append((item[0], item[1]))\n",
    "    return word_list[0:num]"
   ]
  },
  {
   "cell_type": "code",
   "execution_count": 19,
   "metadata": {},
   "outputs": [
    {
     "data": {
      "text/plain": [
       "array([-1.36562977e-02,  2.25442592e-02, -1.41776903e-02, -4.27659810e-01,\n",
       "       -4.39091511e-02, -2.04699840e-02,  2.74255931e-01,  7.35646486e-02,\n",
       "        2.16505393e-01, -3.03471446e-01,  9.55587402e-02, -1.34819262e-02,\n",
       "        2.90077534e-02, -1.35770053e-01, -2.93594059e-02, -1.84146807e-01,\n",
       "        1.52837604e-01,  1.15058415e-01, -5.72715923e-02,  1.31878287e-01,\n",
       "        4.88395691e-02,  1.29543096e-01, -1.17767870e-01,  2.63057768e-01,\n",
       "       -3.62612568e-02, -3.01302850e-01, -2.04289183e-01, -9.74979401e-02,\n",
       "        6.83883205e-02, -2.64300525e-01,  1.27710747e-02, -9.30099040e-02,\n",
       "        6.33341670e-02, -4.85987999e-02, -1.58753321e-02, -2.19540298e-01,\n",
       "        1.68200314e-01,  2.35765912e-02,  1.56696931e-01, -1.52565837e-01,\n",
       "        8.72415602e-02,  1.32180080e-01, -3.21507715e-02, -3.14572066e-01,\n",
       "        3.44510108e-01,  2.14798301e-01,  9.05429870e-02,  1.31958157e-01,\n",
       "        4.46543843e-01, -5.94868287e-02,  1.87786631e-02, -4.87643242e-01,\n",
       "       -1.29597619e-01,  2.84632951e-01, -2.79916763e-01,  2.50689507e-01,\n",
       "       -2.29255751e-01, -2.04562377e-02,  1.30271822e-01, -1.62524268e-01,\n",
       "       -1.65402487e-01,  1.06266461e-01,  1.09222278e-01,  1.60220787e-01,\n",
       "       -3.34914476e-02,  3.10833246e-01, -3.25058728e-01,  2.01773550e-02,\n",
       "       -1.85354203e-01,  1.37440145e-01, -4.11752388e-02,  4.12220865e-01,\n",
       "        4.17452276e-01, -3.80659968e-01,  4.18128639e-01, -1.08495608e-01,\n",
       "       -5.73295925e-04, -8.87782276e-02, -5.66500649e-02, -1.59637764e-01,\n",
       "       -2.94176668e-01, -1.28042802e-01, -1.16280064e-01,  5.84702134e-01,\n",
       "        1.52673140e-01, -2.96485811e-01, -1.57936648e-01,  2.57462680e-01,\n",
       "        9.76675227e-02, -4.04363386e-02,  4.50683266e-01,  2.71440726e-02,\n",
       "       -6.19022921e-02,  3.47699113e-02,  3.57387125e-01,  9.90495309e-02,\n",
       "       -4.40347940e-04, -5.99466041e-02, -2.62785792e-01, -1.09965675e-01,\n",
       "       -5.93978502e-02,  4.44371104e-01,  4.18861955e-02, -1.38333678e-01,\n",
       "       -5.07580638e-02, -2.58436531e-01,  2.57418696e-02, -1.40769035e-01,\n",
       "       -2.44685128e-01,  3.06391478e-01, -2.18041435e-01, -4.47945073e-02,\n",
       "        9.89647508e-02, -1.62206262e-01,  1.74270004e-01, -2.27583647e-01,\n",
       "        7.20325410e-02, -2.84145400e-02,  3.95601630e-01, -2.66847402e-01,\n",
       "        3.18121575e-02,  2.41809580e-02,  1.81079805e-01,  1.61087885e-02,\n",
       "       -2.75478601e-01,  9.83098149e-03, -2.91232914e-01, -2.51932591e-01,\n",
       "       -2.44865939e-03,  4.14219558e-01,  7.68661574e-02,  4.36184675e-01,\n",
       "        2.46377826e-01, -2.41244525e-01, -1.61792804e-02,  1.59434915e-01,\n",
       "       -2.45121121e-01, -3.10745593e-02,  2.41022501e-02, -3.84999156e-01,\n",
       "       -1.16097920e-01,  2.99193203e-01, -1.00498527e-01,  7.24935457e-02,\n",
       "       -1.16964556e-01, -1.13222286e-01, -3.23386371e-01, -5.47901466e-02,\n",
       "        1.67896658e-01, -3.20993781e-01, -2.10757419e-01, -1.14072584e-01,\n",
       "        1.26422122e-01, -5.08479103e-02,  1.42951369e-01,  2.04770416e-01,\n",
       "       -5.16379401e-02,  2.42409259e-01,  1.23870365e-01,  3.36212695e-01,\n",
       "        8.37034211e-02,  1.58402517e-01, -3.50634813e-01,  1.84050485e-01,\n",
       "       -1.99029788e-01,  3.95690612e-02, -8.36532861e-02, -2.71921188e-01,\n",
       "        3.46878059e-02, -7.77556524e-02, -3.36457729e-01,  4.97783981e-02,\n",
       "        1.48588836e-01,  1.56735867e-01, -1.55901639e-02,  1.49274603e-01,\n",
       "        1.19588226e-01, -7.79098868e-02, -2.63562854e-02, -1.76591694e-01,\n",
       "       -1.07849911e-01,  7.39633143e-02, -5.56974597e-02,  1.91306114e-01,\n",
       "       -1.14244759e-01, -1.21341854e-01,  2.60874510e-01,  3.72425020e-01,\n",
       "        3.44225436e-01, -1.35150582e-01,  2.90085375e-01,  3.31347197e-01,\n",
       "       -3.25284868e-01, -1.56462669e-01, -5.06163538e-02, -2.83129960e-01,\n",
       "       -2.35068515e-01, -6.19915016e-02,  5.11374101e-02, -1.51481688e-01,\n",
       "        1.64622575e-01, -9.77336839e-02, -2.44294181e-01, -4.64504361e-01,\n",
       "        2.13973299e-01, -1.19889090e-02,  1.16107620e-01,  2.17083499e-01,\n",
       "        1.66575000e-01, -1.91892207e-01,  4.07936126e-02, -2.41966859e-01,\n",
       "       -6.77210093e-02, -8.84691551e-02,  3.62079978e-01,  1.52112897e-02,\n",
       "       -2.89807022e-01, -6.62821412e-01, -1.72841698e-01, -1.83487862e-01,\n",
       "        2.28161618e-01,  6.32620975e-02, -1.17389925e-01,  1.07059054e-01,\n",
       "        2.80332118e-02,  1.44468442e-01,  3.06494329e-02,  1.63184524e-01,\n",
       "       -6.68581426e-02, -1.19961061e-01,  3.44511569e-02, -1.24266356e-01,\n",
       "       -5.70148639e-02, -2.02400703e-03, -1.93456382e-01,  9.96222347e-02,\n",
       "        1.22998558e-01, -8.87536183e-02,  1.46278143e-01, -5.33036329e-02,\n",
       "       -2.03970090e-01,  7.43420795e-02, -1.49341986e-01,  2.26667181e-01,\n",
       "        2.11218908e-01, -1.63198248e-01, -8.14015642e-02, -3.10078651e-01,\n",
       "        8.01799595e-02,  2.38678887e-01, -8.78619030e-02, -2.03265458e-01,\n",
       "       -6.36608899e-02,  2.50363094e-03,  1.14404999e-01, -6.20838851e-02,\n",
       "        2.79909670e-01,  6.71356991e-02, -2.54143715e-01, -5.78033142e-02,\n",
       "        5.11944853e-02,  1.15397885e-01,  3.66951153e-02, -5.41158430e-02,\n",
       "       -1.46693870e-01, -1.46628991e-01,  7.69043267e-02, -3.87255251e-01,\n",
       "       -5.18537983e-02, -2.94047799e-02, -2.96446413e-01,  9.22699552e-03,\n",
       "       -1.81861967e-01, -2.82236338e-01,  1.01627626e-01, -1.89162269e-01,\n",
       "        1.14860989e-01,  1.02784887e-01, -2.00640678e-01,  7.37101659e-02,\n",
       "       -4.44795713e-02,  8.30951631e-02, -4.13515270e-02, -7.24128187e-02,\n",
       "       -1.82987645e-01,  1.58931255e-01, -3.01264554e-01,  1.97069943e-01,\n",
       "        2.01079935e-01, -1.54139712e-01,  3.81712839e-02,  1.38124242e-01,\n",
       "        1.95937186e-01,  6.35972545e-02,  2.36975908e-01, -1.02246068e-01,\n",
       "       -6.37147948e-02, -2.24016294e-01, -2.41805941e-01, -1.83780804e-01],\n",
       "      dtype=float32)"
      ]
     },
     "execution_count": 19,
     "metadata": {},
     "output_type": "execute_result"
    }
   ],
   "source": [
    "model.wv['Mercedes-Benz SLK-Class']"
   ]
  },
  {
   "cell_type": "code",
   "execution_count": 20,
   "metadata": {},
   "outputs": [
    {
     "data": {
      "text/plain": [
       "[('Mercedes-Benz SL-Class', 0.9812448),\n",
       " ('Cadillac XLR-V', 0.9672598),\n",
       " ('Porsche Boxster', 0.9416687),\n",
       " ('Mercedes-Benz SLC-Class', 0.9398273),\n",
       " ('BMW Z4 M', 0.92216104)]"
      ]
     },
     "execution_count": 20,
     "metadata": {},
     "output_type": "execute_result"
    }
   ],
   "source": [
    "# only get the unique Maker_Model\n",
    "Maker_Model = list(df.Maker_Model.unique()) \n",
    "# Show the most similar Mercedes-Benz SLK-Class by cosine distance \n",
    "cosine_distance(model,'Mercedes-Benz SLK-Class',Maker_Model,5)"
   ]
  },
  {
   "cell_type": "code",
   "execution_count": 21,
   "metadata": {},
   "outputs": [],
   "source": [
    "from sklearn.manifold import TSNE\n",
    "import matplotlib.pyplot as plt\n",
    "def display_closestwords_tsnescatterplot(model, word):\n",
    "    \n",
    "    arr = np.empty((0,300), dtype='f')\n",
    "    word_labels = [word]\n",
    "\n",
    "    # get close words\n",
    "    close_words = model.wv.similar_by_word(word) #--> model.wv.similar_by_word\n",
    "    \n",
    "    # add the vector for each of the closest words to the array\n",
    "    arr = np.append(arr, np.array([model.wv[word]]), axis=0)\n",
    "    for wrd_score in close_words:\n",
    "        wrd_vector = model.wv[wrd_score[0]]\n",
    "        word_labels.append(wrd_score[0])\n",
    "        arr = np.append(arr, np.array([wrd_vector]), axis=0)\n",
    "        \n",
    "    # find tsne coords for 2 dimensions\n",
    "    tsne = TSNE(n_components=2, random_state=0)\n",
    "    np.set_printoptions(suppress=True)\n",
    "    Y = tsne.fit_transform(arr)\n",
    "\n",
    "    x_coords = Y[:, 0]\n",
    "    y_coords = Y[:, 1]\n",
    "    # display scatter plot\n",
    "    plt.scatter(x_coords, y_coords)\n",
    "\n",
    "    for label, x, y in zip(word_labels, x_coords, y_coords):\n",
    "        plt.annotate(label, xy=(x, y), xytext=(0, 0), textcoords='offset points')\n",
    "    plt.xlim(x_coords.min()+0.00005, x_coords.max()+0.00005)\n",
    "    plt.ylim(y_coords.min()+0.00005, y_coords.max()+0.00005)\n",
    "    plt.show()"
   ]
  },
  {
   "cell_type": "code",
   "execution_count": 22,
   "metadata": {},
   "outputs": [
    {
     "data": {
      "image/png": "[encoded data removed]",
      "text/plain": [
       "<Figure size 432x288 with 1 Axes>"
      ]
     },
     "metadata": {
      "needs_background": "light"
     },
     "output_type": "display_data"
    }
   ],
   "source": [
    "display_closestwords_tsnescatterplot(model, 'Porsche 718 Cayman') "
   ]
  },
  {
   "cell_type": "code",
   "execution_count": 23,
   "metadata": {},
   "outputs": [
    {
     "data": {
      "image/png": "[encoded data removed]",
      "text/plain": [
       "<Figure size 432x288 with 1 Axes>"
      ]
     },
     "metadata": {
      "needs_background": "light"
     },
     "output_type": "display_data"
    }
   ],
   "source": [
    "display_closestwords_tsnescatterplot(model, 'Toyota Yaris') "
   ]
  },
  {
   "cell_type": "code",
   "execution_count": 24,
   "metadata": {},
   "outputs": [
    {
     "data": {
      "text/plain": [
       "array([ 0.05035063,  0.165065  ,  0.09856343, -0.04464481,  0.03055117,\n",
       "       -0.27325404,  0.02297328,  0.29686972, -0.19446763, -0.15422839,\n",
       "        0.22177935, -0.17306295,  0.14051193,  0.18377553, -0.06028323,\n",
       "        0.00584   ,  0.27468166,  0.0850866 , -0.23995744,  0.03839727,\n",
       "       -0.1928332 , -0.04944595, -0.14624204,  0.16884057, -0.17448862,\n",
       "       -0.10550608, -0.17452297,  0.15094237, -0.15997688, -0.18787655,\n",
       "        0.41717345,  0.04458954, -0.18185076, -0.07995227, -0.0348996 ,\n",
       "       -0.11580072,  0.11728356, -0.1991666 , -0.00772713,  0.08053745,\n",
       "       -0.1642258 , -0.02485772,  0.13029645,  0.3026611 , -0.03012103,\n",
       "       -0.00024381,  0.01350767, -0.20529746,  0.17338097,  0.17085156,\n",
       "        0.14587083, -0.17669146,  0.0008736 , -0.07823745, -0.04369223,\n",
       "        0.00822223, -0.00877175, -0.04908975, -0.00684395,  0.13821046,\n",
       "        0.10102902,  0.12644917,  0.10893636,  0.2469037 , -0.17927268,\n",
       "       -0.01176028,  0.21566473,  0.03961034, -0.14348687,  0.33334437,\n",
       "        0.27865097,  0.02784738,  0.21307999, -0.14152338,  0.01918699,\n",
       "        0.15661593, -0.11818454,  0.11352514, -0.08894014,  0.04380463,\n",
       "        0.13128394, -0.10099858,  0.02652917,  0.32075247,  0.12791657,\n",
       "       -0.03104834,  0.25201318,  0.02044592, -0.10501938,  0.01438878,\n",
       "        0.15337613, -0.02728722, -0.2980644 , -0.03521644,  0.08509344,\n",
       "       -0.10535719,  0.1722954 , -0.09523094,  0.09561533, -0.09220705,\n",
       "        0.23245788,  0.16724412,  0.01549743,  0.15979508,  0.17172942,\n",
       "       -0.03408205,  0.19288756, -0.14164229, -0.44835803,  0.09275419,\n",
       "       -0.24319835,  0.21992853, -0.202603  ,  0.12090725,  0.07301098,\n",
       "        0.04079219,  0.3341186 ,  0.0134608 ,  0.06152698, -0.2605817 ,\n",
       "       -0.11326343,  0.41464818,  0.22465537, -0.07860028,  0.23187149,\n",
       "        0.48632398, -0.5227365 , -0.13756871, -0.10615306,  0.37346244,\n",
       "        0.06638899, -0.09073395, -0.02540849, -0.47061333,  0.09838747,\n",
       "        0.5242144 , -0.14496474,  0.01929846, -0.4195642 , -0.15912662,\n",
       "        0.01507339, -0.11253437, -0.09718903,  0.12245392,  0.02369577,\n",
       "       -0.11576675,  0.01611781, -0.02855312,  0.00707067, -0.1338969 ,\n",
       "        0.22566946, -0.18898924, -0.18208922, -0.01569755, -0.27971902,\n",
       "       -0.02313787, -0.09276547,  0.17103179, -0.11280532,  0.23448613,\n",
       "        0.12047049, -0.09775285, -0.09926645,  0.35695148,  0.531832  ,\n",
       "       -0.03530642, -0.08452627, -0.13278964, -0.06476662,  0.09875982,\n",
       "       -0.3214601 , -0.11864117,  0.06803758,  0.03110234,  0.06219307,\n",
       "       -0.18486348, -0.3384948 ,  0.12577629,  0.33821008, -0.1212934 ,\n",
       "        0.09266699,  0.11647978, -0.27057174, -0.16461371, -0.38631442,\n",
       "       -0.09977341,  0.4312825 ,  0.2099226 ,  0.15340254, -0.34053496,\n",
       "        0.2846837 ,  0.10001926, -0.15321404, -0.12497146, -0.09113034,\n",
       "       -0.48548472, -0.08168727,  0.11093982, -0.04945211, -0.07351455,\n",
       "       -0.15729381,  0.11381043, -0.09777544, -0.10038317,  0.32156774,\n",
       "        0.20643084,  0.14397714,  0.12466208, -0.20114374,  0.10866741,\n",
       "       -0.13856877, -0.2575165 ,  0.27278507, -0.01605853,  0.03577367,\n",
       "       -0.03296882, -0.0484443 , -0.33664143, -0.15550984, -0.11855518,\n",
       "        0.11943458, -0.24964474,  0.14216183, -0.04024566, -0.2715592 ,\n",
       "       -0.08109203,  0.09769001, -0.06429357,  0.08957136, -0.1037688 ,\n",
       "        0.03964021, -0.17628379,  0.05029942,  0.00759478, -0.01092421,\n",
       "       -0.04732896,  0.32379714,  0.17655276,  0.01978753,  0.09523813,\n",
       "        0.18631542,  0.11839259,  0.07586358,  0.17035742, -0.00090512,\n",
       "       -0.07303197, -0.07045402, -0.1239308 ,  0.06326365, -0.02373956,\n",
       "        0.3005137 , -0.20340191,  0.30163145,  0.07959912, -0.21241657,\n",
       "       -0.1815344 ,  0.27971405,  0.3161769 , -0.26346523, -0.06203806,\n",
       "        0.0523998 , -0.16586919,  0.37640712,  0.10076952, -0.29092222,\n",
       "        0.04496761,  0.26131195,  0.15431869, -0.1692602 ,  0.17338532,\n",
       "       -0.20395958, -0.00052212, -0.12028439, -0.06586825, -0.11875317,\n",
       "       -0.12761842,  0.10652852,  0.256054  , -0.27805537, -0.07872881,\n",
       "       -0.12011487,  0.12750904, -0.00458231,  0.23557761,  0.1350363 ,\n",
       "        0.14137904, -0.24614637,  0.22692941, -0.0543358 ,  0.11383065,\n",
       "        0.01783094,  0.01090442,  0.00890246,  0.10349266,  0.27341348,\n",
       "        0.0209278 ,  0.22664689, -0.1686221 ,  0.08126839, -0.25391662],\n",
       "      dtype=float32)"
      ]
     },
     "execution_count": 24,
     "metadata": {},
     "output_type": "execute_result"
    }
   ],
   "source": [
    "model.wv['Toyota Camry']"
   ]
  },
  {
   "cell_type": "code",
   "execution_count": 25,
   "metadata": {},
   "outputs": [
    {
     "data": {
      "text/plain": [
       "[('Regular Cab Pickup', 0.788172721862793),\n",
       " ('Extended Cab Pickup', 0.7330517768859863),\n",
       " ('Toyota Sequoia', 0.6366194486618042),\n",
       " ('GMC Envoy XL', 0.6311871409416199),\n",
       " ('Chevrolet TrailBlazer EXT', 0.6282130479812622),\n",
       " ('Ford Expedition', 0.6278671026229858),\n",
       " ('Nissan Armada', 0.6274278163909912),\n",
       " ('GMC Envoy XUV', 0.6217577457427979),\n",
       " ('GMC Suburban', 0.6126042008399963),\n",
       " ('Oldsmobile Eighty-Eight Royale', 0.601077139377594)]"
      ]
     },
     "execution_count": 25,
     "metadata": {},
     "output_type": "execute_result"
    }
   ],
   "source": [
    "x = model.wv['Toyota Yaris']\n",
    "y = model.wv['Hatchback']\n",
    "z = model.wv['Regular Cab Pickup']\n",
    "model.wv.most_similar(positive=(x-y+z,))"
   ]
  },
  {
   "cell_type": "markdown",
   "metadata": {},
   "source": [
    "# Activity"
   ]
  },
  {
   "cell_type": "markdown",
   "metadata": {},
   "source": [
    "1. Use the customer complaint data to estimate the word embedding vectors\n",
    "2. Find similar words to 'debt', 'collection', 'risk'\n",
    "3. Plot the closest word using TSNE of the words in (2)."
   ]
  },
  {
   "cell_type": "code",
   "execution_count": 26,
   "metadata": {},
   "outputs": [],
   "source": [
    "import pandas as pd\n",
    "import matplotlib.pyplot as plt\n",
    "import re\n",
    "import nltk\n",
    "complaint_data = pd.read_pickle(\"D:/Pum_Program/HDS_WORK/Year 3/Semester 1/Text analytics/Lecture6_lab/data/consumer_complaint_dataset.data\")"
   ]
  },
  {
   "cell_type": "code",
   "execution_count": 27,
   "metadata": {},
   "outputs": [
    {
     "data": {
      "text/html": [
       "<div>\n",
       "<style scoped>\n",
       "    .dataframe tbody tr th:only-of-type {\n",
       "        vertical-align: middle;\n",
       "    }\n",
       "\n",
       "    .dataframe tbody tr th {\n",
       "        vertical-align: top;\n",
       "    }\n",
       "\n",
       "    .dataframe thead th {\n",
       "        text-align: right;\n",
       "    }\n",
       "</style>\n",
       "<table border=\"1\" class=\"dataframe\">\n",
       "  <thead>\n",
       "    <tr style=\"text-align: right;\">\n",
       "      <th></th>\n",
       "      <th>topic</th>\n",
       "      <th>input</th>\n",
       "    </tr>\n",
       "  </thead>\n",
       "  <tbody>\n",
       "    <tr>\n",
       "      <th>0</th>\n",
       "      <td>Debt collection</td>\n",
       "      <td>transworld systems inc. \\nis trying to collect...</td>\n",
       "    </tr>\n",
       "    <tr>\n",
       "      <th>1</th>\n",
       "      <td>Credit reporting, credit repair services, or o...</td>\n",
       "      <td>I would like to request the suppression of the...</td>\n",
       "    </tr>\n",
       "    <tr>\n",
       "      <th>2</th>\n",
       "      <td>Debt collection</td>\n",
       "      <td>Over the past 2 weeks, I have been receiving e...</td>\n",
       "    </tr>\n",
       "    <tr>\n",
       "      <th>3</th>\n",
       "      <td>Credit reporting, credit repair services, or o...</td>\n",
       "      <td>I HAD FILED WITH CFPB ON XX/XX/XXXX19 TO HAVE ...</td>\n",
       "    </tr>\n",
       "    <tr>\n",
       "      <th>4</th>\n",
       "      <td>Credit reporting, credit repair services, or o...</td>\n",
       "      <td>I have several accounts that the balance is in...</td>\n",
       "    </tr>\n",
       "  </tbody>\n",
       "</table>\n",
       "</div>"
      ],
      "text/plain": [
       "                                               topic  \\\n",
       "0                                    Debt collection   \n",
       "1  Credit reporting, credit repair services, or o...   \n",
       "2                                    Debt collection   \n",
       "3  Credit reporting, credit repair services, or o...   \n",
       "4  Credit reporting, credit repair services, or o...   \n",
       "\n",
       "                                               input  \n",
       "0  transworld systems inc. \\nis trying to collect...  \n",
       "1  I would like to request the suppression of the...  \n",
       "2  Over the past 2 weeks, I have been receiving e...  \n",
       "3  I HAD FILED WITH CFPB ON XX/XX/XXXX19 TO HAVE ...  \n",
       "4  I have several accounts that the balance is in...  "
      ]
     },
     "execution_count": 27,
     "metadata": {},
     "output_type": "execute_result"
    }
   ],
   "source": [
    "complaint_data.head()"
   ]
  },
  {
   "cell_type": "code",
   "execution_count": 28,
   "metadata": {},
   "outputs": [],
   "source": [
    "complaint_data[\"data\"] = complaint_data[\"topic\"] + complaint_data[\"input\"]"
   ]
  },
  {
   "cell_type": "code",
   "execution_count": 29,
   "metadata": {},
   "outputs": [],
   "source": [
    "complaint_customer = complaint_data[\"data\"]"
   ]
  },
  {
   "cell_type": "code",
   "execution_count": 30,
   "metadata": {},
   "outputs": [],
   "source": [
    "complaint = [data.split() for data in complaint_customer]"
   ]
  },
  {
   "cell_type": "code",
   "execution_count": 32,
   "metadata": {},
   "outputs": [],
   "source": [
    "model_1 = Word2Vec(complaint, min_count=1, vector_size=300, workers=5, window=10, sg = 1, epochs=2)"
   ]
  },
  {
   "cell_type": "code",
   "execution_count": 33,
   "metadata": {},
   "outputs": [
    {
     "data": {
      "text/plain": [
       "[('debt.', 0.8007758855819702),\n",
       " ('debt,', 0.7637102603912354),\n",
       " ('debt-', 0.7612301111221313),\n",
       " ('debts', 0.736707866191864),\n",
       " ('debt..', 0.7271795868873596)]"
      ]
     },
     "execution_count": 33,
     "metadata": {},
     "output_type": "execute_result"
    }
   ],
   "source": [
    "model_1.wv.most_similar('debt')[:5]"
   ]
  },
  {
   "cell_type": "code",
   "execution_count": 34,
   "metadata": {},
   "outputs": [
    {
     "data": {
      "text/plain": [
       "[('collections', 0.8124154806137085),\n",
       " ('collection.', 0.7077081799507141),\n",
       " ('colection', 0.6644518971443176),\n",
       " ('Hunter-Warfield', 0.6627241969108582),\n",
       " ('Convergence', 0.6586585640907288)]"
      ]
     },
     "execution_count": 34,
     "metadata": {},
     "output_type": "execute_result"
    }
   ],
   "source": [
    "model_1.wv.most_similar('collection')[:5]"
   ]
  },
  {
   "cell_type": "code",
   "execution_count": 35,
   "metadata": {},
   "outputs": [
    {
     "data": {
      "text/plain": [
       "[('risk,', 0.7304035425186157),\n",
       " ('reputational', 0.6442158222198486),\n",
       " ('risk.', 0.6239709258079529),\n",
       " ('exposure', 0.6220661997795105),\n",
       " ('theft/fraud', 0.6087296009063721)]"
      ]
     },
     "execution_count": 35,
     "metadata": {},
     "output_type": "execute_result"
    }
   ],
   "source": [
    "model_1.wv.most_similar('risk')[:5]"
   ]
  },
  {
   "cell_type": "code",
   "execution_count": 36,
   "metadata": {},
   "outputs": [
    {
     "data": {
      "image/png": "[encoded data removed]",
      "text/plain": [
       "<Figure size 432x288 with 1 Axes>"
      ]
     },
     "metadata": {
      "needs_background": "light"
     },
     "output_type": "display_data"
    }
   ],
   "source": [
    "display_closestwords_tsnescatterplot(model_1, 'debt') "
   ]
  },
  {
   "cell_type": "code",
   "execution_count": 37,
   "metadata": {},
   "outputs": [
    {
     "data": {
      "image/png": "[encoded data removed]",
      "text/plain": [
       "<Figure size 432x288 with 1 Axes>"
      ]
     },
     "metadata": {
      "needs_background": "light"
     },
     "output_type": "display_data"
    }
   ],
   "source": [
    "display_closestwords_tsnescatterplot(model_1, 'collection') "
   ]
  },
  {
   "cell_type": "code",
   "execution_count": 38,
   "metadata": {},
   "outputs": [
    {
     "data": {
      "image/png": "[encoded data removed]",
      "text/plain": [
       "<Figure size 432x288 with 1 Axes>"
      ]
     },
     "metadata": {
      "needs_background": "light"
     },
     "output_type": "display_data"
    }
   ],
   "source": [
    "display_closestwords_tsnescatterplot(model_1, 'risk') "
   ]
  },
  {
   "cell_type": "code",
   "execution_count": null,
   "metadata": {},
   "outputs": [],
   "source": []
  }
 ],
 "metadata": {
  "kernelspec": {
   "display_name": "Textanalytic",
   "language": "python",
   "name": "textanalytic"
  },
  "language_info": {
   "codemirror_mode": {
    "name": "ipython",
    "version": 3
   },
   "file_extension": ".py",
   "mimetype": "text/x-python",
   "name": "python",
   "nbconvert_exporter": "python",
   "pygments_lexer": "ipython3",
   "version": "3.8.8"
  },
  "toc": {
   "base_numbering": 1,
   "nav_menu": {},
   "number_sections": true,
   "sideBar": true,
   "skip_h1_title": false,
   "title_cell": "Table of Contents",
   "title_sidebar": "Contents",
   "toc_cell": false,
   "toc_position": {},
   "toc_section_display": true,
   "toc_window_display": false
  }
 },
 "nbformat": 4,
 "nbformat_minor": 2
}
