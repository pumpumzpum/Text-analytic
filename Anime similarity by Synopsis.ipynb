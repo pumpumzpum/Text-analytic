{
 "cells": [
  {
   "cell_type": "code",
   "execution_count": 2,
   "id": "241e6dc6",
   "metadata": {},
   "outputs": [],
   "source": [
    "import pandas as pd"
   ]
  },
  {
   "cell_type": "code",
   "execution_count": 3,
   "id": "f90996af",
   "metadata": {},
   "outputs": [],
   "source": [
    "anime_data = pd.read_csv('anime_with_synopsis.csv')"
   ]
  },
  {
   "cell_type": "markdown",
   "id": "8b691677",
   "metadata": {},
   "source": [
    "## Exploring  and Cleaning data"
   ]
  },
  {
   "cell_type": "code",
   "execution_count": 4,
   "id": "91c431bd",
   "metadata": {},
   "outputs": [
    {
     "data": {
      "text/html": [
       "<div>\n",
       "<style scoped>\n",
       "    .dataframe tbody tr th:only-of-type {\n",
       "        vertical-align: middle;\n",
       "    }\n",
       "\n",
       "    .dataframe tbody tr th {\n",
       "        vertical-align: top;\n",
       "    }\n",
       "\n",
       "    .dataframe thead th {\n",
       "        text-align: right;\n",
       "    }\n",
       "</style>\n",
       "<table border=\"1\" class=\"dataframe\">\n",
       "  <thead>\n",
       "    <tr style=\"text-align: right;\">\n",
       "      <th></th>\n",
       "      <th>MAL_ID</th>\n",
       "      <th>Name</th>\n",
       "      <th>Score</th>\n",
       "      <th>Genres</th>\n",
       "      <th>sypnopsis</th>\n",
       "    </tr>\n",
       "  </thead>\n",
       "  <tbody>\n",
       "    <tr>\n",
       "      <th>0</th>\n",
       "      <td>1</td>\n",
       "      <td>Cowboy Bebop</td>\n",
       "      <td>8.78</td>\n",
       "      <td>Action, Adventure, Comedy, Drama, Sci-Fi, Space</td>\n",
       "      <td>In the year 2071, humanity has colonized sever...</td>\n",
       "    </tr>\n",
       "    <tr>\n",
       "      <th>1</th>\n",
       "      <td>5</td>\n",
       "      <td>Cowboy Bebop: Tengoku no Tobira</td>\n",
       "      <td>8.39</td>\n",
       "      <td>Action, Drama, Mystery, Sci-Fi, Space</td>\n",
       "      <td>other day, another bounty—such is the life of ...</td>\n",
       "    </tr>\n",
       "    <tr>\n",
       "      <th>2</th>\n",
       "      <td>6</td>\n",
       "      <td>Trigun</td>\n",
       "      <td>8.24</td>\n",
       "      <td>Action, Sci-Fi, Adventure, Comedy, Drama, Shounen</td>\n",
       "      <td>Vash the Stampede is the man with a $$60,000,0...</td>\n",
       "    </tr>\n",
       "    <tr>\n",
       "      <th>3</th>\n",
       "      <td>7</td>\n",
       "      <td>Witch Hunter Robin</td>\n",
       "      <td>7.27</td>\n",
       "      <td>Action, Mystery, Police, Supernatural, Drama, ...</td>\n",
       "      <td>ches are individuals with special powers like ...</td>\n",
       "    </tr>\n",
       "    <tr>\n",
       "      <th>4</th>\n",
       "      <td>8</td>\n",
       "      <td>Bouken Ou Beet</td>\n",
       "      <td>6.98</td>\n",
       "      <td>Adventure, Fantasy, Shounen, Supernatural</td>\n",
       "      <td>It is the dark century and the people are suff...</td>\n",
       "    </tr>\n",
       "  </tbody>\n",
       "</table>\n",
       "</div>"
      ],
      "text/plain": [
       "   MAL_ID                             Name Score  \\\n",
       "0       1                     Cowboy Bebop  8.78   \n",
       "1       5  Cowboy Bebop: Tengoku no Tobira  8.39   \n",
       "2       6                           Trigun  8.24   \n",
       "3       7               Witch Hunter Robin  7.27   \n",
       "4       8                   Bouken Ou Beet  6.98   \n",
       "\n",
       "                                              Genres  \\\n",
       "0    Action, Adventure, Comedy, Drama, Sci-Fi, Space   \n",
       "1              Action, Drama, Mystery, Sci-Fi, Space   \n",
       "2  Action, Sci-Fi, Adventure, Comedy, Drama, Shounen   \n",
       "3  Action, Mystery, Police, Supernatural, Drama, ...   \n",
       "4          Adventure, Fantasy, Shounen, Supernatural   \n",
       "\n",
       "                                           sypnopsis  \n",
       "0  In the year 2071, humanity has colonized sever...  \n",
       "1  other day, another bounty—such is the life of ...  \n",
       "2  Vash the Stampede is the man with a $$60,000,0...  \n",
       "3  ches are individuals with special powers like ...  \n",
       "4  It is the dark century and the people are suff...  "
      ]
     },
     "execution_count": 4,
     "metadata": {},
     "output_type": "execute_result"
    }
   ],
   "source": [
    "anime_data.head()"
   ]
  },
  {
   "cell_type": "code",
   "execution_count": 5,
   "id": "5e721d36",
   "metadata": {},
   "outputs": [],
   "source": [
    "anime_data['length'] = anime_data['sypnopsis'].str.len()"
   ]
  },
  {
   "cell_type": "code",
   "execution_count": 6,
   "id": "84240c07",
   "metadata": {},
   "outputs": [
    {
     "name": "stdout",
     "output_type": "stream",
     "text": [
      "<class 'pandas.core.frame.DataFrame'>\n",
      "RangeIndex: 16214 entries, 0 to 16213\n",
      "Data columns (total 6 columns):\n",
      " #   Column     Non-Null Count  Dtype  \n",
      "---  ------     --------------  -----  \n",
      " 0   MAL_ID     16214 non-null  int64  \n",
      " 1   Name       16214 non-null  object \n",
      " 2   Score      16214 non-null  object \n",
      " 3   Genres     16214 non-null  object \n",
      " 4   sypnopsis  16206 non-null  object \n",
      " 5   length     16206 non-null  float64\n",
      "dtypes: float64(1), int64(1), object(4)\n",
      "memory usage: 760.2+ KB\n"
     ]
    }
   ],
   "source": [
    "anime_data.info()"
   ]
  },
  {
   "cell_type": "code",
   "execution_count": 7,
   "id": "85dba72a",
   "metadata": {},
   "outputs": [
    {
     "data": {
      "text/plain": [
       "(16214, 6)"
      ]
     },
     "execution_count": 7,
     "metadata": {},
     "output_type": "execute_result"
    }
   ],
   "source": [
    "anime_data.shape"
   ]
  },
  {
   "cell_type": "code",
   "execution_count": 8,
   "id": "529c571c",
   "metadata": {},
   "outputs": [
    {
     "data": {
      "text/plain": [
       "MAL_ID       0\n",
       "Name         0\n",
       "Score        0\n",
       "Genres       0\n",
       "sypnopsis    8\n",
       "length       8\n",
       "dtype: int64"
      ]
     },
     "execution_count": 8,
     "metadata": {},
     "output_type": "execute_result"
    }
   ],
   "source": [
    "anime_data.isna().sum()"
   ]
  },
  {
   "cell_type": "code",
   "execution_count": 9,
   "id": "4c9a5a54",
   "metadata": {},
   "outputs": [
    {
     "data": {
      "text/html": [
       "<div>\n",
       "<style scoped>\n",
       "    .dataframe tbody tr th:only-of-type {\n",
       "        vertical-align: middle;\n",
       "    }\n",
       "\n",
       "    .dataframe tbody tr th {\n",
       "        vertical-align: top;\n",
       "    }\n",
       "\n",
       "    .dataframe thead th {\n",
       "        text-align: right;\n",
       "    }\n",
       "</style>\n",
       "<table border=\"1\" class=\"dataframe\">\n",
       "  <thead>\n",
       "    <tr style=\"text-align: right;\">\n",
       "      <th></th>\n",
       "      <th>MAL_ID</th>\n",
       "      <th>Name</th>\n",
       "      <th>Score</th>\n",
       "      <th>Genres</th>\n",
       "      <th>sypnopsis</th>\n",
       "      <th>length</th>\n",
       "    </tr>\n",
       "  </thead>\n",
       "  <tbody>\n",
       "    <tr>\n",
       "      <th>11451</th>\n",
       "      <td>34755</td>\n",
       "      <td>Kuma no Gakkou: Patissier Jackie to Ohisama no...</td>\n",
       "      <td>Unknown</td>\n",
       "      <td>Comedy, Kids</td>\n",
       "      <td>NaN</td>\n",
       "      <td>NaN</td>\n",
       "    </tr>\n",
       "    <tr>\n",
       "      <th>11469</th>\n",
       "      <td>34794</td>\n",
       "      <td>Yukai na Animal Bus</td>\n",
       "      <td>Unknown</td>\n",
       "      <td>Comedy, Kids</td>\n",
       "      <td>NaN</td>\n",
       "      <td>NaN</td>\n",
       "    </tr>\n",
       "    <tr>\n",
       "      <th>13686</th>\n",
       "      <td>38475</td>\n",
       "      <td>Yuru Camp△ Movie</td>\n",
       "      <td>Unknown</td>\n",
       "      <td>Comedy, Slice of Life</td>\n",
       "      <td>NaN</td>\n",
       "      <td>NaN</td>\n",
       "    </tr>\n",
       "    <tr>\n",
       "      <th>15025</th>\n",
       "      <td>40714</td>\n",
       "      <td>Youkai Watch Jam: Youkai Gakuen Y - N to no So...</td>\n",
       "      <td>6.28</td>\n",
       "      <td>Comedy, Demons, Kids, Supernatural, School</td>\n",
       "      <td>NaN</td>\n",
       "      <td>NaN</td>\n",
       "    </tr>\n",
       "    <tr>\n",
       "      <th>15747</th>\n",
       "      <td>42717</td>\n",
       "      <td>Kaeru no Pickles: Kimochi no Iro</td>\n",
       "      <td>Unknown</td>\n",
       "      <td>Slice of Life, Kids</td>\n",
       "      <td>NaN</td>\n",
       "      <td>NaN</td>\n",
       "    </tr>\n",
       "    <tr>\n",
       "      <th>16056</th>\n",
       "      <td>44848</td>\n",
       "      <td>Iii Icecrin</td>\n",
       "      <td>Unknown</td>\n",
       "      <td>Kids</td>\n",
       "      <td>NaN</td>\n",
       "      <td>NaN</td>\n",
       "    </tr>\n",
       "    <tr>\n",
       "      <th>16110</th>\n",
       "      <td>45731</td>\n",
       "      <td>Argonavis from BanG Dream! Movie</td>\n",
       "      <td>Unknown</td>\n",
       "      <td>Music</td>\n",
       "      <td>NaN</td>\n",
       "      <td>NaN</td>\n",
       "    </tr>\n",
       "    <tr>\n",
       "      <th>16120</th>\n",
       "      <td>46095</td>\n",
       "      <td>Vivy: Fluorite Eye's Song</td>\n",
       "      <td>Unknown</td>\n",
       "      <td>Sci-Fi</td>\n",
       "      <td>NaN</td>\n",
       "      <td>NaN</td>\n",
       "    </tr>\n",
       "  </tbody>\n",
       "</table>\n",
       "</div>"
      ],
      "text/plain": [
       "       MAL_ID                                               Name    Score  \\\n",
       "11451   34755  Kuma no Gakkou: Patissier Jackie to Ohisama no...  Unknown   \n",
       "11469   34794                                Yukai na Animal Bus  Unknown   \n",
       "13686   38475                                   Yuru Camp△ Movie  Unknown   \n",
       "15025   40714  Youkai Watch Jam: Youkai Gakuen Y - N to no So...     6.28   \n",
       "15747   42717                   Kaeru no Pickles: Kimochi no Iro  Unknown   \n",
       "16056   44848                                        Iii Icecrin  Unknown   \n",
       "16110   45731                   Argonavis from BanG Dream! Movie  Unknown   \n",
       "16120   46095                          Vivy: Fluorite Eye's Song  Unknown   \n",
       "\n",
       "                                           Genres sypnopsis  length  \n",
       "11451                                Comedy, Kids       NaN     NaN  \n",
       "11469                                Comedy, Kids       NaN     NaN  \n",
       "13686                       Comedy, Slice of Life       NaN     NaN  \n",
       "15025  Comedy, Demons, Kids, Supernatural, School       NaN     NaN  \n",
       "15747                         Slice of Life, Kids       NaN     NaN  \n",
       "16056                                        Kids       NaN     NaN  \n",
       "16110                                       Music       NaN     NaN  \n",
       "16120                                      Sci-Fi       NaN     NaN  "
      ]
     },
     "execution_count": 9,
     "metadata": {},
     "output_type": "execute_result"
    }
   ],
   "source": [
    "anime_data[anime_data['sypnopsis'].isna()]"
   ]
  },
  {
   "cell_type": "markdown",
   "id": "a258259d",
   "metadata": {},
   "source": [
    "### ตัดสินใจ drop ข้อมูลที่ synopsis ว่างทั้งหมด เพราะมองว่าเป็นส่วนน้อยของข้อมูล และยังมี Score ที่ไม่รู้ส่วนใหญ่"
   ]
  },
  {
   "cell_type": "code",
   "execution_count": 10,
   "id": "ca386a36",
   "metadata": {},
   "outputs": [],
   "source": [
    "anime_data.dropna(inplace=True)"
   ]
  },
  {
   "cell_type": "code",
   "execution_count": 11,
   "id": "13597e8b",
   "metadata": {},
   "outputs": [
    {
     "data": {
      "text/plain": [
       "(16206, 6)"
      ]
     },
     "execution_count": 11,
     "metadata": {},
     "output_type": "execute_result"
    }
   ],
   "source": [
    "anime_data.shape"
   ]
  },
  {
   "cell_type": "code",
   "execution_count": 12,
   "id": "616a469b",
   "metadata": {},
   "outputs": [
    {
     "data": {
      "text/html": [
       "<div>\n",
       "<style scoped>\n",
       "    .dataframe tbody tr th:only-of-type {\n",
       "        vertical-align: middle;\n",
       "    }\n",
       "\n",
       "    .dataframe tbody tr th {\n",
       "        vertical-align: top;\n",
       "    }\n",
       "\n",
       "    .dataframe thead th {\n",
       "        text-align: right;\n",
       "    }\n",
       "</style>\n",
       "<table border=\"1\" class=\"dataframe\">\n",
       "  <thead>\n",
       "    <tr style=\"text-align: right;\">\n",
       "      <th></th>\n",
       "      <th>MAL_ID</th>\n",
       "      <th>Name</th>\n",
       "      <th>Score</th>\n",
       "      <th>Genres</th>\n",
       "      <th>sypnopsis</th>\n",
       "      <th>length</th>\n",
       "    </tr>\n",
       "  </thead>\n",
       "  <tbody>\n",
       "    <tr>\n",
       "      <th>2225</th>\n",
       "      <td>2626</td>\n",
       "      <td>The☆Doraemons: Mushimushi Pyonpyon Daisakusen!</td>\n",
       "      <td>6.27</td>\n",
       "      <td>Fantasy</td>\n",
       "      <td>No synopsis information has been added to this...</td>\n",
       "      <td>107.0</td>\n",
       "    </tr>\n",
       "    <tr>\n",
       "      <th>2226</th>\n",
       "      <td>2627</td>\n",
       "      <td>Doraemon: It's New Year!</td>\n",
       "      <td>6.49</td>\n",
       "      <td>Kids, Comedy, Sci-Fi, Shounen</td>\n",
       "      <td>No synopsis information has been added to this...</td>\n",
       "      <td>107.0</td>\n",
       "    </tr>\n",
       "    <tr>\n",
       "      <th>2227</th>\n",
       "      <td>2628</td>\n",
       "      <td>The☆Doraemons: Strange, Sweets, Strange?</td>\n",
       "      <td>6.29</td>\n",
       "      <td>Fantasy</td>\n",
       "      <td>No synopsis information has been added to this...</td>\n",
       "      <td>107.0</td>\n",
       "    </tr>\n",
       "    <tr>\n",
       "      <th>2228</th>\n",
       "      <td>2629</td>\n",
       "      <td>Doraemon and Itchy the Stray</td>\n",
       "      <td>6.35</td>\n",
       "      <td>Comedy, Kids, Sci-Fi, Shounen</td>\n",
       "      <td>No synopsis information has been added to this...</td>\n",
       "      <td>107.0</td>\n",
       "    </tr>\n",
       "    <tr>\n",
       "      <th>2231</th>\n",
       "      <td>2632</td>\n",
       "      <td>Doraemon: Time Machine de Oshougatsu</td>\n",
       "      <td>6.41</td>\n",
       "      <td>Sci-Fi, Adventure, Comedy, Kids, Shounen</td>\n",
       "      <td>No synopsis information has been added to this...</td>\n",
       "      <td>107.0</td>\n",
       "    </tr>\n",
       "  </tbody>\n",
       "</table>\n",
       "</div>"
      ],
      "text/plain": [
       "      MAL_ID                                            Name Score  \\\n",
       "2225    2626  The☆Doraemons: Mushimushi Pyonpyon Daisakusen!  6.27   \n",
       "2226    2627                        Doraemon: It's New Year!  6.49   \n",
       "2227    2628        The☆Doraemons: Strange, Sweets, Strange?  6.29   \n",
       "2228    2629                    Doraemon and Itchy the Stray  6.35   \n",
       "2231    2632            Doraemon: Time Machine de Oshougatsu  6.41   \n",
       "\n",
       "                                        Genres  \\\n",
       "2225                                   Fantasy   \n",
       "2226             Kids, Comedy, Sci-Fi, Shounen   \n",
       "2227                                   Fantasy   \n",
       "2228             Comedy, Kids, Sci-Fi, Shounen   \n",
       "2231  Sci-Fi, Adventure, Comedy, Kids, Shounen   \n",
       "\n",
       "                                              sypnopsis  length  \n",
       "2225  No synopsis information has been added to this...   107.0  \n",
       "2226  No synopsis information has been added to this...   107.0  \n",
       "2227  No synopsis information has been added to this...   107.0  \n",
       "2228  No synopsis information has been added to this...   107.0  \n",
       "2231  No synopsis information has been added to this...   107.0  "
      ]
     },
     "execution_count": 12,
     "metadata": {},
     "output_type": "execute_result"
    }
   ],
   "source": [
    "no_inform_syp = anime_data[anime_data['sypnopsis'].str.contains('No synopsis information')]\n",
    "no_inform_syp.head()"
   ]
  },
  {
   "cell_type": "code",
   "execution_count": 13,
   "id": "0151bddf",
   "metadata": {},
   "outputs": [
    {
     "data": {
      "text/plain": [
       "(709, 6)"
      ]
     },
     "execution_count": 13,
     "metadata": {},
     "output_type": "execute_result"
    }
   ],
   "source": [
    "no_inform_syp.shape"
   ]
  },
  {
   "cell_type": "markdown",
   "id": "4959819d",
   "metadata": {},
   "source": [
    "### และมี Synopsis ที่ไม่มีข้อมูล 709 เรื่อง ซึ่งมีบางเรื่องที่ไม่รู้ข้อมูล Genres เช่นเดียวกัน\n",
    "### โดยเขียนลงในคอลลัมน์ Synopsis ของข้อมูลว่า No synopsis information ..."
   ]
  },
  {
   "cell_type": "code",
   "execution_count": 14,
   "id": "07cc6eb7",
   "metadata": {},
   "outputs": [],
   "source": [
    "anime_data.drop(no_inform_syp.index,inplace=True)"
   ]
  },
  {
   "cell_type": "code",
   "execution_count": 15,
   "id": "f3d9ef08",
   "metadata": {},
   "outputs": [
    {
     "data": {
      "text/html": [
       "<div>\n",
       "<style scoped>\n",
       "    .dataframe tbody tr th:only-of-type {\n",
       "        vertical-align: middle;\n",
       "    }\n",
       "\n",
       "    .dataframe tbody tr th {\n",
       "        vertical-align: top;\n",
       "    }\n",
       "\n",
       "    .dataframe thead th {\n",
       "        text-align: right;\n",
       "    }\n",
       "</style>\n",
       "<table border=\"1\" class=\"dataframe\">\n",
       "  <thead>\n",
       "    <tr style=\"text-align: right;\">\n",
       "      <th></th>\n",
       "      <th>MAL_ID</th>\n",
       "      <th>Name</th>\n",
       "      <th>Score</th>\n",
       "      <th>Genres</th>\n",
       "      <th>sypnopsis</th>\n",
       "      <th>length</th>\n",
       "    </tr>\n",
       "  </thead>\n",
       "  <tbody>\n",
       "    <tr>\n",
       "      <th>8759</th>\n",
       "      <td>28487</td>\n",
       "      <td>Ikite Iru</td>\n",
       "      <td>Unknown</td>\n",
       "      <td>Unknown</td>\n",
       "      <td>Tsuyoshi is 9 years old and had friends over t...</td>\n",
       "      <td>342.0</td>\n",
       "    </tr>\n",
       "    <tr>\n",
       "      <th>8807</th>\n",
       "      <td>28653</td>\n",
       "      <td>Maze</td>\n",
       "      <td>Unknown</td>\n",
       "      <td>Unknown</td>\n",
       "      <td>stract stop motion animation by Tochka.</td>\n",
       "      <td>39.0</td>\n",
       "    </tr>\n",
       "    <tr>\n",
       "      <th>8808</th>\n",
       "      <td>28655</td>\n",
       "      <td>PiKA PiKA</td>\n",
       "      <td>5.12</td>\n",
       "      <td>Unknown</td>\n",
       "      <td>stract short film, the first \"lightning doodle...</td>\n",
       "      <td>63.0</td>\n",
       "    </tr>\n",
       "    <tr>\n",
       "      <th>9049</th>\n",
       "      <td>29655</td>\n",
       "      <td>Chanda Gou</td>\n",
       "      <td>Unknown</td>\n",
       "      <td>Unknown</td>\n",
       "      <td>Independent animation by Yanagihara Ryouhei, m...</td>\n",
       "      <td>122.0</td>\n",
       "    </tr>\n",
       "    <tr>\n",
       "      <th>9101</th>\n",
       "      <td>29765</td>\n",
       "      <td>Metropolis (2009)</td>\n",
       "      <td>5.93</td>\n",
       "      <td>Unknown</td>\n",
       "      <td>ai Mizue's first time experimenting with geome...</td>\n",
       "      <td>61.0</td>\n",
       "    </tr>\n",
       "  </tbody>\n",
       "</table>\n",
       "</div>"
      ],
      "text/plain": [
       "      MAL_ID               Name    Score   Genres  \\\n",
       "8759   28487          Ikite Iru  Unknown  Unknown   \n",
       "8807   28653               Maze  Unknown  Unknown   \n",
       "8808   28655          PiKA PiKA     5.12  Unknown   \n",
       "9049   29655         Chanda Gou  Unknown  Unknown   \n",
       "9101   29765  Metropolis (2009)     5.93  Unknown   \n",
       "\n",
       "                                              sypnopsis  length  \n",
       "8759  Tsuyoshi is 9 years old and had friends over t...   342.0  \n",
       "8807            stract stop motion animation by Tochka.    39.0  \n",
       "8808  stract short film, the first \"lightning doodle...    63.0  \n",
       "9049  Independent animation by Yanagihara Ryouhei, m...   122.0  \n",
       "9101  ai Mizue's first time experimenting with geome...    61.0  "
      ]
     },
     "execution_count": 15,
     "metadata": {},
     "output_type": "execute_result"
    }
   ],
   "source": [
    "unk_genre = anime_data[anime_data['Genres'].str.contains('Unknown')]\n",
    "unk_genre.head()"
   ]
  },
  {
   "cell_type": "code",
   "execution_count": 16,
   "id": "c8e157c6",
   "metadata": {},
   "outputs": [
    {
     "data": {
      "text/plain": [
       "(42, 6)"
      ]
     },
     "execution_count": 16,
     "metadata": {},
     "output_type": "execute_result"
    }
   ],
   "source": [
    "unk_genre.shape"
   ]
  },
  {
   "cell_type": "code",
   "execution_count": 17,
   "id": "e2843681",
   "metadata": {},
   "outputs": [],
   "source": [
    "anime_data.drop(unk_genre.index,inplace=True)"
   ]
  },
  {
   "cell_type": "markdown",
   "id": "67e3b3d4",
   "metadata": {},
   "source": [
    "### จากการสำรวจข้อมูลเบื้องต้นทำให้พบว่ามี Genres ที่ไม่รู้ข้อมูล 42 เรื่อง (หลังจากที่ลบข้อมูลที่ไม่มี Synopsis)"
   ]
  },
  {
   "cell_type": "markdown",
   "id": "115990bd",
   "metadata": {},
   "source": [
    "### เนื่องจากข้อมูลเหล่านี้มีผลกับการทำฟังก์ชั่นเรียงลำดับอนิเมะที่มี Synopsis ที่คล้ายกัน จึงตัดสินใจ Drop ทั้งหมด\n",
    "### ทั้งในส่วนของ Genres 'Unknown' และ Synopsis 'No synopsis information'"
   ]
  },
  {
   "cell_type": "code",
   "execution_count": 18,
   "id": "94a33586",
   "metadata": {},
   "outputs": [
    {
     "data": {
      "text/plain": [
       "(15455, 6)"
      ]
     },
     "execution_count": 18,
     "metadata": {},
     "output_type": "execute_result"
    }
   ],
   "source": [
    "anime_data.shape"
   ]
  },
  {
   "cell_type": "code",
   "execution_count": 19,
   "id": "5aa0e564",
   "metadata": {},
   "outputs": [
    {
     "data": {
      "text/html": [
       "<div>\n",
       "<style scoped>\n",
       "    .dataframe tbody tr th:only-of-type {\n",
       "        vertical-align: middle;\n",
       "    }\n",
       "\n",
       "    .dataframe tbody tr th {\n",
       "        vertical-align: top;\n",
       "    }\n",
       "\n",
       "    .dataframe thead th {\n",
       "        text-align: right;\n",
       "    }\n",
       "</style>\n",
       "<table border=\"1\" class=\"dataframe\">\n",
       "  <thead>\n",
       "    <tr style=\"text-align: right;\">\n",
       "      <th></th>\n",
       "      <th>MAL_ID</th>\n",
       "      <th>Name</th>\n",
       "      <th>Score</th>\n",
       "      <th>Genres</th>\n",
       "      <th>sypnopsis</th>\n",
       "      <th>length</th>\n",
       "    </tr>\n",
       "  </thead>\n",
       "  <tbody>\n",
       "    <tr>\n",
       "      <th>1347</th>\n",
       "      <td>1547</td>\n",
       "      <td>Obake no Q-tarou</td>\n",
       "      <td>Unknown</td>\n",
       "      <td>Comedy, School, Slice of Life, Supernatural</td>\n",
       "      <td>Q-taro, a monster, is living with the Ohara fa...</td>\n",
       "      <td>255.0</td>\n",
       "    </tr>\n",
       "    <tr>\n",
       "      <th>1439</th>\n",
       "      <td>1656</td>\n",
       "      <td>PostPet Momobin</td>\n",
       "      <td>Unknown</td>\n",
       "      <td>Comedy, Kids</td>\n",
       "      <td>omo and Komomo can deliver mail from anyone, t...</td>\n",
       "      <td>385.0</td>\n",
       "    </tr>\n",
       "    <tr>\n",
       "      <th>1512</th>\n",
       "      <td>1739</td>\n",
       "      <td>Shibawanko no Wa no Kokoro</td>\n",
       "      <td>Unknown</td>\n",
       "      <td>Kids</td>\n",
       "      <td>Based on a japanese children`s book by Yoshie ...</td>\n",
       "      <td>838.0</td>\n",
       "    </tr>\n",
       "    <tr>\n",
       "      <th>1619</th>\n",
       "      <td>1863</td>\n",
       "      <td>Silk Road Shounen Yuuto</td>\n",
       "      <td>Unknown</td>\n",
       "      <td>Adventure, Fantasy, Historical</td>\n",
       "      <td>hen a boy Yuto visits Qinghai in China, he is ...</td>\n",
       "      <td>434.0</td>\n",
       "    </tr>\n",
       "    <tr>\n",
       "      <th>1808</th>\n",
       "      <td>2073</td>\n",
       "      <td>Hengen Taima Yakou Karura Mau! Sendai Kokeshi ...</td>\n",
       "      <td>Unknown</td>\n",
       "      <td>Horror, Shoujo</td>\n",
       "      <td>Shoko and Maiko Ougi are apparently two ordina...</td>\n",
       "      <td>438.0</td>\n",
       "    </tr>\n",
       "  </tbody>\n",
       "</table>\n",
       "</div>"
      ],
      "text/plain": [
       "      MAL_ID                                               Name    Score  \\\n",
       "1347    1547                                   Obake no Q-tarou  Unknown   \n",
       "1439    1656                                    PostPet Momobin  Unknown   \n",
       "1512    1739                         Shibawanko no Wa no Kokoro  Unknown   \n",
       "1619    1863                            Silk Road Shounen Yuuto  Unknown   \n",
       "1808    2073  Hengen Taima Yakou Karura Mau! Sendai Kokeshi ...  Unknown   \n",
       "\n",
       "                                           Genres  \\\n",
       "1347  Comedy, School, Slice of Life, Supernatural   \n",
       "1439                                 Comedy, Kids   \n",
       "1512                                         Kids   \n",
       "1619               Adventure, Fantasy, Historical   \n",
       "1808                               Horror, Shoujo   \n",
       "\n",
       "                                              sypnopsis  length  \n",
       "1347  Q-taro, a monster, is living with the Ohara fa...   255.0  \n",
       "1439  omo and Komomo can deliver mail from anyone, t...   385.0  \n",
       "1512  Based on a japanese children`s book by Yoshie ...   838.0  \n",
       "1619  hen a boy Yuto visits Qinghai in China, he is ...   434.0  \n",
       "1808  Shoko and Maiko Ougi are apparently two ordina...   438.0  "
      ]
     },
     "execution_count": 19,
     "metadata": {},
     "output_type": "execute_result"
    }
   ],
   "source": [
    "anime_data[anime_data['Score'].isin(['Unknown'])].head()"
   ]
  },
  {
   "cell_type": "code",
   "execution_count": 20,
   "id": "64d2dc4b",
   "metadata": {},
   "outputs": [
    {
     "data": {
      "text/plain": [
       "(4556, 6)"
      ]
     },
     "execution_count": 20,
     "metadata": {},
     "output_type": "execute_result"
    }
   ],
   "source": [
    "anime_data[anime_data['Score'].isin(['Unknown'])].shape"
   ]
  },
  {
   "cell_type": "markdown",
   "id": "4c2e2ca0",
   "metadata": {},
   "source": [
    "### มีข้อมูล 4556 แถวของคอลลัมน์ Score ที่เป็นค่า Unknown "
   ]
  },
  {
   "cell_type": "code",
   "execution_count": 21,
   "id": "76e74c0b",
   "metadata": {},
   "outputs": [],
   "source": [
    "score_known = anime_data[~anime_data['Score'].isin(['Unknown'])]"
   ]
  },
  {
   "cell_type": "code",
   "execution_count": 22,
   "id": "f9ef514d",
   "metadata": {},
   "outputs": [
    {
     "data": {
      "text/plain": [
       "(10899, 6)"
      ]
     },
     "execution_count": 22,
     "metadata": {},
     "output_type": "execute_result"
    }
   ],
   "source": [
    "score_known.shape"
   ]
  },
  {
   "cell_type": "code",
   "execution_count": 23,
   "id": "af4dcd57",
   "metadata": {},
   "outputs": [
    {
     "name": "stdout",
     "output_type": "stream",
     "text": [
      "unknown score is 0.29 of data\n"
     ]
    }
   ],
   "source": [
    "per_unk = 1-score_known.size/anime_data.size\n",
    "print('unknown score is %.2f of data' %per_unk)"
   ]
  },
  {
   "cell_type": "markdown",
   "id": "c5f0bfb3",
   "metadata": {},
   "source": [
    "#### คิดเป็น 29% ของข้อมูล ที่ไม่รู้คะแนนของ Anime"
   ]
  },
  {
   "cell_type": "code",
   "execution_count": 24,
   "id": "83bb1e5d",
   "metadata": {},
   "outputs": [
    {
     "name": "stderr",
     "output_type": "stream",
     "text": [
      "<ipython-input-24-17c3b29058f7>:1: SettingWithCopyWarning: \n",
      "A value is trying to be set on a copy of a slice from a DataFrame.\n",
      "Try using .loc[row_indexer,col_indexer] = value instead\n",
      "\n",
      "See the caveats in the documentation: https://pandas.pydata.org/pandas-docs/stable/user_guide/indexing.html#returning-a-view-versus-a-copy\n",
      "  score_known['Score'] = score_known['Score'].astype(float)\n"
     ]
    }
   ],
   "source": [
    "score_known['Score'] = score_known['Score'].astype(float)"
   ]
  },
  {
   "cell_type": "code",
   "execution_count": 25,
   "id": "155f0695",
   "metadata": {},
   "outputs": [
    {
     "name": "stdout",
     "output_type": "stream",
     "text": [
      "<class 'pandas.core.frame.DataFrame'>\n",
      "Int64Index: 10899 entries, 0 to 16204\n",
      "Data columns (total 6 columns):\n",
      " #   Column     Non-Null Count  Dtype  \n",
      "---  ------     --------------  -----  \n",
      " 0   MAL_ID     10899 non-null  int64  \n",
      " 1   Name       10899 non-null  object \n",
      " 2   Score      10899 non-null  float64\n",
      " 3   Genres     10899 non-null  object \n",
      " 4   sypnopsis  10899 non-null  object \n",
      " 5   length     10899 non-null  float64\n",
      "dtypes: float64(2), int64(1), object(3)\n",
      "memory usage: 596.0+ KB\n"
     ]
    }
   ],
   "source": [
    "score_known.info()"
   ]
  },
  {
   "cell_type": "markdown",
   "id": "365bc883",
   "metadata": {},
   "source": [
    "## Score distribution"
   ]
  },
  {
   "cell_type": "code",
   "execution_count": 26,
   "id": "a106557b",
   "metadata": {},
   "outputs": [
    {
     "data": {
      "text/plain": [
       "<AxesSubplot:>"
      ]
     },
     "execution_count": 26,
     "metadata": {},
     "output_type": "execute_result"
    },
    {
     "data": {
      "image/png": "[encoded data removed]",
      "text/plain": [
       "<Figure size 576x72 with 1 Axes>"
      ]
     },
     "metadata": {
      "needs_background": "light"
     },
     "output_type": "display_data"
    }
   ],
   "source": [
    "score_known['Score'].plot(kind='box', vert=False, figsize=(8, 1))"
   ]
  },
  {
   "cell_type": "code",
   "execution_count": 27,
   "id": "d5d11633",
   "metadata": {},
   "outputs": [
    {
     "data": {
      "text/plain": [
       "<AxesSubplot:ylabel='Frequency'>"
      ]
     },
     "execution_count": 27,
     "metadata": {},
     "output_type": "execute_result"
    },
    {
     "data": {
      "image/png": "[encoded data removed]",
      "text/plain": [
       "<Figure size 432x288 with 1 Axes>"
      ]
     },
     "metadata": {
      "needs_background": "light"
     },
     "output_type": "display_data"
    }
   ],
   "source": [
    "score_known['Score'].plot(kind='hist', bins=50, figsize=(6, 4), edgecolor='k')"
   ]
  },
  {
   "cell_type": "code",
   "execution_count": 28,
   "id": "22050e8a",
   "metadata": {},
   "outputs": [
    {
     "data": {
      "text/plain": [
       "6.56"
      ]
     },
     "execution_count": 28,
     "metadata": {},
     "output_type": "execute_result"
    }
   ],
   "source": [
    "score_mean = round(score_known['Score'].mean(),2)\n",
    "score_mean"
   ]
  },
  {
   "cell_type": "markdown",
   "id": "27730a0c",
   "metadata": {},
   "source": [
    "### การกระจายตัวของคะแนนอนิเมะมีการกระจายตัวแบบปกติ ในที่นี้ จะใช้ ค่า Mean ในการแทนที่ค่า Unknown"
   ]
  },
  {
   "cell_type": "code",
   "execution_count": 29,
   "id": "df9f96a0",
   "metadata": {},
   "outputs": [],
   "source": [
    "anime_data['Score'].replace('Unknown',score_mean,inplace=True)"
   ]
  },
  {
   "cell_type": "code",
   "execution_count": 30,
   "id": "76a02d57",
   "metadata": {},
   "outputs": [
    {
     "data": {
      "text/plain": [
       "<bound method Series.unique of 0        8.78\n",
       "1        8.39\n",
       "2        8.24\n",
       "3        7.27\n",
       "4        6.98\n",
       "         ... \n",
       "16207    6.56\n",
       "16210    6.56\n",
       "16211    6.56\n",
       "16212    6.56\n",
       "16213    6.56\n",
       "Name: Score, Length: 15455, dtype: object>"
      ]
     },
     "execution_count": 30,
     "metadata": {},
     "output_type": "execute_result"
    }
   ],
   "source": [
    "anime_data['Score'].unique #Check"
   ]
  },
  {
   "cell_type": "code",
   "execution_count": 31,
   "id": "05ef4fac",
   "metadata": {},
   "outputs": [],
   "source": [
    "anime_data['Score'] = anime_data['Score'].astype(float)"
   ]
  },
  {
   "cell_type": "code",
   "execution_count": 32,
   "id": "ce2f324a",
   "metadata": {},
   "outputs": [
    {
     "name": "stdout",
     "output_type": "stream",
     "text": [
      "<class 'pandas.core.frame.DataFrame'>\n",
      "Int64Index: 15455 entries, 0 to 16213\n",
      "Data columns (total 6 columns):\n",
      " #   Column     Non-Null Count  Dtype  \n",
      "---  ------     --------------  -----  \n",
      " 0   MAL_ID     15455 non-null  int64  \n",
      " 1   Name       15455 non-null  object \n",
      " 2   Score      15455 non-null  float64\n",
      " 3   Genres     15455 non-null  object \n",
      " 4   sypnopsis  15455 non-null  object \n",
      " 5   length     15455 non-null  float64\n",
      "dtypes: float64(2), int64(1), object(3)\n",
      "memory usage: 845.2+ KB\n"
     ]
    }
   ],
   "source": [
    "anime_data.info()"
   ]
  },
  {
   "cell_type": "markdown",
   "id": "f608930e",
   "metadata": {},
   "source": [
    "## Length of synopsis distribution"
   ]
  },
  {
   "cell_type": "code",
   "execution_count": 33,
   "id": "2620040a",
   "metadata": {},
   "outputs": [
    {
     "data": {
      "text/plain": [
       "<AxesSubplot:>"
      ]
     },
     "execution_count": 33,
     "metadata": {},
     "output_type": "execute_result"
    },
    {
     "data": {
      "image/png": "[encoded data removed]",
      "text/plain": [
       "<Figure size 576x72 with 1 Axes>"
      ]
     },
     "metadata": {
      "needs_background": "light"
     },
     "output_type": "display_data"
    }
   ],
   "source": [
    "anime_data['length'].plot(kind='box', vert=False, figsize=(8, 1))"
   ]
  },
  {
   "cell_type": "code",
   "execution_count": 34,
   "id": "f8cd8635",
   "metadata": {},
   "outputs": [
    {
     "data": {
      "text/plain": [
       "<AxesSubplot:ylabel='Frequency'>"
      ]
     },
     "execution_count": 34,
     "metadata": {},
     "output_type": "execute_result"
    },
    {
     "data": {
      "image/png": "[encoded data removed]",
      "text/plain": [
       "<Figure size 432x288 with 1 Axes>"
      ]
     },
     "metadata": {
      "needs_background": "light"
     },
     "output_type": "display_data"
    }
   ],
   "source": [
    "anime_data['length'].plot(kind='hist', bins=50, figsize=(6, 4), edgecolor='k')"
   ]
  },
  {
   "cell_type": "markdown",
   "id": "f23a642e",
   "metadata": {},
   "source": [
    "### จากข้อมูล ความยาวของ synopsis มีการกระจายตัวที่เบ้ขวา"
   ]
  },
  {
   "cell_type": "code",
   "execution_count": 35,
   "id": "4556ffe4",
   "metadata": {},
   "outputs": [
    {
     "data": {
      "text/html": [
       "<div>\n",
       "<style scoped>\n",
       "    .dataframe tbody tr th:only-of-type {\n",
       "        vertical-align: middle;\n",
       "    }\n",
       "\n",
       "    .dataframe tbody tr th {\n",
       "        vertical-align: top;\n",
       "    }\n",
       "\n",
       "    .dataframe thead th {\n",
       "        text-align: right;\n",
       "    }\n",
       "</style>\n",
       "<table border=\"1\" class=\"dataframe\">\n",
       "  <thead>\n",
       "    <tr style=\"text-align: right;\">\n",
       "      <th></th>\n",
       "      <th>count</th>\n",
       "      <th>mean</th>\n",
       "      <th>std</th>\n",
       "      <th>min</th>\n",
       "      <th>25%</th>\n",
       "      <th>50%</th>\n",
       "      <th>75%</th>\n",
       "      <th>max</th>\n",
       "    </tr>\n",
       "  </thead>\n",
       "  <tbody>\n",
       "    <tr>\n",
       "      <th>MAL_ID</th>\n",
       "      <td>15455.0</td>\n",
       "      <td>21544.024911</td>\n",
       "      <td>14826.834100</td>\n",
       "      <td>1.00</td>\n",
       "      <td>6280.50</td>\n",
       "      <td>23177.00</td>\n",
       "      <td>35521.50</td>\n",
       "      <td>48492.00</td>\n",
       "    </tr>\n",
       "    <tr>\n",
       "      <th>Score</th>\n",
       "      <td>15455.0</td>\n",
       "      <td>6.561288</td>\n",
       "      <td>0.756400</td>\n",
       "      <td>1.85</td>\n",
       "      <td>6.25</td>\n",
       "      <td>6.56</td>\n",
       "      <td>6.93</td>\n",
       "      <td>9.19</td>\n",
       "    </tr>\n",
       "    <tr>\n",
       "      <th>length</th>\n",
       "      <td>15455.0</td>\n",
       "      <td>389.967972</td>\n",
       "      <td>342.880362</td>\n",
       "      <td>10.00</td>\n",
       "      <td>104.00</td>\n",
       "      <td>287.00</td>\n",
       "      <td>593.00</td>\n",
       "      <td>3047.00</td>\n",
       "    </tr>\n",
       "  </tbody>\n",
       "</table>\n",
       "</div>"
      ],
      "text/plain": [
       "          count          mean           std    min      25%       50%  \\\n",
       "MAL_ID  15455.0  21544.024911  14826.834100   1.00  6280.50  23177.00   \n",
       "Score   15455.0      6.561288      0.756400   1.85     6.25      6.56   \n",
       "length  15455.0    389.967972    342.880362  10.00   104.00    287.00   \n",
       "\n",
       "             75%       max  \n",
       "MAL_ID  35521.50  48492.00  \n",
       "Score       6.93      9.19  \n",
       "length    593.00   3047.00  "
      ]
     },
     "execution_count": 35,
     "metadata": {},
     "output_type": "execute_result"
    }
   ],
   "source": [
    "anime_data.describe().T"
   ]
  },
  {
   "cell_type": "markdown",
   "id": "426bb523",
   "metadata": {},
   "source": [
    "### Check duplicated"
   ]
  },
  {
   "cell_type": "code",
   "execution_count": 36,
   "id": "559b9a78",
   "metadata": {},
   "outputs": [
    {
     "data": {
      "text/html": [
       "<div>\n",
       "<style scoped>\n",
       "    .dataframe tbody tr th:only-of-type {\n",
       "        vertical-align: middle;\n",
       "    }\n",
       "\n",
       "    .dataframe tbody tr th {\n",
       "        vertical-align: top;\n",
       "    }\n",
       "\n",
       "    .dataframe thead th {\n",
       "        text-align: right;\n",
       "    }\n",
       "</style>\n",
       "<table border=\"1\" class=\"dataframe\">\n",
       "  <thead>\n",
       "    <tr style=\"text-align: right;\">\n",
       "      <th></th>\n",
       "      <th>MAL_ID</th>\n",
       "      <th>Name</th>\n",
       "      <th>Score</th>\n",
       "      <th>Genres</th>\n",
       "      <th>sypnopsis</th>\n",
       "      <th>length</th>\n",
       "    </tr>\n",
       "  </thead>\n",
       "  <tbody>\n",
       "    <tr>\n",
       "      <th>12347</th>\n",
       "      <td>36296</td>\n",
       "      <td>Hinamatsuri</td>\n",
       "      <td>8.21</td>\n",
       "      <td>Comedy, Sci-Fi, Seinen, Slice of Life, Superna...</td>\n",
       "      <td>hile reveling in the successful clinching of a...</td>\n",
       "      <td>1188.0</td>\n",
       "    </tr>\n",
       "    <tr>\n",
       "      <th>14117</th>\n",
       "      <td>39143</td>\n",
       "      <td>Youkoso! Ecolo Shima</td>\n",
       "      <td>6.56</td>\n",
       "      <td>Kids</td>\n",
       "      <td>vironmental education film aimed at children. ...</td>\n",
       "      <td>136.0</td>\n",
       "    </tr>\n",
       "    <tr>\n",
       "      <th>16196</th>\n",
       "      <td>48417</td>\n",
       "      <td>Maou Gakuin no Futekigousha: Shijou Saikyou no...</td>\n",
       "      <td>6.56</td>\n",
       "      <td>Magic, Fantasy, School</td>\n",
       "      <td>Second season of Maou Gakuin no Futekigousha: ...</td>\n",
       "      <td>124.0</td>\n",
       "    </tr>\n",
       "    <tr>\n",
       "      <th>16197</th>\n",
       "      <td>48418</td>\n",
       "      <td>Maou Gakuin no Futekigousha: Shijou Saikyou no...</td>\n",
       "      <td>6.56</td>\n",
       "      <td>Action, Demons, Magic, Fantasy, School</td>\n",
       "      <td>Second half of Maou Gakuin no Futekigousha: Sh...</td>\n",
       "      <td>133.0</td>\n",
       "    </tr>\n",
       "  </tbody>\n",
       "</table>\n",
       "</div>"
      ],
      "text/plain": [
       "       MAL_ID                                               Name  Score  \\\n",
       "12347   36296                                        Hinamatsuri   8.21   \n",
       "14117   39143                               Youkoso! Ecolo Shima   6.56   \n",
       "16196   48417  Maou Gakuin no Futekigousha: Shijou Saikyou no...   6.56   \n",
       "16197   48418  Maou Gakuin no Futekigousha: Shijou Saikyou no...   6.56   \n",
       "\n",
       "                                                  Genres  \\\n",
       "12347  Comedy, Sci-Fi, Seinen, Slice of Life, Superna...   \n",
       "14117                                               Kids   \n",
       "16196                             Magic, Fantasy, School   \n",
       "16197             Action, Demons, Magic, Fantasy, School   \n",
       "\n",
       "                                               sypnopsis  length  \n",
       "12347  hile reveling in the successful clinching of a...  1188.0  \n",
       "14117  vironmental education film aimed at children. ...   136.0  \n",
       "16196  Second season of Maou Gakuin no Futekigousha: ...   124.0  \n",
       "16197  Second half of Maou Gakuin no Futekigousha: Sh...   133.0  "
      ]
     },
     "execution_count": 36,
     "metadata": {},
     "output_type": "execute_result"
    }
   ],
   "source": [
    "anime_data[anime_data['Name'].duplicated()]"
   ]
  },
  {
   "cell_type": "markdown",
   "id": "c896f782",
   "metadata": {},
   "source": [
    "### Maou Gakuin"
   ]
  },
  {
   "cell_type": "code",
   "execution_count": 37,
   "id": "08eef3f8",
   "metadata": {},
   "outputs": [],
   "source": [
    "maou = anime_data[anime_data['Name'].str.contains('Maou Gakuin no Futekigousha: Shijou Saikyou')]['Name']"
   ]
  },
  {
   "cell_type": "code",
   "execution_count": 38,
   "id": "0cc2e9ea",
   "metadata": {},
   "outputs": [
    {
     "name": "stdout",
     "output_type": "stream",
     "text": [
      "Maou Gakuin no Futekigousha: Shijou Saikyou no Maou no Shiso, Tensei shite Shison-tachi no Gakkou e\n",
      "Maou Gakuin no Futekigousha: Shijou Saikyou no Maou no Shiso, Tensei shite Shison-tachi no Gakkou e\n",
      "Maou Gakuin no Futekigousha: Shijou Saikyou no Maou no Shiso, Tensei shite Shison-tachi no Gakkou e\n"
     ]
    }
   ],
   "source": [
    "for i in maou:\n",
    "    print(i)"
   ]
  },
  {
   "cell_type": "code",
   "execution_count": 39,
   "id": "cd7cfa5c",
   "metadata": {},
   "outputs": [],
   "source": [
    "maou_syp = anime_data[anime_data['Name']\n",
    "           .isin(['Maou Gakuin no Futekigousha: Shijou Saikyou no Maou no Shiso, Tensei shite Shison-tachi no Gakkou e'])]['sypnopsis']"
   ]
  },
  {
   "cell_type": "code",
   "execution_count": 40,
   "id": "6ea26e53",
   "metadata": {},
   "outputs": [
    {
     "name": "stdout",
     "output_type": "stream",
     "text": [
      "In the distant past, a war between humans and demons brought about widespread chaos and bloodshed. To put an end to this seemingly endless conflict, Demon King Anos Voldigoad willingly sacrificed his life, hoping to be reborn in a peaceful future. In preparation for their king's return, the demon race created the Demon King Academy, an elite institution tasked with determining Anos' identity when he reawakens. He reincarnates two millennia later, but to his surprise, he soon learns that the level of magic in the world has drastically waned during his absence. Moreover, when he enrolls at the academy to reclaim his rightful title, he finds out that demonkind remembers him differently. His personality, his deeds, and even his legacy are all falsified—masked beneath the name of an impostor. This \"lack\" of common knowledge renders him the academy's outlier—a misfit never before seen in history. Despite these drawbacks, Anos remains unfazed. As he sets out to uncover those altering his glorious past, he takes it upon himself to make his descendants recognize that their ruler has finally returned.\n",
      " \n",
      "Second season of Maou Gakuin no Futekigousha: Shijou Saikyou no Maou no Shiso, Tensei shite Shison-tachi no Gakkou e Kayou .\n",
      " \n",
      "Second half of Maou Gakuin no Futekigousha: Shijou Saikyou no Maou no Shiso, Tensei shite Shison-tachi no Gakkou e Kayou 2nd Season .\n",
      " \n"
     ]
    }
   ],
   "source": [
    "for i in maou_syp:\n",
    "    print(i)\n",
    "    print(' ')"
   ]
  },
  {
   "cell_type": "markdown",
   "id": "d05f1f4b",
   "metadata": {},
   "source": [
    "### anime คนละ season แต่เรื่องเดียวกัน"
   ]
  },
  {
   "cell_type": "markdown",
   "id": "9cd54ec4",
   "metadata": {},
   "source": [
    "### Hinamatsuri"
   ]
  },
  {
   "cell_type": "code",
   "execution_count": 41,
   "id": "2ccbd618",
   "metadata": {},
   "outputs": [
    {
     "data": {
      "text/html": [
       "<div>\n",
       "<style scoped>\n",
       "    .dataframe tbody tr th:only-of-type {\n",
       "        vertical-align: middle;\n",
       "    }\n",
       "\n",
       "    .dataframe tbody tr th {\n",
       "        vertical-align: top;\n",
       "    }\n",
       "\n",
       "    .dataframe thead th {\n",
       "        text-align: right;\n",
       "    }\n",
       "</style>\n",
       "<table border=\"1\" class=\"dataframe\">\n",
       "  <thead>\n",
       "    <tr style=\"text-align: right;\">\n",
       "      <th></th>\n",
       "      <th>MAL_ID</th>\n",
       "      <th>Name</th>\n",
       "      <th>Score</th>\n",
       "      <th>Genres</th>\n",
       "      <th>sypnopsis</th>\n",
       "      <th>length</th>\n",
       "    </tr>\n",
       "  </thead>\n",
       "  <tbody>\n",
       "    <tr>\n",
       "      <th>11664</th>\n",
       "      <td>35102</td>\n",
       "      <td>Hinamatsuri</td>\n",
       "      <td>6.79</td>\n",
       "      <td>Historical, Kids</td>\n",
       "      <td>ducational anime about the history and foundin...</td>\n",
       "      <td>84.0</td>\n",
       "    </tr>\n",
       "    <tr>\n",
       "      <th>12347</th>\n",
       "      <td>36296</td>\n",
       "      <td>Hinamatsuri</td>\n",
       "      <td>8.21</td>\n",
       "      <td>Comedy, Sci-Fi, Seinen, Slice of Life, Superna...</td>\n",
       "      <td>hile reveling in the successful clinching of a...</td>\n",
       "      <td>1188.0</td>\n",
       "    </tr>\n",
       "  </tbody>\n",
       "</table>\n",
       "</div>"
      ],
      "text/plain": [
       "       MAL_ID         Name  Score  \\\n",
       "11664   35102  Hinamatsuri   6.79   \n",
       "12347   36296  Hinamatsuri   8.21   \n",
       "\n",
       "                                                  Genres  \\\n",
       "11664                                   Historical, Kids   \n",
       "12347  Comedy, Sci-Fi, Seinen, Slice of Life, Superna...   \n",
       "\n",
       "                                               sypnopsis  length  \n",
       "11664  ducational anime about the history and foundin...    84.0  \n",
       "12347  hile reveling in the successful clinching of a...  1188.0  "
      ]
     },
     "execution_count": 41,
     "metadata": {},
     "output_type": "execute_result"
    }
   ],
   "source": [
    "anime_data[anime_data['Name'].isin(['Hinamatsuri'])]"
   ]
  },
  {
   "cell_type": "code",
   "execution_count": 42,
   "id": "6c288952",
   "metadata": {},
   "outputs": [],
   "source": [
    "genres_hina = anime_data[anime_data['Name'].isin(['Hinamatsuri'])]['Genres']"
   ]
  },
  {
   "cell_type": "code",
   "execution_count": 43,
   "id": "44ca0dd5",
   "metadata": {},
   "outputs": [
    {
     "name": "stdout",
     "output_type": "stream",
     "text": [
      "Historical, Kids\n",
      "  \n",
      "Comedy, Sci-Fi, Seinen, Slice of Life, Supernatural\n",
      "  \n"
     ]
    }
   ],
   "source": [
    "for i in genres_hina:\n",
    "    print(i)\n",
    "    print('  ')"
   ]
  },
  {
   "cell_type": "code",
   "execution_count": 44,
   "id": "970945f2",
   "metadata": {},
   "outputs": [],
   "source": [
    "sypnopsis_hina = anime_data[anime_data['Name'].isin(['Hinamatsuri'])]['sypnopsis']"
   ]
  },
  {
   "cell_type": "code",
   "execution_count": 45,
   "id": "79bd796b",
   "metadata": {},
   "outputs": [
    {
     "name": "stdout",
     "output_type": "stream",
     "text": [
      "ducational anime about the history and founding of the Hinamatsuri holiday in Japan.\n",
      "   \n",
      "hile reveling in the successful clinching of a prized vase for his collection, Yoshifumi Nitta, a yakuza member, is rudely interrupted when a large, peculiar capsule suddenly materializes and falls on his head. He opens the capsule to reveal a young, blue-haired girl, who doesn't divulge anything about herself but her name—Hina—and the fact that she possesses immense powers. As if things couldn't get any worse, she loses control and unleashes an explosion if her powers remain unused. Faced with no other choice, Nitta finds himself becoming her caregiver. To let her use her powers freely, Nitta asks Hina to help out with a construction deal, which goes smoothly. But while this is happening, a rival yakuza group covertly attacks his boss. To Nitta's shock, his colleagues later pin the blame on him! Tasked with attacking the rival group in retaliation, Nitta steels himself and arrives at their hideout. But suddenly, Hina unexpectedly steps in and helps him wipe out the entire group. As it turns out, Hina might just become a valuable asset to Nitta and his yakuza business, provided she does not use her powers on him first! And so the strange life of this unusual duo begins.\n",
      "   \n"
     ]
    }
   ],
   "source": [
    "for i in sypnopsis_hina:\n",
    "    print(i)\n",
    "    print('   ')"
   ]
  },
  {
   "cell_type": "markdown",
   "id": "8ed4d6e2",
   "metadata": {},
   "source": [
    "### เรื่องเดียวกันแต่เนื้อเรื่องย่อแตกต่างกัน ซึ่งลงรายละเอียดแบบตัวละครและแบบสรุปโดยรวมของเนื้อเรื่องย่อ"
   ]
  },
  {
   "cell_type": "markdown",
   "id": "71a474a5",
   "metadata": {},
   "source": [
    "### Youkoso! Ecolo Shima"
   ]
  },
  {
   "cell_type": "code",
   "execution_count": 46,
   "id": "4f044e38",
   "metadata": {},
   "outputs": [
    {
     "data": {
      "text/html": [
       "<div>\n",
       "<style scoped>\n",
       "    .dataframe tbody tr th:only-of-type {\n",
       "        vertical-align: middle;\n",
       "    }\n",
       "\n",
       "    .dataframe tbody tr th {\n",
       "        vertical-align: top;\n",
       "    }\n",
       "\n",
       "    .dataframe thead th {\n",
       "        text-align: right;\n",
       "    }\n",
       "</style>\n",
       "<table border=\"1\" class=\"dataframe\">\n",
       "  <thead>\n",
       "    <tr style=\"text-align: right;\">\n",
       "      <th></th>\n",
       "      <th>MAL_ID</th>\n",
       "      <th>Name</th>\n",
       "      <th>Score</th>\n",
       "      <th>Genres</th>\n",
       "      <th>sypnopsis</th>\n",
       "      <th>length</th>\n",
       "    </tr>\n",
       "  </thead>\n",
       "  <tbody>\n",
       "    <tr>\n",
       "      <th>11791</th>\n",
       "      <td>35279</td>\n",
       "      <td>Youkoso! Ecolo Shima</td>\n",
       "      <td>6.56</td>\n",
       "      <td>Kids</td>\n",
       "      <td>vironmental educational anime.</td>\n",
       "      <td>30.0</td>\n",
       "    </tr>\n",
       "    <tr>\n",
       "      <th>14117</th>\n",
       "      <td>39143</td>\n",
       "      <td>Youkoso! Ecolo Shima</td>\n",
       "      <td>6.56</td>\n",
       "      <td>Kids</td>\n",
       "      <td>vironmental education film aimed at children. ...</td>\n",
       "      <td>136.0</td>\n",
       "    </tr>\n",
       "  </tbody>\n",
       "</table>\n",
       "</div>"
      ],
      "text/plain": [
       "       MAL_ID                  Name  Score Genres  \\\n",
       "11791   35279  Youkoso! Ecolo Shima   6.56   Kids   \n",
       "14117   39143  Youkoso! Ecolo Shima   6.56   Kids   \n",
       "\n",
       "                                               sypnopsis  length  \n",
       "11791                     vironmental educational anime.    30.0  \n",
       "14117  vironmental education film aimed at children. ...   136.0  "
      ]
     },
     "execution_count": 46,
     "metadata": {},
     "output_type": "execute_result"
    }
   ],
   "source": [
    "anime_data[anime_data['Name'].isin(['Youkoso! Ecolo Shima'])]"
   ]
  },
  {
   "cell_type": "code",
   "execution_count": 47,
   "id": "3ef57bbe",
   "metadata": {},
   "outputs": [],
   "source": [
    "youko_syp = anime_data[anime_data['Name'].isin(['Youkoso! Ecolo Shima'])]['sypnopsis']"
   ]
  },
  {
   "cell_type": "code",
   "execution_count": 48,
   "id": "3b687a33",
   "metadata": {},
   "outputs": [
    {
     "name": "stdout",
     "output_type": "stream",
     "text": [
      "vironmental educational anime.\n",
      "   \n",
      "vironmental education film aimed at children. \"From what we can do now, think of a solution, discuss it with peers, and execute a plan!\"\n",
      "   \n"
     ]
    }
   ],
   "source": [
    "for i in youko_syp:\n",
    "    print(i)\n",
    "    print('   ')"
   ]
  },
  {
   "cell_type": "markdown",
   "id": "2cca0c76",
   "metadata": {},
   "source": [
    "### เนื้อเรื่องเดียวกันแต่สรุปรวบกับลงรายละเอียดของอนิเมะ"
   ]
  },
  {
   "cell_type": "markdown",
   "id": "2bc4b70f",
   "metadata": {},
   "source": [
    "### ตัดสินใจ drop anime ที่ซ้ำ (Youkoso Ecolo Shima) ไป 1 เรื่อง เพราะข้อมูลมีความทับซ้อนกันเกือบทุกคอลลัมน์"
   ]
  },
  {
   "cell_type": "code",
   "execution_count": 49,
   "id": "05d7ac65",
   "metadata": {},
   "outputs": [],
   "source": [
    "anime_data.drop(index=11791,inplace=True)"
   ]
  },
  {
   "cell_type": "code",
   "execution_count": 50,
   "id": "08cd7fc3",
   "metadata": {},
   "outputs": [
    {
     "data": {
      "text/plain": [
       "(15454, 6)"
      ]
     },
     "execution_count": 50,
     "metadata": {},
     "output_type": "execute_result"
    }
   ],
   "source": [
    "anime_data.shape"
   ]
  },
  {
   "cell_type": "markdown",
   "id": "f8fd9830",
   "metadata": {},
   "source": [
    "## Pre-processing Data"
   ]
  },
  {
   "cell_type": "code",
   "execution_count": 51,
   "id": "4eef9eb5",
   "metadata": {},
   "outputs": [],
   "source": [
    "import re\n",
    "from nltk import stem"
   ]
  },
  {
   "cell_type": "code",
   "execution_count": 52,
   "id": "1d60efc5",
   "metadata": {},
   "outputs": [],
   "source": [
    "test_data = anime_data.copy()"
   ]
  },
  {
   "cell_type": "code",
   "execution_count": 53,
   "id": "442bb054",
   "metadata": {},
   "outputs": [
    {
     "data": {
      "text/plain": [
       "'Cowboy Bebop'"
      ]
     },
     "execution_count": 53,
     "metadata": {},
     "output_type": "execute_result"
    }
   ],
   "source": [
    "test_data['Name'][0]"
   ]
  },
  {
   "cell_type": "code",
   "execution_count": 54,
   "id": "2265cb5a",
   "metadata": {},
   "outputs": [
    {
     "data": {
      "text/plain": [
       "'In the year 2071, humanity has colonized several of the planets and moons of the solar system leaving the now uninhabitable surface of planet Earth behind. The Inter Solar System Police attempts to keep peace in the galaxy, aided in part by outlaw bounty hunters, referred to as \"Cowboys.\" The ragtag team aboard the spaceship Bebop are two such individuals. Mellow and carefree Spike Spiegel is balanced by his boisterous, pragmatic partner Jet Black as the pair makes a living chasing bounties and collecting rewards. Thrown off course by the addition of new members that they meet in their travels—Ein, a genetically engineered, highly intelligent Welsh Corgi; femme fatale Faye Valentine, an enigmatic trickster with memory loss; and the strange computer whiz kid Edward Wong—the crew embarks on thrilling adventures that unravel each member\\'s dark and mysterious past little by little. Well-balanced with high density action and light-hearted comedy, Cowboy Bebop is a space Western classic and an homage to the smooth and improvised music it is named after.'"
      ]
     },
     "execution_count": 54,
     "metadata": {},
     "output_type": "execute_result"
    }
   ],
   "source": [
    "test_data['sypnopsis'][0]"
   ]
  },
  {
   "cell_type": "markdown",
   "id": "582842f1",
   "metadata": {},
   "source": [
    "## Regex cleaned"
   ]
  },
  {
   "cell_type": "code",
   "execution_count": 55,
   "id": "94fab9d8",
   "metadata": {},
   "outputs": [],
   "source": [
    "text = 'In the year 2071, humanity has colonized several of the planets and moons of the solar system leaving the now uninhabitable surface of planet Earth behind. The Inter Solar System Police attempts to keep peace in the galaxy, aided in part by outlaw bounty hunters, referred to as \"Cowboys.\" The ragtag team aboard the spaceship Bebop are two such individuals. Mellow and carefree Spike Spiegel is balanced by his boisterous, pragmatic partner Jet Black as the pair makes a living chasing bounties and collecting rewards. Thrown off course by the addition of new members that they meet in their travels—Ein, a genetically engineered, highly intelligent Welsh Corgi; femme fatale Faye Valentine, an enigmatic trickster with memory loss; and the strange computer whiz kid Edward Wong—the crew embarks on thrilling adventures that unravel each member\\'s dark and mysterious past little by little. Well-balanced with high density action and light-hearted comedy, Cowboy Bebop is a space Western classic and an homage to the smooth and improvised music it is named after.'"
   ]
  },
  {
   "cell_type": "code",
   "execution_count": 56,
   "id": "18512893",
   "metadata": {},
   "outputs": [
    {
     "data": {
      "text/plain": [
       "'In the year 2071  humanity has colonized several of the planets and moons of the solar system leaving the now uninhabitable surface of planet Earth behind  The Inter Solar System Police attempts to keep peace in the galaxy  aided in part by outlaw bounty hunters  referred to as  Cowboys   The ragtag team aboard the spaceship Bebop are two such individuals  Mellow and carefree Spike Spiegel is balanced by his boisterous  pragmatic partner Jet Black as the pair makes a living chasing bounties and collecting rewards  Thrown off course by the addition of new members that they meet in their travels Ein  a genetically engineered  highly intelligent Welsh Corgi  femme fatale Faye Valentine  an enigmatic trickster with memory loss  and the strange computer whiz kid Edward Wong the crew embarks on thrilling adventures that unravel each member s dark and mysterious past little by little  Well balanced with high density action and light hearted comedy  Cowboy Bebop is a space Western classic and an homage to the smooth and improvised music it is named after '"
      ]
     },
     "execution_count": 56,
     "metadata": {},
     "output_type": "execute_result"
    }
   ],
   "source": [
    "test_clean = re.sub('[^a-zA-Z0-9]',' ',text)\n",
    "test_clean"
   ]
  },
  {
   "cell_type": "code",
   "execution_count": 57,
   "id": "6a47f341",
   "metadata": {},
   "outputs": [],
   "source": [
    "def cleaned_text1(text):\n",
    "    cleaned = re.sub('[^a-zA-Z0-9]',' ',text)\n",
    "    #cleaned = re.sub('[^a-zA-Z]',' ',text)\n",
    "    return cleaned"
   ]
  },
  {
   "cell_type": "code",
   "execution_count": 58,
   "id": "c0a22c79",
   "metadata": {},
   "outputs": [],
   "source": [
    "#test_data['sypnopsis'] = test_data['sypnopsis'].apply(cleaned_text1)"
   ]
  },
  {
   "cell_type": "markdown",
   "id": "20442a71",
   "metadata": {},
   "source": [
    "### Remove stopwords"
   ]
  },
  {
   "cell_type": "code",
   "execution_count": 59,
   "id": "bbb73d74",
   "metadata": {},
   "outputs": [],
   "source": [
    "from nltk.corpus import stopwords\n",
    "stop_words=set(stopwords.words(\"english\"))"
   ]
  },
  {
   "cell_type": "code",
   "execution_count": 60,
   "id": "ec1efbea",
   "metadata": {},
   "outputs": [],
   "source": [
    "testaa = [i for i in test_clean.lower().split() if not i in stop_words]\n",
    "testaa = ' '.join(testaa)"
   ]
  },
  {
   "cell_type": "code",
   "execution_count": 61,
   "id": "2d01154b",
   "metadata": {},
   "outputs": [
    {
     "data": {
      "text/plain": [
       "'year 2071 humanity colonized several planets moons solar system leaving uninhabitable surface planet earth behind inter solar system police attempts keep peace galaxy aided part outlaw bounty hunters referred cowboys ragtag team aboard spaceship bebop two individuals mellow carefree spike spiegel balanced boisterous pragmatic partner jet black pair makes living chasing bounties collecting rewards thrown course addition new members meet travels ein genetically engineered highly intelligent welsh corgi femme fatale faye valentine enigmatic trickster memory loss strange computer whiz kid edward wong crew embarks thrilling adventures unravel member dark mysterious past little little well balanced high density action light hearted comedy cowboy bebop space western classic homage smooth improvised music named'"
      ]
     },
     "execution_count": 61,
     "metadata": {},
     "output_type": "execute_result"
    }
   ],
   "source": [
    "testaa"
   ]
  },
  {
   "cell_type": "markdown",
   "id": "cad34b8c",
   "metadata": {},
   "source": [
    "## Processing with Lemmatization"
   ]
  },
  {
   "cell_type": "code",
   "execution_count": 62,
   "id": "0ba62f6b",
   "metadata": {},
   "outputs": [],
   "source": [
    "wnl = stem.WordNetLemmatizer()"
   ]
  },
  {
   "cell_type": "code",
   "execution_count": 63,
   "id": "c4976180",
   "metadata": {},
   "outputs": [],
   "source": [
    "def Lemmatization(text):\n",
    "    #clean and normalize\n",
    "    lemmatize_txt = re.sub('[^a-zA-Z0-9]',' ',text) \n",
    "    lemmatize_txt = lemmatize_txt.lower() \n",
    "    lemmatize_txt = lemmatize_txt.split() \n",
    "    lemmatize_txt = [wnl.lemmatize(word) for word in lemmatize_txt\n",
    "                     if not word in stopwords.words(\"english\")]\n",
    "    \n",
    "    lemmatize_txt = \" \".join(lemmatize_txt) \n",
    "    return lemmatize_txt"
   ]
  },
  {
   "cell_type": "code",
   "execution_count": 64,
   "id": "a5a3574b",
   "metadata": {},
   "outputs": [
    {
     "data": {
      "text/plain": [
       "'year 2071 humanity colonized several planet moon solar system leaving uninhabitable surface planet earth behind inter solar system police attempt keep peace galaxy aided part outlaw bounty hunter referred cowboy ragtag team aboard spaceship bebop two individual mellow carefree spike spiegel balanced boisterous pragmatic partner jet black pair make living chasing bounty collecting reward thrown course addition new member meet travel ein genetically engineered highly intelligent welsh corgi femme fatale faye valentine enigmatic trickster memory loss strange computer whiz kid edward wong crew embarks thrilling adventure unravel member dark mysterious past little little well balanced high density action light hearted comedy cowboy bebop space western classic homage smooth improvised music named'"
      ]
     },
     "execution_count": 64,
     "metadata": {},
     "output_type": "execute_result"
    }
   ],
   "source": [
    "Lemmatization(text) # Test"
   ]
  },
  {
   "cell_type": "code",
   "execution_count": 65,
   "id": "60cb9c69",
   "metadata": {},
   "outputs": [],
   "source": [
    "test_data['sypnopsis'] = test_data['sypnopsis'].apply(Lemmatization)"
   ]
  },
  {
   "cell_type": "markdown",
   "id": "952953be",
   "metadata": {},
   "source": [
    "### TF-IDF vectorizer"
   ]
  },
  {
   "cell_type": "code",
   "execution_count": 66,
   "id": "00edad21",
   "metadata": {},
   "outputs": [],
   "source": [
    "from sklearn.feature_extraction.text import TfidfVectorizer\n",
    "from sklearn.metrics.pairwise import cosine_similarity\n",
    "\n",
    "vectorizer = TfidfVectorizer()\n",
    "tfidf_matrix = vectorizer.fit_transform(test_data['sypnopsis'])\n",
    "cosine_sim = cosine_similarity(tfidf_matrix)"
   ]
  },
  {
   "cell_type": "code",
   "execution_count": 67,
   "id": "e4b96a08",
   "metadata": {},
   "outputs": [
    {
     "data": {
      "text/plain": [
       "array([[0.        , 0.        , 0.        , ..., 0.        , 0.        ,\n",
       "        0.        ],\n",
       "       [0.        , 0.        , 0.        , ..., 0.        , 0.        ,\n",
       "        0.        ],\n",
       "       [0.        , 0.26021929, 0.        , ..., 0.        , 0.        ,\n",
       "        0.        ],\n",
       "       ...,\n",
       "       [0.        , 0.        , 0.        , ..., 0.        , 0.        ,\n",
       "        0.        ],\n",
       "       [0.        , 0.        , 0.        , ..., 0.        , 0.        ,\n",
       "        0.        ],\n",
       "       [0.        , 0.        , 0.        , ..., 0.        , 0.        ,\n",
       "        0.        ]])"
      ]
     },
     "execution_count": 67,
     "metadata": {},
     "output_type": "execute_result"
    }
   ],
   "source": [
    "tfidf_matrix.toarray()"
   ]
  },
  {
   "cell_type": "markdown",
   "id": "81565f04",
   "metadata": {},
   "source": [
    "### Similar synopsis of anime function bulid"
   ]
  },
  {
   "cell_type": "code",
   "execution_count": 68,
   "id": "d5abaae3",
   "metadata": {},
   "outputs": [],
   "source": [
    "similar_syp = list(enumerate(cosine_sim[0]))[0:11]"
   ]
  },
  {
   "cell_type": "code",
   "execution_count": 69,
   "id": "07d1a95d",
   "metadata": {
    "scrolled": true
   },
   "outputs": [
    {
     "data": {
      "text/plain": [
       "[(0, 1.0),\n",
       " (1, 0.2483569171644633),\n",
       " (2, 0.03520033970590717),\n",
       " (5, 0.02496948344761886),\n",
       " (8, 0.022347128613763798),\n",
       " (3, 0.018276021341204568),\n",
       " (7, 0.01735245648557149),\n",
       " (6, 0.012344397656232232),\n",
       " (4, 0.011731605082447707),\n",
       " (9, 0.01022390445243472),\n",
       " (10, 0.005527775449970003)]"
      ]
     },
     "execution_count": 69,
     "metadata": {},
     "output_type": "execute_result"
    }
   ],
   "source": [
    "sorted(similar_syp, key = lambda x: x[1], reverse=True)"
   ]
  },
  {
   "cell_type": "code",
   "execution_count": 70,
   "id": "e4e0854a",
   "metadata": {},
   "outputs": [],
   "source": [
    "def synopsis_similar(synopsis,num_similar):\n",
    "    \n",
    "    #syp --> synopsis\n",
    "    \n",
    "    synopsis_pick = synopsis\n",
    "    \n",
    "    index_syp = test_data[test_data['sypnopsis'].str.contains(synopsis_pick, case = False )].index[0] \n",
    "                                                            ## case = False for any case of input string (lower,upper)\n",
    "    similar_syp = list(enumerate(cosine_sim[index_syp]))[0:num_similar + 1]\n",
    "    \n",
    "    sorted_similar = sorted(similar_syp, key = lambda x: x[1], reverse = True)[1:]\n",
    "    \n",
    "    print('Similar Synopsis of Anime: ',test_data['Name'][index_syp])\n",
    "    print(' ============================== ')\n",
    "    \n",
    "    anime_list = []\n",
    "    for anime in sorted_similar:\n",
    "        similar_id = anime[0]\n",
    "        syp_name = test_data['Name'].iloc[similar_id]\n",
    "        similar_syp = test_data['sypnopsis'].iloc[similar_id]\n",
    "        similar_score = anime[1]\n",
    "        anime_list.append((syp_name,similar_score))\n",
    "        print(syp_name,'   Similar score : %.4f' %similar_score)\n",
    "        print('\\n',similar_syp,'\\n')\n",
    "    #anime_list.append(test_data['Name'].iloc[index_syp])\n",
    "        \n",
    "    return anime_list"
   ]
  },
  {
   "cell_type": "code",
   "execution_count": 71,
   "id": "cd629a7b",
   "metadata": {},
   "outputs": [],
   "source": [
    "cb_bebop = test_data['sypnopsis'][0]"
   ]
  },
  {
   "cell_type": "code",
   "execution_count": 72,
   "id": "fda94074",
   "metadata": {},
   "outputs": [
    {
     "data": {
      "text/plain": [
       "'year 2071 humanity colonized several planet moon solar system leaving uninhabitable surface planet earth behind inter solar system police attempt keep peace galaxy aided part outlaw bounty hunter referred cowboy ragtag team aboard spaceship bebop two individual mellow carefree spike spiegel balanced boisterous pragmatic partner jet black pair make living chasing bounty collecting reward thrown course addition new member meet travel ein genetically engineered highly intelligent welsh corgi femme fatale faye valentine enigmatic trickster memory loss strange computer whiz kid edward wong crew embarks thrilling adventure unravel member dark mysterious past little little well balanced high density action light hearted comedy cowboy bebop space western classic homage smooth improvised music named'"
      ]
     },
     "execution_count": 72,
     "metadata": {},
     "output_type": "execute_result"
    }
   ],
   "source": [
    "cb_bebop"
   ]
  },
  {
   "cell_type": "code",
   "execution_count": 73,
   "id": "165720dd",
   "metadata": {},
   "outputs": [
    {
     "name": "stdout",
     "output_type": "stream",
     "text": [
      "Similar Synopsis of Anime:  Cowboy Bebop\n",
      " ============================== \n",
      "Cowboy Bebop: Tengoku no Tobira    Similar score : 0.2484\n",
      "\n",
      " day another bounty life often unlucky crew bebop however routine interrupted faye chasing fairly worthless target mar witness oil tanker suddenly explode causing mass hysteria casualty mount due strange disease spreading smoke blast whopping three hundred million woolong price placed head supposed perpetrator life stake solution money problem sight bebop crew spring action spike jet faye edward followed closely ein split pursue different lead across alba city individual investigation discover cover scheme involving pharmaceutical company revealing plot reach much ragtag team bounty hunter could realized \n",
      "\n",
      "Trigun    Similar score : 0.0352\n",
      "\n",
      " vash stampede man 60 000 000 000 bounty head reason merciless villain lay waste oppose flattens entire city fun garnering title humanoid typhoon leaf trail death destruction wherever go anyone count dead much make eye contact rumor say actuality vash huge softie claim never taken life avoids violence cost crazy doughnut obsession buffoonish attitude tow vash traverse wasteland planet gunsmoke followed two insurance agent meryl stryfe milly thompson attempt minimize impact public soon misadventure evolve life death situation group legendary assassin summoned bring suffering trio vash agonizing past unraveled morality principle pushed breaking point \n",
      "\n",
      "Eyeshield 21    Similar score : 0.0250\n",
      "\n",
      " sena like shy kid starting high school trying survive constantly bullied accustomed running away surviving high school become lot difficult hiruma captain school american football team witness sena incredible agility speed escape bully hiruma scheme make sena running back school team devil bat hoping turn around squad fortune laughingstock japan high school league title contender protect precious star player rivaling recruiter enlists sena team secretary giving visored helmet nickname eyeshield 21 hide identity devilbats look make way christmas bowl annual tournament attended best football team japan eyeshield 21 leading way able win christmas bowl sena able transform timid undersized freshman star player put pad helmet find \n",
      "\n",
      "Initial D Fourth Stage    Similar score : 0.0223\n",
      "\n",
      " takumi fujiwara finally join ryousuke keisuke takahashi create project goal twofold ryousuke want develop high speed street racing theory keisuke takumi aim improving driving skill facing powerful opponent dangerous road idea project challenge street racing team prefecture improve uphill downhill record order attract attention best racing team ryousuke creates dedicated website announce future battle project post team result fourth season initial detail hardship success member project try become best street racing team outside gunma prefecture \n",
      "\n",
      "Witch Hunter Robin    Similar score : 0.0183\n",
      "\n",
      " ches individual special power like esp telekinesis mind control etc robin 15 year old craft user arrives italy japan work organization named stn japan division stn j replacement one stn j witch hunter recently killed unlike division stn stn j try capture witch alive order learn became witch first place source ann \n",
      "\n",
      "Hungry Heart: Wild Striker    Similar score : 0.0174\n",
      "\n",
      " kyosuke kano lived shadow successful brother seisuke life professional soccer player tired compared downgraded abandoned playing soccer boy new highschool discovered asked join team kyosuke join befriends two first year player named rodrigo sakai dream becoming professional soccer player source ann \n",
      "\n",
      "Hachimitsu to Clover    Similar score : 0.0123\n",
      "\n",
      " yuuta takemoto sophomore art college share cheap apartment two senior eccentric shinobu morita keep failing graduate due absenteeism sensible takumi mayama act proper senior takemoto often looking takemoto given much thought future one fine spring day meet endearing hagumi hanamoto fall love first sight incredibly gifted art hagumi enrolls takemoto university soon befriends popular pottery student ayumi yamada ayumi already well acquainted three flatmate secretly harbor deep feeling one hachimitsu clover heartwarming tale youth love soul searching self discovery intricately woven complex relationship five dear friend \n",
      "\n",
      "Bouken Ou Beet    Similar score : 0.0117\n",
      "\n",
      " dark century people suffering rule devil vandel able manipulate monster vandel buster group people hunt devil among zenon squad known strongest buster continent young boy beet dream joining zenon squad however one day result beet fault zenon squad defeated devil beltose five dying buster sacrificed life power five weapon saiga giving weapon beet passed away year passed since young vandel buster beet begin adventure carry zenon squad put end dark century \n",
      "\n",
      "Monster    Similar score : 0.0102\n",
      "\n",
      " dr kenzou tenma elite neurosurgeon recently engaged hospital director daughter well way ascending hospital hierarchy one night seemingly small event change dr tenma life forever preparing perform surgery someone get call hospital director telling switch patient instead perform life saving brain surgery famous performer fellow doctor fianc e hospital director applaud accomplishment switch poor immigrant worker dead causing dr tenma crisis conscience similar situation arises dr tenma stand ground chooses perform surgery young boy johan liebert instead town mayor unfortunately choice lead serious ramification dr tenma losing social standing one however mysterious death director two doctor dr tenma position restored evidence convict released go attain position hospital director nine year later dr tenma save life criminal past come back haunt come face face monster operated must embark quest pursuit make amends havoc spread one saved \n",
      "\n",
      "Naruto    Similar score : 0.0055\n",
      "\n",
      " oments prior naruto uzumaki birth huge demon known kyuubi nine tailed fox attacked konohagakure hidden leaf village wreaked havoc order put end kyuubi rampage leader village fourth hokage sacrificed life sealed monstrous beast inside newborn naruto naruto hyperactive knuckle headed ninja still living konohagakure shunned kyuubi inside naruto struggle find place village burning desire become hokage konohagakure lead great new friend also deadly foe \n",
      "\n"
     ]
    }
   ],
   "source": [
    "anime_list = synopsis_similar(cb_bebop,10)"
   ]
  },
  {
   "cell_type": "code",
   "execution_count": 74,
   "id": "7ac05182",
   "metadata": {},
   "outputs": [
    {
     "data": {
      "text/plain": [
       "[('Cowboy Bebop: Tengoku no Tobira', 0.2483569171644633),\n",
       " ('Trigun', 0.03520033970590717),\n",
       " ('Eyeshield 21', 0.02496948344761886),\n",
       " ('Initial D Fourth Stage', 0.022347128613763798),\n",
       " ('Witch Hunter Robin', 0.018276021341204568),\n",
       " ('Hungry Heart: Wild Striker', 0.01735245648557149),\n",
       " ('Hachimitsu to Clover', 0.012344397656232232),\n",
       " ('Bouken Ou Beet', 0.011731605082447707),\n",
       " ('Monster', 0.01022390445243472),\n",
       " ('Naruto', 0.005527775449970003)]"
      ]
     },
     "execution_count": 74,
     "metadata": {},
     "output_type": "execute_result"
    }
   ],
   "source": [
    "anime_list"
   ]
  },
  {
   "cell_type": "markdown",
   "id": "5119e96d",
   "metadata": {},
   "source": [
    "### Similar synopsis ranking of Cowboy Bebop"
   ]
  },
  {
   "cell_type": "code",
   "execution_count": 75,
   "id": "d7abc1c3",
   "metadata": {},
   "outputs": [
    {
     "data": {
      "text/plain": [
       "numpy.float64"
      ]
     },
     "execution_count": 75,
     "metadata": {},
     "output_type": "execute_result"
    }
   ],
   "source": [
    "type(anime_list[0][1])"
   ]
  },
  {
   "cell_type": "code",
   "execution_count": 76,
   "id": "0db993eb",
   "metadata": {},
   "outputs": [
    {
     "name": "stdout",
     "output_type": "stream",
     "text": [
      "Cowboy Bebop: Tengoku no Tobira\n",
      "Trigun\n",
      "Eyeshield 21\n",
      "Initial D Fourth Stage\n",
      "Witch Hunter Robin\n",
      "Hungry Heart: Wild Striker\n",
      "Hachimitsu to Clover\n",
      "Bouken Ou Beet\n",
      "Monster\n",
      "Naruto\n"
     ]
    }
   ],
   "source": [
    "for i,j in enumerate(anime_list):\n",
    "    print(j[0])"
   ]
  },
  {
   "cell_type": "code",
   "execution_count": 77,
   "id": "f2291488",
   "metadata": {},
   "outputs": [
    {
     "name": "stdout",
     "output_type": "stream",
     "text": [
      "1 Cowboy Bebop: Tengoku no Tobira   --> 0.2484\n",
      "2 Trigun   --> 0.0352\n",
      "3 Eyeshield 21   --> 0.0250\n",
      "4 Initial D Fourth Stage   --> 0.0223\n",
      "5 Witch Hunter Robin   --> 0.0183\n",
      "6 Hungry Heart: Wild Striker   --> 0.0174\n",
      "7 Hachimitsu to Clover   --> 0.0123\n",
      "8 Bouken Ou Beet   --> 0.0117\n",
      "9 Monster   --> 0.0102\n",
      "10 Naruto   --> 0.0055\n"
     ]
    }
   ],
   "source": [
    "for i,j in enumerate(anime_list):\n",
    "    print(i+1,j[0],'  -->','%.4f' %j[1])"
   ]
  },
  {
   "cell_type": "markdown",
   "id": "857db102",
   "metadata": {},
   "source": [
    "## Evaluation accuracy "
   ]
  },
  {
   "cell_type": "markdown",
   "id": "db9cc4f2",
   "metadata": {},
   "source": [
    "### pre-processing data"
   ]
  },
  {
   "cell_type": "code",
   "execution_count": 78,
   "id": "8704e2f0",
   "metadata": {},
   "outputs": [],
   "source": [
    "testing = test_data.copy()"
   ]
  },
  {
   "cell_type": "code",
   "execution_count": 79,
   "id": "c50ff3c4",
   "metadata": {},
   "outputs": [],
   "source": [
    "def remove_space(text): #\n",
    "    return re.sub(' ','',text)"
   ]
  },
  {
   "cell_type": "code",
   "execution_count": 80,
   "id": "07be3a3e",
   "metadata": {},
   "outputs": [],
   "source": [
    "testing['Genres'] = testing['Genres'].apply(remove_space)"
   ]
  },
  {
   "cell_type": "code",
   "execution_count": 81,
   "id": "bd5ceb67",
   "metadata": {},
   "outputs": [
    {
     "data": {
      "text/html": [
       "<div>\n",
       "<style scoped>\n",
       "    .dataframe tbody tr th:only-of-type {\n",
       "        vertical-align: middle;\n",
       "    }\n",
       "\n",
       "    .dataframe tbody tr th {\n",
       "        vertical-align: top;\n",
       "    }\n",
       "\n",
       "    .dataframe thead th {\n",
       "        text-align: right;\n",
       "    }\n",
       "</style>\n",
       "<table border=\"1\" class=\"dataframe\">\n",
       "  <thead>\n",
       "    <tr style=\"text-align: right;\">\n",
       "      <th></th>\n",
       "      <th>MAL_ID</th>\n",
       "      <th>Name</th>\n",
       "      <th>Score</th>\n",
       "      <th>Genres</th>\n",
       "      <th>sypnopsis</th>\n",
       "      <th>length</th>\n",
       "    </tr>\n",
       "  </thead>\n",
       "  <tbody>\n",
       "    <tr>\n",
       "      <th>0</th>\n",
       "      <td>1</td>\n",
       "      <td>Cowboy Bebop</td>\n",
       "      <td>8.78</td>\n",
       "      <td>Action,Adventure,Comedy,Drama,Sci-Fi,Space</td>\n",
       "      <td>year 2071 humanity colonized several planet mo...</td>\n",
       "      <td>1063.0</td>\n",
       "    </tr>\n",
       "    <tr>\n",
       "      <th>1</th>\n",
       "      <td>5</td>\n",
       "      <td>Cowboy Bebop: Tengoku no Tobira</td>\n",
       "      <td>8.39</td>\n",
       "      <td>Action,Drama,Mystery,Sci-Fi,Space</td>\n",
       "      <td>day another bounty life often unlucky crew beb...</td>\n",
       "      <td>857.0</td>\n",
       "    </tr>\n",
       "    <tr>\n",
       "      <th>2</th>\n",
       "      <td>6</td>\n",
       "      <td>Trigun</td>\n",
       "      <td>8.24</td>\n",
       "      <td>Action,Sci-Fi,Adventure,Comedy,Drama,Shounen</td>\n",
       "      <td>vash stampede man 60 000 000 000 bounty head r...</td>\n",
       "      <td>1005.0</td>\n",
       "    </tr>\n",
       "    <tr>\n",
       "      <th>3</th>\n",
       "      <td>7</td>\n",
       "      <td>Witch Hunter Robin</td>\n",
       "      <td>7.27</td>\n",
       "      <td>Action,Mystery,Police,Supernatural,Drama,Magic</td>\n",
       "      <td>ches individual special power like esp telekin...</td>\n",
       "      <td>435.0</td>\n",
       "    </tr>\n",
       "    <tr>\n",
       "      <th>4</th>\n",
       "      <td>8</td>\n",
       "      <td>Bouken Ou Beet</td>\n",
       "      <td>6.98</td>\n",
       "      <td>Adventure,Fantasy,Shounen,Supernatural</td>\n",
       "      <td>dark century people suffering rule devil vande...</td>\n",
       "      <td>721.0</td>\n",
       "    </tr>\n",
       "  </tbody>\n",
       "</table>\n",
       "</div>"
      ],
      "text/plain": [
       "   MAL_ID                             Name  Score  \\\n",
       "0       1                     Cowboy Bebop   8.78   \n",
       "1       5  Cowboy Bebop: Tengoku no Tobira   8.39   \n",
       "2       6                           Trigun   8.24   \n",
       "3       7               Witch Hunter Robin   7.27   \n",
       "4       8                   Bouken Ou Beet   6.98   \n",
       "\n",
       "                                           Genres  \\\n",
       "0      Action,Adventure,Comedy,Drama,Sci-Fi,Space   \n",
       "1               Action,Drama,Mystery,Sci-Fi,Space   \n",
       "2    Action,Sci-Fi,Adventure,Comedy,Drama,Shounen   \n",
       "3  Action,Mystery,Police,Supernatural,Drama,Magic   \n",
       "4          Adventure,Fantasy,Shounen,Supernatural   \n",
       "\n",
       "                                           sypnopsis  length  \n",
       "0  year 2071 humanity colonized several planet mo...  1063.0  \n",
       "1  day another bounty life often unlucky crew beb...   857.0  \n",
       "2  vash stampede man 60 000 000 000 bounty head r...  1005.0  \n",
       "3  ches individual special power like esp telekin...   435.0  \n",
       "4  dark century people suffering rule devil vande...   721.0  "
      ]
     },
     "execution_count": 81,
     "metadata": {},
     "output_type": "execute_result"
    }
   ],
   "source": [
    "testing.head()"
   ]
  },
  {
   "cell_type": "code",
   "execution_count": 82,
   "id": "233896b5",
   "metadata": {},
   "outputs": [],
   "source": [
    "testing1 = testing[['Name','Genres']]"
   ]
  },
  {
   "cell_type": "code",
   "execution_count": 83,
   "id": "e139b026",
   "metadata": {},
   "outputs": [],
   "source": [
    "testing2 = testing1.apply(lambda x: ','.join(x.astype(str)), axis=1 )"
   ]
  },
  {
   "cell_type": "code",
   "execution_count": 84,
   "id": "7c595ed7",
   "metadata": {},
   "outputs": [
    {
     "data": {
      "text/plain": [
       "0        Cowboy Bebop,Action,Adventure,Comedy,Drama,Sci...\n",
       "1        Cowboy Bebop: Tengoku no Tobira,Action,Drama,M...\n",
       "2        Trigun,Action,Sci-Fi,Adventure,Comedy,Drama,Sh...\n",
       "3        Witch Hunter Robin,Action,Mystery,Police,Super...\n",
       "4        Bouken Ou Beet,Adventure,Fantasy,Shounen,Super...\n",
       "                               ...                        \n",
       "16207     Tsuki to Laika to Nosferatu,Sci-Fi,Space,Vampire\n",
       "16210              Mieruko-chan,Comedy,Horror,Supernatural\n",
       "16211    Higurashi no Naku Koro ni Sotsu,Mystery,Dement...\n",
       "16212    Yama no Susume: Next Summit,Adventure,SliceofL...\n",
       "16213                         Scarlet Nexus,Action,Fantasy\n",
       "Length: 15454, dtype: object"
      ]
     },
     "execution_count": 84,
     "metadata": {},
     "output_type": "execute_result"
    }
   ],
   "source": [
    "testing2"
   ]
  },
  {
   "cell_type": "code",
   "execution_count": 85,
   "id": "3dc750d0",
   "metadata": {},
   "outputs": [],
   "source": [
    "df = pd.DataFrame({'corpus':testing2})"
   ]
  },
  {
   "cell_type": "code",
   "execution_count": 86,
   "id": "3c7d5c17",
   "metadata": {},
   "outputs": [
    {
     "data": {
      "text/html": [
       "<div>\n",
       "<style scoped>\n",
       "    .dataframe tbody tr th:only-of-type {\n",
       "        vertical-align: middle;\n",
       "    }\n",
       "\n",
       "    .dataframe tbody tr th {\n",
       "        vertical-align: top;\n",
       "    }\n",
       "\n",
       "    .dataframe thead th {\n",
       "        text-align: right;\n",
       "    }\n",
       "</style>\n",
       "<table border=\"1\" class=\"dataframe\">\n",
       "  <thead>\n",
       "    <tr style=\"text-align: right;\">\n",
       "      <th></th>\n",
       "      <th>corpus</th>\n",
       "    </tr>\n",
       "  </thead>\n",
       "  <tbody>\n",
       "    <tr>\n",
       "      <th>0</th>\n",
       "      <td>Cowboy Bebop,Action,Adventure,Comedy,Drama,Sci...</td>\n",
       "    </tr>\n",
       "    <tr>\n",
       "      <th>1</th>\n",
       "      <td>Cowboy Bebop: Tengoku no Tobira,Action,Drama,M...</td>\n",
       "    </tr>\n",
       "    <tr>\n",
       "      <th>2</th>\n",
       "      <td>Trigun,Action,Sci-Fi,Adventure,Comedy,Drama,Sh...</td>\n",
       "    </tr>\n",
       "    <tr>\n",
       "      <th>3</th>\n",
       "      <td>Witch Hunter Robin,Action,Mystery,Police,Super...</td>\n",
       "    </tr>\n",
       "    <tr>\n",
       "      <th>4</th>\n",
       "      <td>Bouken Ou Beet,Adventure,Fantasy,Shounen,Super...</td>\n",
       "    </tr>\n",
       "    <tr>\n",
       "      <th>...</th>\n",
       "      <td>...</td>\n",
       "    </tr>\n",
       "    <tr>\n",
       "      <th>16207</th>\n",
       "      <td>Tsuki to Laika to Nosferatu,Sci-Fi,Space,Vampire</td>\n",
       "    </tr>\n",
       "    <tr>\n",
       "      <th>16210</th>\n",
       "      <td>Mieruko-chan,Comedy,Horror,Supernatural</td>\n",
       "    </tr>\n",
       "    <tr>\n",
       "      <th>16211</th>\n",
       "      <td>Higurashi no Naku Koro ni Sotsu,Mystery,Dement...</td>\n",
       "    </tr>\n",
       "    <tr>\n",
       "      <th>16212</th>\n",
       "      <td>Yama no Susume: Next Summit,Adventure,SliceofL...</td>\n",
       "    </tr>\n",
       "    <tr>\n",
       "      <th>16213</th>\n",
       "      <td>Scarlet Nexus,Action,Fantasy</td>\n",
       "    </tr>\n",
       "  </tbody>\n",
       "</table>\n",
       "<p>15454 rows × 1 columns</p>\n",
       "</div>"
      ],
      "text/plain": [
       "                                                  corpus\n",
       "0      Cowboy Bebop,Action,Adventure,Comedy,Drama,Sci...\n",
       "1      Cowboy Bebop: Tengoku no Tobira,Action,Drama,M...\n",
       "2      Trigun,Action,Sci-Fi,Adventure,Comedy,Drama,Sh...\n",
       "3      Witch Hunter Robin,Action,Mystery,Police,Super...\n",
       "4      Bouken Ou Beet,Adventure,Fantasy,Shounen,Super...\n",
       "...                                                  ...\n",
       "16207   Tsuki to Laika to Nosferatu,Sci-Fi,Space,Vampire\n",
       "16210            Mieruko-chan,Comedy,Horror,Supernatural\n",
       "16211  Higurashi no Naku Koro ni Sotsu,Mystery,Dement...\n",
       "16212  Yama no Susume: Next Summit,Adventure,SliceofL...\n",
       "16213                       Scarlet Nexus,Action,Fantasy\n",
       "\n",
       "[15454 rows x 1 columns]"
      ]
     },
     "execution_count": 86,
     "metadata": {},
     "output_type": "execute_result"
    }
   ],
   "source": [
    "df"
   ]
  },
  {
   "cell_type": "code",
   "execution_count": 87,
   "id": "290daf43",
   "metadata": {},
   "outputs": [],
   "source": [
    "data_sequence = [row.split(',') for row in df['corpus']]"
   ]
  },
  {
   "cell_type": "code",
   "execution_count": 88,
   "id": "c9836ac5",
   "metadata": {},
   "outputs": [
    {
     "data": {
      "text/plain": [
       "[['Cowboy Bebop', 'Action', 'Adventure', 'Comedy', 'Drama', 'Sci-Fi', 'Space'],\n",
       " ['Cowboy Bebop: Tengoku no Tobira',\n",
       "  'Action',\n",
       "  'Drama',\n",
       "  'Mystery',\n",
       "  'Sci-Fi',\n",
       "  'Space'],\n",
       " ['Trigun', 'Action', 'Sci-Fi', 'Adventure', 'Comedy', 'Drama', 'Shounen'],\n",
       " ['Witch Hunter Robin',\n",
       "  'Action',\n",
       "  'Mystery',\n",
       "  'Police',\n",
       "  'Supernatural',\n",
       "  'Drama',\n",
       "  'Magic'],\n",
       " ['Bouken Ou Beet', 'Adventure', 'Fantasy', 'Shounen', 'Supernatural']]"
      ]
     },
     "execution_count": 88,
     "metadata": {},
     "output_type": "execute_result"
    }
   ],
   "source": [
    "data_sequence[0:5]"
   ]
  },
  {
   "cell_type": "markdown",
   "id": "b69042af",
   "metadata": {},
   "source": [
    "## ใช้ Word2vec ในการประเมินความเหมือนโดยใช้ Genres เป็น Feature"
   ]
  },
  {
   "cell_type": "markdown",
   "id": "e7c3f9f1",
   "metadata": {},
   "source": [
    "#### เพราะมองว่า Word2vec เป็นการนำเอา context รอบๆซึ่งในที่นี้เราใช้เป็น Genres มาดูความคล้ายกันของ anime จาก Genres"
   ]
  },
  {
   "cell_type": "code",
   "execution_count": 89,
   "id": "98cc4599",
   "metadata": {},
   "outputs": [],
   "source": [
    "from gensim.models import Word2Vec"
   ]
  },
  {
   "cell_type": "code",
   "execution_count": 90,
   "id": "93927e18",
   "metadata": {},
   "outputs": [],
   "source": [
    "model = Word2Vec(data_sequence, min_count=1, vector_size= 300, workers=5, window=10, sg = 1, epochs=100)"
   ]
  },
  {
   "cell_type": "markdown",
   "id": "1209bbb6",
   "metadata": {},
   "source": [
    "### Similar anime by genres with Word2vec"
   ]
  },
  {
   "cell_type": "code",
   "execution_count": 91,
   "id": "a0fa77e6",
   "metadata": {},
   "outputs": [
    {
     "data": {
      "text/plain": [
       "[('Cowboy Bebop: Yose Atsume Blues', 0.9768810272216797),\n",
       " ('Waga Seishun no Arcadia: Mugen Kidou SSX', 0.9731130003929138),\n",
       " ('Ginga Tetsudou Monogatari', 0.968613862991333),\n",
       " ('Captain Herlock', 0.9654017090797424),\n",
       " ('Ginga Tetsudou 999', 0.9652009606361389),\n",
       " ('Waga Seishun no Arcadia', 0.963137686252594),\n",
       " ('Uchuu Kaizoku Captain Herlock: Arcadia-gou no Nazo', 0.9631086587905884),\n",
       " ('Ginga Tetsudou 999: Eternal Fantasy', 0.9614667892456055),\n",
       " ('Odin: Koushi Hansen Starlight', 0.9603042006492615),\n",
       " ('MAPS: Densetsu no Samayoeru Seijin-tachi', 0.9577462673187256)]"
      ]
     },
     "execution_count": 91,
     "metadata": {},
     "output_type": "execute_result"
    }
   ],
   "source": [
    "genres_sim = model.wv.most_similar('Cowboy Bebop')[0:10] \n",
    "genres_sim"
   ]
  },
  {
   "cell_type": "markdown",
   "id": "b1a62ab6",
   "metadata": {},
   "source": [
    "### 10 อันดับ Anime ที่มี Genres เหมือนกันกับ Cowboy Bebop มากที่สุด"
   ]
  },
  {
   "cell_type": "markdown",
   "id": "5832771f",
   "metadata": {},
   "source": [
    "## เปรียบเทียบกันระหว่าง 2 วิธีที่หาความเหมือนโดยทั้ง Genres และ Synopsis "
   ]
  },
  {
   "cell_type": "markdown",
   "id": "53316f69",
   "metadata": {},
   "source": [
    "### Similar by genres"
   ]
  },
  {
   "cell_type": "code",
   "execution_count": 92,
   "id": "273d5cb5",
   "metadata": {},
   "outputs": [
    {
     "name": "stdout",
     "output_type": "stream",
     "text": [
      "Cowboy Bebop: Tengoku no Tobira      --> 0.8991842\n",
      "Trigun      --> 0.86413896\n",
      "Eyeshield 21      --> 0.6881964\n",
      "Initial D Fourth Stage      --> 0.7283301\n",
      "Witch Hunter Robin      --> 0.7204015\n",
      "Hungry Heart: Wild Striker      --> 0.58623224\n",
      "Hachimitsu to Clover      --> 0.5991104\n",
      "Bouken Ou Beet      --> 0.69370335\n",
      "Monster      --> 0.7160414\n",
      "Naruto      --> 0.756448\n"
     ]
    }
   ],
   "source": [
    "for i in anime_list:\n",
    "    print(i[0],'     -->',model.wv.similarity('Cowboy Bebop',i[0]) )"
   ]
  },
  {
   "cell_type": "markdown",
   "id": "c1e510a2",
   "metadata": {},
   "source": [
    "### Similar by Synopsis"
   ]
  },
  {
   "cell_type": "code",
   "execution_count": 93,
   "id": "606dfbaf",
   "metadata": {},
   "outputs": [
    {
     "name": "stdout",
     "output_type": "stream",
     "text": [
      "1 Cowboy Bebop: Tengoku no Tobira   --> 0.2484\n",
      "2 Trigun   --> 0.0352\n",
      "3 Eyeshield 21   --> 0.0250\n",
      "4 Initial D Fourth Stage   --> 0.0223\n",
      "5 Witch Hunter Robin   --> 0.0183\n",
      "6 Hungry Heart: Wild Striker   --> 0.0174\n",
      "7 Hachimitsu to Clover   --> 0.0123\n",
      "8 Bouken Ou Beet   --> 0.0117\n",
      "9 Monster   --> 0.0102\n",
      "10 Naruto   --> 0.0055\n"
     ]
    }
   ],
   "source": [
    "for i,j in enumerate(anime_list):\n",
    "    print(i+1,j[0],'  -->','%.4f' %j[1])"
   ]
  },
  {
   "cell_type": "code",
   "execution_count": 94,
   "id": "ff5f5ba6",
   "metadata": {},
   "outputs": [],
   "source": [
    "sim_genres = model.wv.most_similar('Cowboy Bebop')[0:10]"
   ]
  },
  {
   "cell_type": "code",
   "execution_count": 95,
   "id": "f34988e4",
   "metadata": {},
   "outputs": [],
   "source": [
    "list_sim_genres = []\n",
    "for i in sim_genres:\n",
    "    list_sim_genres.append(i[0])\n",
    "    "
   ]
  },
  {
   "cell_type": "code",
   "execution_count": 96,
   "id": "5e8142e2",
   "metadata": {},
   "outputs": [
    {
     "data": {
      "text/html": [
       "<div>\n",
       "<style scoped>\n",
       "    .dataframe tbody tr th:only-of-type {\n",
       "        vertical-align: middle;\n",
       "    }\n",
       "\n",
       "    .dataframe tbody tr th {\n",
       "        vertical-align: top;\n",
       "    }\n",
       "\n",
       "    .dataframe thead th {\n",
       "        text-align: right;\n",
       "    }\n",
       "</style>\n",
       "<table border=\"1\" class=\"dataframe\">\n",
       "  <thead>\n",
       "    <tr style=\"text-align: right;\">\n",
       "      <th></th>\n",
       "      <th>Name</th>\n",
       "      <th>Genres</th>\n",
       "    </tr>\n",
       "  </thead>\n",
       "  <tbody>\n",
       "    <tr>\n",
       "      <th>1145</th>\n",
       "      <td>Odin: Koushi Hansen Starlight</td>\n",
       "      <td>Action, Sci-Fi, Adventure, Space, Drama</td>\n",
       "    </tr>\n",
       "    <tr>\n",
       "      <th>1300</th>\n",
       "      <td>Ginga Tetsudou Monogatari</td>\n",
       "      <td>Action, Adventure, Drama, Sci-Fi, Space</td>\n",
       "    </tr>\n",
       "    <tr>\n",
       "      <th>1301</th>\n",
       "      <td>Ginga Tetsudou 999</td>\n",
       "      <td>Sci-Fi, Adventure, Space, Drama</td>\n",
       "    </tr>\n",
       "    <tr>\n",
       "      <th>1913</th>\n",
       "      <td>Waga Seishun no Arcadia</td>\n",
       "      <td>Action, Adventure, Drama, Sci-Fi, Space</td>\n",
       "    </tr>\n",
       "    <tr>\n",
       "      <th>1914</th>\n",
       "      <td>Waga Seishun no Arcadia: Mugen Kidou SSX</td>\n",
       "      <td>Action, Adventure, Drama, Sci-Fi, Space</td>\n",
       "    </tr>\n",
       "    <tr>\n",
       "      <th>2094</th>\n",
       "      <td>Uchuu Kaizoku Captain Herlock: Arcadia-gou no ...</td>\n",
       "      <td>Action, Sci-Fi, Adventure, Space, Drama</td>\n",
       "    </tr>\n",
       "    <tr>\n",
       "      <th>2607</th>\n",
       "      <td>MAPS: Densetsu no Samayoeru Seijin-tachi</td>\n",
       "      <td>Action, Sci-Fi, Adventure, Space, Drama, Shounen</td>\n",
       "    </tr>\n",
       "    <tr>\n",
       "      <th>2825</th>\n",
       "      <td>Ginga Tetsudou 999: Eternal Fantasy</td>\n",
       "      <td>Action, Drama, Sci-Fi, Space</td>\n",
       "    </tr>\n",
       "    <tr>\n",
       "      <th>3044</th>\n",
       "      <td>Cowboy Bebop: Yose Atsume Blues</td>\n",
       "      <td>Action, Adventure, Comedy, Drama, Sci-Fi, Space</td>\n",
       "    </tr>\n",
       "    <tr>\n",
       "      <th>6721</th>\n",
       "      <td>Captain Herlock</td>\n",
       "      <td>Action, Sci-Fi, Space, Drama</td>\n",
       "    </tr>\n",
       "  </tbody>\n",
       "</table>\n",
       "</div>"
      ],
      "text/plain": [
       "                                                   Name  \\\n",
       "1145                      Odin: Koushi Hansen Starlight   \n",
       "1300                          Ginga Tetsudou Monogatari   \n",
       "1301                                 Ginga Tetsudou 999   \n",
       "1913                            Waga Seishun no Arcadia   \n",
       "1914           Waga Seishun no Arcadia: Mugen Kidou SSX   \n",
       "2094  Uchuu Kaizoku Captain Herlock: Arcadia-gou no ...   \n",
       "2607           MAPS: Densetsu no Samayoeru Seijin-tachi   \n",
       "2825                Ginga Tetsudou 999: Eternal Fantasy   \n",
       "3044                    Cowboy Bebop: Yose Atsume Blues   \n",
       "6721                                    Captain Herlock   \n",
       "\n",
       "                                                Genres  \n",
       "1145           Action, Sci-Fi, Adventure, Space, Drama  \n",
       "1300           Action, Adventure, Drama, Sci-Fi, Space  \n",
       "1301                   Sci-Fi, Adventure, Space, Drama  \n",
       "1913           Action, Adventure, Drama, Sci-Fi, Space  \n",
       "1914           Action, Adventure, Drama, Sci-Fi, Space  \n",
       "2094           Action, Sci-Fi, Adventure, Space, Drama  \n",
       "2607  Action, Sci-Fi, Adventure, Space, Drama, Shounen  \n",
       "2825                      Action, Drama, Sci-Fi, Space  \n",
       "3044   Action, Adventure, Comedy, Drama, Sci-Fi, Space  \n",
       "6721                      Action, Sci-Fi, Space, Drama  "
      ]
     },
     "execution_count": 96,
     "metadata": {},
     "output_type": "execute_result"
    }
   ],
   "source": [
    "test_data[test_data['Name'].isin(list_sim_genres)][['Name','Genres']]"
   ]
  },
  {
   "cell_type": "code",
   "execution_count": 97,
   "id": "d139fc6e",
   "metadata": {
    "scrolled": true
   },
   "outputs": [
    {
     "data": {
      "text/plain": [
       "0    Action, Adventure, Comedy, Drama, Sci-Fi, Space\n",
       "Name: Genres, dtype: object"
      ]
     },
     "execution_count": 97,
     "metadata": {},
     "output_type": "execute_result"
    }
   ],
   "source": [
    "test_data[test_data['Name'].isin(['Cowboy Bebop'])]['Genres']"
   ]
  },
  {
   "cell_type": "code",
   "execution_count": 98,
   "id": "b2c5f607",
   "metadata": {},
   "outputs": [
    {
     "name": "stdout",
     "output_type": "stream",
     "text": [
      "year 2071 humanity colonized several planet moon solar system leaving uninhabitable surface planet earth behind inter solar system police attempt keep peace galaxy aided part outlaw bounty hunter referred cowboy ragtag team aboard spaceship bebop two individual mellow carefree spike spiegel balanced boisterous pragmatic partner jet black pair make living chasing bounty collecting reward thrown course addition new member meet travel ein genetically engineered highly intelligent welsh corgi femme fatale faye valentine enigmatic trickster memory loss strange computer whiz kid edward wong crew embarks thrilling adventure unravel member dark mysterious past little little well balanced high density action light hearted comedy cowboy bebop space western classic homage smooth improvised music named\n"
     ]
    }
   ],
   "source": [
    "print(cb_bebop)"
   ]
  },
  {
   "cell_type": "code",
   "execution_count": 99,
   "id": "38d778c4",
   "metadata": {},
   "outputs": [],
   "source": [
    "syp_t = test_data[test_data['Name'].str.contains('Waga Seishun no Arcadia: Mugen Kidou SSX')]['sypnopsis']"
   ]
  },
  {
   "cell_type": "code",
   "execution_count": 100,
   "id": "ab152cef",
   "metadata": {},
   "outputs": [
    {
     "name": "stdout",
     "output_type": "stream",
     "text": [
      "end arcadia youth capitain harlock crew space ship arcadia banished earth earth well many planet universe taken illumidus race destructive humanoid ruin enslave destroy almost inhabitable planet come across endless orbit ssx harlock battle illumidus searching mythical planet peace people universe live freely without war source wikipedia\n"
     ]
    }
   ],
   "source": [
    "for i in syp_t:\n",
    "    print(i)"
   ]
  },
  {
   "cell_type": "code",
   "execution_count": 101,
   "id": "35b1c85b",
   "metadata": {},
   "outputs": [],
   "source": [
    "syp_t1 = test_data[test_data['Name'].str.contains('Trigun')]['sypnopsis']"
   ]
  },
  {
   "cell_type": "code",
   "execution_count": 102,
   "id": "f0cf5f84",
   "metadata": {},
   "outputs": [
    {
     "name": "stdout",
     "output_type": "stream",
     "text": [
      "vash stampede man 60 000 000 000 bounty head reason merciless villain lay waste oppose flattens entire city fun garnering title humanoid typhoon leaf trail death destruction wherever go anyone count dead much make eye contact rumor say actuality vash huge softie claim never taken life avoids violence cost crazy doughnut obsession buffoonish attitude tow vash traverse wasteland planet gunsmoke followed two insurance agent meryl stryfe milly thompson attempt minimize impact public soon misadventure evolve life death situation group legendary assassin summoned bring suffering trio vash agonizing past unraveled morality principle pushed breaking point\n",
      "vash stampede contradiction notorious reputation humanoid typhoon laying anything come across waste desolate planet gunsmoke however vash fact non confrontational kind hearted living code pacifism twenty year ago high profile bank heist went sour ringleader gasback gallon getaway swore get back backstabbing crew man stopped killing vash stampede present day traitorous crew living good life successful entrepreneur politician although two decade passed gasback bitterness waned aim take one one mean necessary time foil gasback plot vash arrived macca city teaming mysterious amelia ann mcfly along insurance agent milly thompson meryl stryfe vash ready rumble\n"
     ]
    }
   ],
   "source": [
    "for i in syp_t1:\n",
    "    print(i)"
   ]
  }
 ],
 "metadata": {
  "kernelspec": {
   "display_name": "Datasci",
   "language": "python",
   "name": "datasci"
  },
  "language_info": {
   "codemirror_mode": {
    "name": "ipython",
    "version": 3
   },
   "file_extension": ".py",
   "mimetype": "text/x-python",
   "name": "python",
   "nbconvert_exporter": "python",
   "pygments_lexer": "ipython3",
   "version": "3.8.8"
  }
 },
 "nbformat": 4,
 "nbformat_minor": 5
}
