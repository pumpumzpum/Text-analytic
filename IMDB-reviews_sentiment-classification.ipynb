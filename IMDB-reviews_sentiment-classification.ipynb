{
 "cells": [
  {
   "cell_type": "code",
   "execution_count": 2,
   "id": "5aa3ba60",
   "metadata": {},
   "outputs": [],
   "source": [
    "import pandas as pd\n",
    "import matplotlib.pyplot as plt\n",
    "data = pd.read_csv('IMDB_Dataset.csv')"
   ]
  },
  {
   "cell_type": "code",
   "execution_count": 3,
   "id": "f6d84f74",
   "metadata": {},
   "outputs": [
    {
     "data": {
      "text/html": [
       "<div>\n",
       "<style scoped>\n",
       "    .dataframe tbody tr th:only-of-type {\n",
       "        vertical-align: middle;\n",
       "    }\n",
       "\n",
       "    .dataframe tbody tr th {\n",
       "        vertical-align: top;\n",
       "    }\n",
       "\n",
       "    .dataframe thead th {\n",
       "        text-align: right;\n",
       "    }\n",
       "</style>\n",
       "<table border=\"1\" class=\"dataframe\">\n",
       "  <thead>\n",
       "    <tr style=\"text-align: right;\">\n",
       "      <th></th>\n",
       "      <th>review</th>\n",
       "      <th>sentiment</th>\n",
       "    </tr>\n",
       "  </thead>\n",
       "  <tbody>\n",
       "    <tr>\n",
       "      <th>0</th>\n",
       "      <td>One of the other reviewers has mentioned that ...</td>\n",
       "      <td>positive</td>\n",
       "    </tr>\n",
       "    <tr>\n",
       "      <th>1</th>\n",
       "      <td>A wonderful little production. &lt;br /&gt;&lt;br /&gt;The...</td>\n",
       "      <td>positive</td>\n",
       "    </tr>\n",
       "    <tr>\n",
       "      <th>2</th>\n",
       "      <td>I thought this was a wonderful way to spend ti...</td>\n",
       "      <td>positive</td>\n",
       "    </tr>\n",
       "    <tr>\n",
       "      <th>3</th>\n",
       "      <td>Basically there's a family where a little boy ...</td>\n",
       "      <td>negative</td>\n",
       "    </tr>\n",
       "    <tr>\n",
       "      <th>4</th>\n",
       "      <td>Petter Mattei's \"Love in the Time of Money\" is...</td>\n",
       "      <td>positive</td>\n",
       "    </tr>\n",
       "  </tbody>\n",
       "</table>\n",
       "</div>"
      ],
      "text/plain": [
       "                                              review sentiment\n",
       "0  One of the other reviewers has mentioned that ...  positive\n",
       "1  A wonderful little production. <br /><br />The...  positive\n",
       "2  I thought this was a wonderful way to spend ti...  positive\n",
       "3  Basically there's a family where a little boy ...  negative\n",
       "4  Petter Mattei's \"Love in the Time of Money\" is...  positive"
      ]
     },
     "execution_count": 3,
     "metadata": {},
     "output_type": "execute_result"
    }
   ],
   "source": [
    "data.head()"
   ]
  },
  {
   "cell_type": "code",
   "execution_count": 4,
   "id": "e4e1d459",
   "metadata": {},
   "outputs": [
    {
     "data": {
      "text/plain": [
       "(50000, 2)"
      ]
     },
     "execution_count": 4,
     "metadata": {},
     "output_type": "execute_result"
    }
   ],
   "source": [
    "data.shape"
   ]
  },
  {
   "cell_type": "code",
   "execution_count": 5,
   "id": "4df24129",
   "metadata": {},
   "outputs": [],
   "source": [
    "data['length'] = data['review'].str.len()"
   ]
  },
  {
   "cell_type": "code",
   "execution_count": 6,
   "id": "3e401b0f",
   "metadata": {},
   "outputs": [
    {
     "data": {
      "text/html": [
       "<div>\n",
       "<style scoped>\n",
       "    .dataframe tbody tr th:only-of-type {\n",
       "        vertical-align: middle;\n",
       "    }\n",
       "\n",
       "    .dataframe tbody tr th {\n",
       "        vertical-align: top;\n",
       "    }\n",
       "\n",
       "    .dataframe thead th {\n",
       "        text-align: right;\n",
       "    }\n",
       "</style>\n",
       "<table border=\"1\" class=\"dataframe\">\n",
       "  <thead>\n",
       "    <tr style=\"text-align: right;\">\n",
       "      <th></th>\n",
       "      <th>count</th>\n",
       "      <th>mean</th>\n",
       "      <th>std</th>\n",
       "      <th>min</th>\n",
       "      <th>25%</th>\n",
       "      <th>50%</th>\n",
       "      <th>75%</th>\n",
       "      <th>max</th>\n",
       "    </tr>\n",
       "  </thead>\n",
       "  <tbody>\n",
       "    <tr>\n",
       "      <th>length</th>\n",
       "      <td>50000.0</td>\n",
       "      <td>1309.43102</td>\n",
       "      <td>989.728014</td>\n",
       "      <td>32.0</td>\n",
       "      <td>699.0</td>\n",
       "      <td>970.0</td>\n",
       "      <td>1590.25</td>\n",
       "      <td>13704.0</td>\n",
       "    </tr>\n",
       "  </tbody>\n",
       "</table>\n",
       "</div>"
      ],
      "text/plain": [
       "          count        mean         std   min    25%    50%      75%      max\n",
       "length  50000.0  1309.43102  989.728014  32.0  699.0  970.0  1590.25  13704.0"
      ]
     },
     "execution_count": 6,
     "metadata": {},
     "output_type": "execute_result"
    }
   ],
   "source": [
    "data.describe().T"
   ]
  },
  {
   "cell_type": "markdown",
   "id": "2d137e09",
   "metadata": {},
   "source": [
    "## Check missing value"
   ]
  },
  {
   "cell_type": "code",
   "execution_count": 7,
   "id": "2c3a2f34",
   "metadata": {},
   "outputs": [
    {
     "data": {
      "text/plain": [
       "review       False\n",
       "sentiment    False\n",
       "length       False\n",
       "dtype: bool"
      ]
     },
     "execution_count": 7,
     "metadata": {},
     "output_type": "execute_result"
    }
   ],
   "source": [
    "data.isna().any()"
   ]
  },
  {
   "cell_type": "markdown",
   "id": "12ef8fbc",
   "metadata": {},
   "source": [
    "### No missing value"
   ]
  },
  {
   "cell_type": "markdown",
   "id": "49a2ccd6",
   "metadata": {},
   "source": [
    "## length review distribution"
   ]
  },
  {
   "cell_type": "code",
   "execution_count": 8,
   "id": "17926e13",
   "metadata": {},
   "outputs": [
    {
     "data": {
      "text/plain": [
       "<AxesSubplot:>"
      ]
     },
     "execution_count": 8,
     "metadata": {},
     "output_type": "execute_result"
    },
    {
     "data": {
      "image/png": "[encoded data removed]",
      "text/plain": [
       "<Figure size 576x72 with 1 Axes>"
      ]
     },
     "metadata": {
      "needs_background": "light"
     },
     "output_type": "display_data"
    }
   ],
   "source": [
    "data['length'].plot(kind='box', vert=False, figsize=(8, 1))"
   ]
  },
  {
   "cell_type": "code",
   "execution_count": 9,
   "id": "f7c1a3b3",
   "metadata": {},
   "outputs": [
    {
     "data": {
      "text/plain": [
       "<AxesSubplot:ylabel='Frequency'>"
      ]
     },
     "execution_count": 9,
     "metadata": {},
     "output_type": "execute_result"
    },
    {
     "data": {
      "image/png": "[encoded data removed]",
      "text/plain": [
       "<Figure size 432x288 with 1 Axes>"
      ]
     },
     "metadata": {
      "needs_background": "light"
     },
     "output_type": "display_data"
    }
   ],
   "source": [
    "data['length'].plot(kind='hist', bins=50, figsize=(6, 4), edgecolor='k')"
   ]
  },
  {
   "cell_type": "markdown",
   "id": "eeae86d6",
   "metadata": {},
   "source": [
    "### right skewed"
   ]
  },
  {
   "cell_type": "code",
   "execution_count": 10,
   "id": "4d00728d",
   "metadata": {},
   "outputs": [
    {
     "data": {
      "text/plain": [
       "'A wonderful little production. <br /><br />The filming technique is very unassuming- very old-time-BBC fashion and gives a comforting, and sometimes discomforting, sense of realism to the entire piece. <br /><br />The actors are extremely well chosen- Michael Sheen not only \"has got all the polari\" but he has all the voices down pat too! You can truly see the seamless editing guided by the references to Williams\\' diary entries, not only is it well worth the watching but it is a terrificly written and performed piece. A masterful production about one of the great master\\'s of comedy and his life. <br /><br />The realism really comes home with the little things: the fantasy of the guard which, rather than use the traditional \\'dream\\' techniques remains solid then disappears. It plays on our knowledge and our senses, particularly with the scenes concerning Orton and Halliwell and the sets (particularly of their flat with Halliwell\\'s murals decorating every surface) are terribly well done.'"
      ]
     },
     "execution_count": 10,
     "metadata": {},
     "output_type": "execute_result"
    }
   ],
   "source": [
    "data['review'][1]"
   ]
  },
  {
   "cell_type": "markdown",
   "id": "824d8d61",
   "metadata": {},
   "source": [
    "## Cleaning text"
   ]
  },
  {
   "cell_type": "code",
   "execution_count": 11,
   "id": "d892d9a9",
   "metadata": {},
   "outputs": [
    {
     "name": "stderr",
     "output_type": "stream",
     "text": [
      "[nltk_data] Downloading package stopwords to\n",
      "[nltk_data]     C:\\Users\\66885\\AppData\\Roaming\\nltk_data...\n",
      "[nltk_data]   Package stopwords is already up-to-date!\n"
     ]
    },
    {
     "data": {
      "text/plain": [
       "True"
      ]
     },
     "execution_count": 11,
     "metadata": {},
     "output_type": "execute_result"
    }
   ],
   "source": [
    "import nltk\n",
    "from nltk.corpus import stopwords\n",
    "nltk.download('stopwords')"
   ]
  },
  {
   "cell_type": "markdown",
   "id": "a37e1da2",
   "metadata": {},
   "source": [
    "### หา html tag ที่เป็นไปได้ว่าจะมีทั้งหมดใน Text"
   ]
  },
  {
   "cell_type": "code",
   "execution_count": 12,
   "id": "46c40c05",
   "metadata": {},
   "outputs": [],
   "source": [
    "import re"
   ]
  },
  {
   "cell_type": "code",
   "execution_count": 13,
   "id": "2d02de1e",
   "metadata": {},
   "outputs": [],
   "source": [
    "def find_tag_pattern(text):\n",
    "    group = set(re.findall(r'<\\w+',text))\n",
    "    final = str(group)\n",
    "    return final"
   ]
  },
  {
   "cell_type": "code",
   "execution_count": 14,
   "id": "60cbe5ff",
   "metadata": {},
   "outputs": [],
   "source": [
    "finding_group = data['review'].apply(find_tag_pattern)"
   ]
  },
  {
   "cell_type": "code",
   "execution_count": 15,
   "id": "fe0c39a9",
   "metadata": {
    "scrolled": true
   },
   "outputs": [],
   "source": [
    "List_tag = []\n",
    "for i in finding_group:\n",
    "    List_tag.append(str(i))"
   ]
  },
  {
   "cell_type": "code",
   "execution_count": 16,
   "id": "c2efe6ff",
   "metadata": {},
   "outputs": [],
   "source": [
    "List_tag = set(List_tag)"
   ]
  },
  {
   "cell_type": "code",
   "execution_count": 17,
   "id": "db71978e",
   "metadata": {},
   "outputs": [
    {
     "data": {
      "text/plain": [
       "{'set()',\n",
       " \"{'<3'}\",\n",
       " \"{'<_'}\",\n",
       " \"{'<br', '<3'}\",\n",
       " \"{'<br', '<33'}\",\n",
       " \"{'<br', '<SPOILER'}\",\n",
       " \"{'<br', '<em'}\",\n",
       " \"{'<br', '<grin'}\",\n",
       " \"{'<br', '<p'}\",\n",
       " \"{'<br', '<sigh'}\",\n",
       " \"{'<br', '<sp'}\",\n",
       " \"{'<br'}\",\n",
       " \"{'<http'}\",\n",
       " \"{'<i', '<br'}\",\n",
       " \"{'<i', '<hr'}\"}"
      ]
     },
     "execution_count": 17,
     "metadata": {},
     "output_type": "execute_result"
    }
   ],
   "source": [
    "List_tag"
   ]
  },
  {
   "cell_type": "markdown",
   "id": "ff42cbb8",
   "metadata": {},
   "source": [
    "### พบว่ามี Tag ทั้งหมดอยู่ที่ 7 tags ประกอบไปด้วย <br <i <p <em <hr <http <sp\n",
    "### ส่วนที่เหลือจะเป็นอักขระพิเศษที่ประกอบไปด้วยคำในการ Review"
   ]
  },
  {
   "cell_type": "markdown",
   "id": "06920296",
   "metadata": {},
   "source": [
    "### สำรวจคำใน tag"
   ]
  },
  {
   "cell_type": "code",
   "execution_count": 18,
   "id": "663ba64f",
   "metadata": {},
   "outputs": [
    {
     "data": {
      "text/html": [
       "<div>\n",
       "<style scoped>\n",
       "    .dataframe tbody tr th:only-of-type {\n",
       "        vertical-align: middle;\n",
       "    }\n",
       "\n",
       "    .dataframe tbody tr th {\n",
       "        vertical-align: top;\n",
       "    }\n",
       "\n",
       "    .dataframe thead th {\n",
       "        text-align: right;\n",
       "    }\n",
       "</style>\n",
       "<table border=\"1\" class=\"dataframe\">\n",
       "  <thead>\n",
       "    <tr style=\"text-align: right;\">\n",
       "      <th></th>\n",
       "      <th>review</th>\n",
       "      <th>sentiment</th>\n",
       "      <th>length</th>\n",
       "    </tr>\n",
       "  </thead>\n",
       "  <tbody>\n",
       "    <tr>\n",
       "      <th>3871</th>\n",
       "      <td>I'm a sucker for a decent superhero movie. (I'...</td>\n",
       "      <td>positive</td>\n",
       "      <td>918</td>\n",
       "    </tr>\n",
       "    <tr>\n",
       "      <th>32924</th>\n",
       "      <td>&lt;br /&gt;&lt;br /&gt;Once I ignored some of the implaus...</td>\n",
       "      <td>negative</td>\n",
       "      <td>1661</td>\n",
       "    </tr>\n",
       "  </tbody>\n",
       "</table>\n",
       "</div>"
      ],
      "text/plain": [
       "                                                  review sentiment  length\n",
       "3871   I'm a sucker for a decent superhero movie. (I'...  positive     918\n",
       "32924  <br /><br />Once I ignored some of the implaus...  negative    1661"
      ]
     },
     "execution_count": 18,
     "metadata": {},
     "output_type": "execute_result"
    }
   ],
   "source": [
    "data[data['review'].str.contains('<grin')]"
   ]
  },
  {
   "cell_type": "code",
   "execution_count": 19,
   "id": "f4b8db41",
   "metadata": {},
   "outputs": [
    {
     "data": {
      "text/plain": [
       "\"I'm a sucker for a decent superhero movie. (I'm not counting super bug budget, no storyline Batman's either)<br /><br />A couple of my favorites are The Phantom and a budget movie called The Demolitionist. The Black Scorpion can be added to that collection.<br /><br />If you've seen the Demolitionist then get this movie. It's basically a copy of that heroine. (It even stars the same guy in both movies)<br /><br />If you haven't, then let me explain...a cop's father is murdered and she seeks vengeance. She laces up the black outfit (a sexy catwomanish, skimpy outfit that looks absolutely great on Joan Severance) and goes out to kick some booty.<br /><br />It's a fun, action packed movie, mind you, you may not wish the kids to see it...without screening it first to see if you approve of the pretty graphic sex scene Severance has in it. Which in my opinion, was a bonus (alright, give it an extra star <grin>)\""
      ]
     },
     "execution_count": 19,
     "metadata": {},
     "output_type": "execute_result"
    }
   ],
   "source": [
    "data['review'][3871]"
   ]
  },
  {
   "cell_type": "code",
   "execution_count": 20,
   "id": "292a4c73",
   "metadata": {},
   "outputs": [
    {
     "data": {
      "text/plain": [
       "\"i'm a sucker for a decent superhero movie. (i'm not counting super bug budget, no storyline batman's either)<br /><br />a couple of my favorites are the phantom and a budget movie called the demolitionist. the black scorpion can be added to that collection.<br /><br />if you've seen the demolitionist then get this movie. it's basically a copy of that heroine. (it even stars the same guy in both movies)<br /><br />if you haven't, then let me explain...a cop's father is murdered and she seeks vengeance. she laces up the black outfit (a sexy catwomanish, skimpy outfit that looks absolutely great on joan severance) and goes out to kick some booty.<br /><br />it's a fun, action packed movie, mind you, you may not wish the kids to see it...without screening it first to see if you approve of the pretty graphic sex scene severance has in it. which in my opinion, was a bonus (alright, give it an extra star <grin>)\""
      ]
     },
     "execution_count": 20,
     "metadata": {},
     "output_type": "execute_result"
    }
   ],
   "source": [
    "sentence = data['review'][3871].lower()\n",
    "sentence"
   ]
  },
  {
   "cell_type": "code",
   "execution_count": 21,
   "id": "6355daea",
   "metadata": {},
   "outputs": [
    {
     "data": {
      "text/html": [
       "<div>\n",
       "<style scoped>\n",
       "    .dataframe tbody tr th:only-of-type {\n",
       "        vertical-align: middle;\n",
       "    }\n",
       "\n",
       "    .dataframe tbody tr th {\n",
       "        vertical-align: top;\n",
       "    }\n",
       "\n",
       "    .dataframe thead th {\n",
       "        text-align: right;\n",
       "    }\n",
       "</style>\n",
       "<table border=\"1\" class=\"dataframe\">\n",
       "  <thead>\n",
       "    <tr style=\"text-align: right;\">\n",
       "      <th></th>\n",
       "      <th>review</th>\n",
       "      <th>sentiment</th>\n",
       "      <th>length</th>\n",
       "    </tr>\n",
       "  </thead>\n",
       "  <tbody>\n",
       "    <tr>\n",
       "      <th>46067</th>\n",
       "      <td>An occasionally surrealistic thriller that wil...</td>\n",
       "      <td>positive</td>\n",
       "      <td>1818</td>\n",
       "    </tr>\n",
       "  </tbody>\n",
       "</table>\n",
       "</div>"
      ],
      "text/plain": [
       "                                                  review sentiment  length\n",
       "46067  An occasionally surrealistic thriller that wil...  positive    1818"
      ]
     },
     "execution_count": 21,
     "metadata": {},
     "output_type": "execute_result"
    }
   ],
   "source": [
    "data[data['review'].str.contains('<em')]"
   ]
  },
  {
   "cell_type": "code",
   "execution_count": 22,
   "id": "3d8e7da8",
   "metadata": {},
   "outputs": [
    {
     "data": {
      "text/plain": [
       "\"An occasionally surrealistic thriller that will push most people's buttons., the 4th Man is sure to offend anyone with a taste for the politically correct. The story's protagonist is a bisexual alcoholic Catholic writer, Gerard (Krabbe), with a seriously twisted sense of imagination. Verhoeven offers up<br /><br />Gerard has an example of everything wrong with the modern man. He's shiftless, delusional, unable to control his urges, afraid to commit to<br /><br />meaningful relationships, and utterly apathetic about life in general. As the character himself states at one point, he is a professional liar, unable to recall the truth.<br /><br />The movie opens with Gerard dreaming of spiders consuming Christ, and then waking to begin the long march to his own destruction. He chases off<br /><br />one man (a boyfriend presumably), then chases another at a train station. Later, at a lecture, he meets a woman who seems to want to help him, or<br /><br />perhaps she has more nefarious plans.. She quickly captures Gerard in her web, enticing him with sex and money, having plenty of both. She's also got<br /><br />secrets, like three dead husbands. Is she lonely, and genuinely looking for someone to nurture - or is she a deadly black widow, luring Gerard to his<br /><br />death? Will Garard be the 4th man she kills? The woman is Christine (Soutendijk), and Verhoeven does his best to keep you guessing what she's up to.<br /><br />This is an interesting movie, with a lot of sex and intrigue. It's similar to Verhoeven's<em>Basic instinct</em>, but has a lot more depth, and is certainly more shocking. There's a lot of very strong gay content, which may make some viewers squirm. Highly recommended for fans of intelligent<br /><br />psychological thrillers, or anyone looking for something entirely new.\""
      ]
     },
     "execution_count": 22,
     "metadata": {},
     "output_type": "execute_result"
    }
   ],
   "source": [
    "data['review'][46067]"
   ]
  },
  {
   "cell_type": "code",
   "execution_count": 23,
   "id": "92adaca3",
   "metadata": {},
   "outputs": [
    {
     "data": {
      "text/html": [
       "<div>\n",
       "<style scoped>\n",
       "    .dataframe tbody tr th:only-of-type {\n",
       "        vertical-align: middle;\n",
       "    }\n",
       "\n",
       "    .dataframe tbody tr th {\n",
       "        vertical-align: top;\n",
       "    }\n",
       "\n",
       "    .dataframe thead th {\n",
       "        text-align: right;\n",
       "    }\n",
       "</style>\n",
       "<table border=\"1\" class=\"dataframe\">\n",
       "  <thead>\n",
       "    <tr style=\"text-align: right;\">\n",
       "      <th></th>\n",
       "      <th>review</th>\n",
       "      <th>sentiment</th>\n",
       "      <th>length</th>\n",
       "    </tr>\n",
       "  </thead>\n",
       "  <tbody>\n",
       "    <tr>\n",
       "      <th>33637</th>\n",
       "      <td>&gt; Contrary to most reviews I've read, I didn't...</td>\n",
       "      <td>positive</td>\n",
       "      <td>965</td>\n",
       "    </tr>\n",
       "  </tbody>\n",
       "</table>\n",
       "</div>"
      ],
      "text/plain": [
       "                                                  review sentiment  length\n",
       "33637  > Contrary to most reviews I've read, I didn't...  positive     965"
      ]
     },
     "execution_count": 23,
     "metadata": {},
     "output_type": "execute_result"
    }
   ],
   "source": [
    "data[data['review'].str.contains('<sp')]"
   ]
  },
  {
   "cell_type": "code",
   "execution_count": 24,
   "id": "cf9c4176",
   "metadata": {},
   "outputs": [
    {
     "data": {
      "text/plain": [
       "'> Contrary to most reviews I\\'ve read, I didn\\'t feel this followed any of the other rock movies (\"Spinal Tap\", etc.) The story was more unique, although I feel most people wanted to see the \"sex, drugs & rock and roll\" vices that the band kept alluding to.<br /><br />> As an American, I knew a few of the actors - Spall, Connelly & Rea. Surprised to find out \"Brian\"/Bruce Robinson was in Zifferedi\\'s (<sp?) classic \"Romeo & Juliet\". Guess I\\'ll have to rent that next.<br /><br />> \"THE FLAME STILL BURNS\" - My wife, who hails from Mexico, didn\\'t follow the English/British language too well, missed some of the jokes (which I dutifully explained) but she cried her eyes out at the concert scene. She loves the song so much now.<br /><br />> Funny that Amazon.com has the soundtrack for $30+usd when I bought the DVD in the bargain bin at Wal-Mart for $5.50usd. Price non-withstanding, I first saw this on late night cable and have been dying to find it ever since.'"
      ]
     },
     "execution_count": 24,
     "metadata": {},
     "output_type": "execute_result"
    }
   ],
   "source": [
    "data['review'][33637]"
   ]
  },
  {
   "cell_type": "code",
   "execution_count": 25,
   "id": "6ee74bf4",
   "metadata": {},
   "outputs": [
    {
     "data": {
      "text/html": [
       "<div>\n",
       "<style scoped>\n",
       "    .dataframe tbody tr th:only-of-type {\n",
       "        vertical-align: middle;\n",
       "    }\n",
       "\n",
       "    .dataframe tbody tr th {\n",
       "        vertical-align: top;\n",
       "    }\n",
       "\n",
       "    .dataframe thead th {\n",
       "        text-align: right;\n",
       "    }\n",
       "</style>\n",
       "<table border=\"1\" class=\"dataframe\">\n",
       "  <thead>\n",
       "    <tr style=\"text-align: right;\">\n",
       "      <th></th>\n",
       "      <th>review</th>\n",
       "      <th>sentiment</th>\n",
       "      <th>length</th>\n",
       "    </tr>\n",
       "  </thead>\n",
       "  <tbody>\n",
       "    <tr>\n",
       "      <th>11691</th>\n",
       "      <td>I loved this movie and i never knew it was thi...</td>\n",
       "      <td>positive</td>\n",
       "      <td>859</td>\n",
       "    </tr>\n",
       "    <tr>\n",
       "      <th>12854</th>\n",
       "      <td>i love this TV series so much. it contains ani...</td>\n",
       "      <td>positive</td>\n",
       "      <td>1021</td>\n",
       "    </tr>\n",
       "    <tr>\n",
       "      <th>22402</th>\n",
       "      <td>This movie is an evolutionary piece - from Ter...</td>\n",
       "      <td>positive</td>\n",
       "      <td>1331</td>\n",
       "    </tr>\n",
       "    <tr>\n",
       "      <th>43339</th>\n",
       "      <td>Yeah, I know my title sucks. I couldn't think ...</td>\n",
       "      <td>positive</td>\n",
       "      <td>866</td>\n",
       "    </tr>\n",
       "  </tbody>\n",
       "</table>\n",
       "</div>"
      ],
      "text/plain": [
       "                                                  review sentiment  length\n",
       "11691  I loved this movie and i never knew it was thi...  positive     859\n",
       "12854  i love this TV series so much. it contains ani...  positive    1021\n",
       "22402  This movie is an evolutionary piece - from Ter...  positive    1331\n",
       "43339  Yeah, I know my title sucks. I couldn't think ...  positive     866"
      ]
     },
     "execution_count": 25,
     "metadata": {},
     "output_type": "execute_result"
    }
   ],
   "source": [
    "data[data['review'].str.contains('<3')]"
   ]
  },
  {
   "cell_type": "code",
   "execution_count": 26,
   "id": "1ff66e92",
   "metadata": {},
   "outputs": [
    {
     "data": {
      "text/plain": [
       "\"Yeah, I know my title sucks. I couldn't think of any other title. x] Ice is a brilliant first season episode. Very interesting idea and good acting as well. The whole worm-looking-thing was really creepy in my opinion. I've never been a fan of insects, so all the insect episodes are creepy to me. x] Anyway, lets go on to the good and bad things about this episode,<br /><br />The Good: The parasite thing. Awesome!<br /><br />Scully finally trusting Mulder. Awww... <33<br /><br />It was a good idea to put another parasite in the ear. Though if someone told me they had to put that thing in my ear... I think the whole cabin would be dead.<br /><br />The Bad: How did the dog stay alive for so long?<br /><br />How didn't Huffman get those black spots? Or maybe she did, but no-one saw it...<br /><br />Conclusion: Very good episode, especially for Season 1. 8/10\""
      ]
     },
     "execution_count": 26,
     "metadata": {},
     "output_type": "execute_result"
    }
   ],
   "source": [
    "data['review'][43339]"
   ]
  },
  {
   "cell_type": "code",
   "execution_count": 27,
   "id": "7906eb55",
   "metadata": {},
   "outputs": [
    {
     "data": {
      "text/html": [
       "<div>\n",
       "<style scoped>\n",
       "    .dataframe tbody tr th:only-of-type {\n",
       "        vertical-align: middle;\n",
       "    }\n",
       "\n",
       "    .dataframe tbody tr th {\n",
       "        vertical-align: top;\n",
       "    }\n",
       "\n",
       "    .dataframe thead th {\n",
       "        text-align: right;\n",
       "    }\n",
       "</style>\n",
       "<table border=\"1\" class=\"dataframe\">\n",
       "  <thead>\n",
       "    <tr style=\"text-align: right;\">\n",
       "      <th></th>\n",
       "      <th>review</th>\n",
       "      <th>sentiment</th>\n",
       "      <th>length</th>\n",
       "    </tr>\n",
       "  </thead>\n",
       "  <tbody>\n",
       "    <tr>\n",
       "      <th>27884</th>\n",
       "      <td>Remember the chain-smoking channeler exposed o...</td>\n",
       "      <td>negative</td>\n",
       "      <td>886</td>\n",
       "    </tr>\n",
       "  </tbody>\n",
       "</table>\n",
       "</div>"
      ],
      "text/plain": [
       "                                                  review sentiment  length\n",
       "27884  Remember the chain-smoking channeler exposed o...  negative     886"
      ]
     },
     "execution_count": 27,
     "metadata": {},
     "output_type": "execute_result"
    }
   ],
   "source": [
    "data[data['review'].str.contains('<http')]"
   ]
  },
  {
   "cell_type": "code",
   "execution_count": 28,
   "id": "16418f5f",
   "metadata": {},
   "outputs": [
    {
     "data": {
      "text/plain": [
       "'Remember the chain-smoking channeler exposed on 60 Minutes a few years ago? This is her. Lots of folks reviewed this movie without checking the bona fides of the filmmakers. The producers have been using phony \"word of mouth\" promotions very successfully without disclosing the financial and philosophical underpinnings for this piece of marketing tripe. If you believe in channeling, reincarnation, new age dreck and day-old baloney, this film is for you. If you want a discussion of quantum physics or reality, look elsewhere. The purpose of this movie is to convince you that Ramtha isn\\'t a wacko, so you\\'ll give her a bunch of your money. If you can tiptoe through the Ramtha website without howling in disbelief, then maybe you\\'ll think the bucks you dropped on this infomercial for insanity was well spent. <http://rogerebert.suntimes.com/apps/pbcs.dll/section?category=ANSWERMAN>'"
      ]
     },
     "execution_count": 28,
     "metadata": {},
     "output_type": "execute_result"
    }
   ],
   "source": [
    "data['review'][27884]"
   ]
  },
  {
   "cell_type": "markdown",
   "id": "07851995",
   "metadata": {},
   "source": [
    "### พบ Tag และสัญลักษณ์ที่ให้รีวิวประกอบรวมด้วยกันทั้งหมด"
   ]
  },
  {
   "cell_type": "code",
   "execution_count": 29,
   "id": "60357c2a",
   "metadata": {},
   "outputs": [],
   "source": [
    "http_tag = re.compile(r'<http')\n",
    "br_tag = re.compile(r'<br')\n",
    "i_tag = re.compile(r'<i')\n",
    "hr_tag = re.compile(r'<hr')\n",
    "love_symbol = re.compile(r'<3')\n",
    "p_tag = re.compile(r'<p')\n",
    "em_tag = re.compile('<em')\n",
    "#### Possibility tag remove"
   ]
  },
  {
   "cell_type": "code",
   "execution_count": 30,
   "id": "c1534e75",
   "metadata": {},
   "outputs": [],
   "source": [
    "tags = [http_tag, br_tag, i_tag, hr_tag, love_symbol, p_tag, em_tag]"
   ]
  },
  {
   "cell_type": "markdown",
   "id": "5243c6ce",
   "metadata": {},
   "source": [
    "### Cleaning function \n",
    "1.ปรับตัวอักษรเป็นตัวพิมพ์เล็กทั้งหมด\n",
    "\n",
    "2.ลบ Tag ที่เป็นไปได้ทั้งหมด\n",
    "\n",
    "3.ลบตัวอักขระพิเศษทั้งหมด\n",
    "\n",
    "4.ลบคำ stopwords ในตัว reivew\n",
    "\n",
    "5.ลบตัวเลขในตัว review"
   ]
  },
  {
   "cell_type": "code",
   "execution_count": 31,
   "id": "7a82c85f",
   "metadata": {},
   "outputs": [],
   "source": [
    "replace_symbols = re.compile('[/(){}\\[\\]\\|@,;]')\n",
    "bad_symbols = re.compile('[^0-9a-z #+_]')\n",
    "stop_words = set(stopwords.words('english'))\n",
    "\n",
    "def cleaning_text(text):\n",
    "    \n",
    "    text = text.lower()\n",
    "    #Remove tag\n",
    "    for tag in tags:\n",
    "        text = tag.sub('',text)\n",
    "    text = replace_symbols.sub(' ',text)\n",
    "    text = bad_symbols.sub('',text)\n",
    "    text = ' '.join(word for word in text.split() if word not in stop_words) # remove stopwords\n",
    "    return text  "
   ]
  },
  {
   "cell_type": "code",
   "execution_count": 32,
   "id": "01eeede5",
   "metadata": {},
   "outputs": [
    {
     "name": "stderr",
     "output_type": "stream",
     "text": [
      "<ipython-input-32-583b97bf1e5c>:2: FutureWarning: The default value of regex will change from True to False in a future version.\n",
      "  data['review'] = data['review'].str.replace('\\d+','')\n"
     ]
    }
   ],
   "source": [
    "data['review'] = data['review'].apply(cleaning_text)\n",
    "data['review'] = data['review'].str.replace('\\d+','')"
   ]
  },
  {
   "cell_type": "code",
   "execution_count": 53,
   "id": "78b72602",
   "metadata": {},
   "outputs": [
    {
     "data": {
      "text/plain": [
       "'contrary reviews ive read didnt feel followed rock movies spinal tap etc story unique although feel people wanted see sex drugs rock roll vices band kept alluding american knew actors spall connelly rea surprised find brian bruce robinson zifferedis sp classic romeo juliet guess ill rent next flame still burns wife hails mexico didnt follow english british language well missed jokes dutifully explained cried eyes concert scene loves song much funny amazoncom soundtrack +usd bought dvd bargain bin walmart usd price nonwithstanding first saw late night cable dying find ever since'"
      ]
     },
     "execution_count": 53,
     "metadata": {},
     "output_type": "execute_result"
    }
   ],
   "source": [
    "data['review'][33637]"
   ]
  },
  {
   "cell_type": "markdown",
   "id": "ec52f84a",
   "metadata": {},
   "source": [
    "## Processing Model"
   ]
  },
  {
   "cell_type": "code",
   "execution_count": 34,
   "id": "d950cfb4",
   "metadata": {},
   "outputs": [
    {
     "name": "stdout",
     "output_type": "stream",
     "text": [
      "Found 148747 unique tokens.\n"
     ]
    }
   ],
   "source": [
    "from keras.preprocessing.text import Tokenizer\n",
    "# The maximum number of words to be used. (most frequent)\n",
    "MAX_NB_WORDS = 2000\n",
    "# Max number of words in each reivew.\n",
    "MAX_SEQUENCE_LENGTH = 500\n",
    "# This is fixed.\n",
    "EMBEDDING_DIM = 300\n",
    "\n",
    "tokenizer = Tokenizer(num_words=MAX_NB_WORDS) #Clean text เรียบร้อยแล้ว\n",
    "tokenizer.fit_on_texts(data['review'].values)\n",
    "word_index = tokenizer.word_index\n",
    "print('Found %s unique tokens.' % len(word_index))"
   ]
  },
  {
   "cell_type": "markdown",
   "id": "e92b9d69",
   "metadata": {},
   "source": [
    "## Pad sequence"
   ]
  },
  {
   "cell_type": "code",
   "execution_count": 35,
   "id": "ceb5eff0",
   "metadata": {},
   "outputs": [
    {
     "name": "stdout",
     "output_type": "stream",
     "text": [
      "Shape of data tensor: (50000, 500)\n"
     ]
    }
   ],
   "source": [
    "from keras.preprocessing.sequence import pad_sequences\n",
    "\n",
    "X = tokenizer.texts_to_sequences(data['review'].values)\n",
    "X = pad_sequences(X, maxlen=MAX_SEQUENCE_LENGTH)\n",
    "print('Shape of data tensor:', X.shape)"
   ]
  },
  {
   "cell_type": "markdown",
   "id": "9fd96d2a",
   "metadata": {},
   "source": [
    "pad sequnce เพื่อให้ตัวที่ไม่มีค่าให้เป็น Max_sequence length"
   ]
  },
  {
   "cell_type": "code",
   "execution_count": 36,
   "id": "319c9c80",
   "metadata": {},
   "outputs": [
    {
     "data": {
      "text/plain": [
       "'one reviewers mentioned watching  oz episode youll hooked right exactly happened first thing struck oz brutality unflinching scenes violence set right word go trust show faint hearted timid show pulls punches regards drugs sex violence hardcore classic use word called oz nickname given oswald maximum security state penitentary focuses mainly emerald city experimental section prison cells glass fronts face inwards privacy high agenda em city home manyaryans muslims gangstas latinos christians italians irish moreso scuffles death stares dodgy dealings shady agreements never far away would say main appeal show due fact goes shows wouldnt dare forget pretty pictures painted mainstream audiences forget charm forget romanceoz doesnt mess around first episode ever saw struck nasty surreal couldnt say ready watched developed taste oz got accustomed high levels graphic violence violence injustice crooked guards wholl sold nickel inmates wholl kill order get away well mannered middle class inmates turned prison bitches due lack street skills prison experience watching oz may become comfortable uncomfortable viewingthats get touch darker side'"
      ]
     },
     "execution_count": 36,
     "metadata": {},
     "output_type": "execute_result"
    }
   ],
   "source": [
    "data['review'][0]"
   ]
  },
  {
   "cell_type": "code",
   "execution_count": 37,
   "id": "d0c936d8",
   "metadata": {},
   "outputs": [],
   "source": [
    "#X = X[0:50]"
   ]
  },
  {
   "cell_type": "code",
   "execution_count": 38,
   "id": "a48ba170",
   "metadata": {},
   "outputs": [
    {
     "data": {
      "text/plain": [
       "array(['negative', 'positive'], dtype=object)"
      ]
     },
     "execution_count": 38,
     "metadata": {},
     "output_type": "execute_result"
    }
   ],
   "source": [
    "labels = pd.get_dummies(data['sentiment']).columns.values\n",
    "labels"
   ]
  },
  {
   "cell_type": "code",
   "execution_count": 39,
   "id": "9c8161f4",
   "metadata": {},
   "outputs": [
    {
     "name": "stdout",
     "output_type": "stream",
     "text": [
      "shape of label tensor: (50000, 2)\n"
     ]
    }
   ],
   "source": [
    "Y = pd.get_dummies(data['sentiment']).values\n",
    "print('shape of label tensor:',Y.shape)"
   ]
  },
  {
   "cell_type": "code",
   "execution_count": 40,
   "id": "aaa6acf8",
   "metadata": {},
   "outputs": [],
   "source": [
    "#Y = Y[0:50]"
   ]
  },
  {
   "cell_type": "code",
   "execution_count": 41,
   "id": "102beb4d",
   "metadata": {},
   "outputs": [
    {
     "name": "stdout",
     "output_type": "stream",
     "text": [
      "(35000, 500) (35000, 2)\n",
      "(15000, 500) (15000, 2)\n"
     ]
    }
   ],
   "source": [
    "from sklearn.model_selection import train_test_split\n",
    "\n",
    "X_train, X_test, Y_train, Y_test = train_test_split(X,Y, test_size = 0.30, random_state = 42)\n",
    "print(X_train.shape,Y_train.shape)\n",
    "print(X_test.shape,Y_test.shape)"
   ]
  },
  {
   "cell_type": "markdown",
   "id": "0f6243d2",
   "metadata": {},
   "source": [
    "## Using Model LSTM "
   ]
  },
  {
   "cell_type": "code",
   "execution_count": 42,
   "id": "c90b33ea",
   "metadata": {},
   "outputs": [],
   "source": [
    "import os\n",
    "from keras.models import load_model\n",
    "if os.path.exists('model_lstm.h5'):\n",
    "    model = load_model('model_lstm.h5')"
   ]
  },
  {
   "cell_type": "code",
   "execution_count": 43,
   "id": "91a05919",
   "metadata": {},
   "outputs": [
    {
     "name": "stdout",
     "output_type": "stream",
     "text": [
      "Epoch 1/5\n",
      "493/493 [==============================] - 917s 2s/step - loss: 0.4109 - accuracy: 0.8191 - val_loss: 0.3114 - val_accuracy: 0.8683\n",
      "Epoch 2/5\n",
      "493/493 [==============================] - 1061s 2s/step - loss: 0.2914 - accuracy: 0.8821 - val_loss: 0.3137 - val_accuracy: 0.8709\n",
      "Epoch 3/5\n",
      "493/493 [==============================] - 1070s 2s/step - loss: 0.2653 - accuracy: 0.8937 - val_loss: 0.3101 - val_accuracy: 0.8743\n",
      "Epoch 4/5\n",
      "493/493 [==============================] - 1069s 2s/step - loss: 0.2434 - accuracy: 0.9017 - val_loss: 0.3572 - val_accuracy: 0.8629\n",
      "Epoch 5/5\n",
      "493/493 [==============================] - 1080s 2s/step - loss: 0.2306 - accuracy: 0.9064 - val_loss: 0.3302 - val_accuracy: 0.8674\n"
     ]
    }
   ],
   "source": [
    "from keras.models import Sequential\n",
    "from keras.layers import Embedding, SpatialDropout1D, LSTM, Dense\n",
    "from keras.callbacks import EarlyStopping\n",
    "\n",
    "model = Sequential() #ลำดับ ในการ add layer\n",
    "model.add(Embedding(MAX_NB_WORDS, EMBEDDING_DIM, input_length=X.shape[1]))\n",
    "model.add(SpatialDropout1D(0.2))\n",
    "model.add(LSTM(100, dropout=0.2, recurrent_dropout=0.2))\n",
    "model.add(Dense(2, activation='sigmoid'))\n",
    "model.compile(loss='binary_crossentropy', optimizer='adam', metrics=['accuracy'])\n",
    "\n",
    "epochs = 5\n",
    "batch_size = 64\n",
    "\n",
    "history = model.fit(X_train, Y_train, \n",
    "                    epochs=epochs, \n",
    "                    batch_size=batch_size,\n",
    "                    validation_split=0.1,\n",
    "                    callbacks=[EarlyStopping(monitor='val_loss', \n",
    "                                             patience=3, \n",
    "                                             min_delta=0.0001)])"
   ]
  },
  {
   "cell_type": "code",
   "execution_count": 44,
   "id": "160c0198",
   "metadata": {},
   "outputs": [],
   "source": [
    "from keras.models import load_model\n",
    "\n",
    "model.save('model_lstm.h5')"
   ]
  },
  {
   "cell_type": "markdown",
   "id": "3da2f52d",
   "metadata": {},
   "source": [
    "# Evaluation"
   ]
  },
  {
   "cell_type": "code",
   "execution_count": 45,
   "id": "d4fb7353",
   "metadata": {},
   "outputs": [
    {
     "name": "stdout",
     "output_type": "stream",
     "text": [
      "469/469 [==============================] - 61s 129ms/step - loss: 0.3165 - accuracy: 0.8699\n",
      "Test set\n",
      "\tLoss: 0.317\n",
      "\tAccuracy: 0.870\n"
     ]
    }
   ],
   "source": [
    "accr = model.evaluate(X_test,Y_test)\n",
    "print('Test set\\n\\tLoss: {:0.3f}\\n\\tAccuracy: {:0.3f}'\\\n",
    "      .format(accr[0],accr[1]))"
   ]
  },
  {
   "cell_type": "code",
   "execution_count": 46,
   "id": "f42ac4a0",
   "metadata": {},
   "outputs": [
    {
     "data": {
      "image/png": "[encoded data removed]",
      "text/plain": [
       "<Figure size 432x288 with 1 Axes>"
      ]
     },
     "metadata": {
      "needs_background": "light"
     },
     "output_type": "display_data"
    }
   ],
   "source": [
    "plt.title('Loss')\n",
    "plt.plot(history.history['loss'], label='train')\n",
    "plt.plot(history.history['val_loss'], label='test')\n",
    "plt.legend()\n",
    "plt.show();"
   ]
  },
  {
   "cell_type": "code",
   "execution_count": 47,
   "id": "8d242525",
   "metadata": {},
   "outputs": [
    {
     "data": {
      "image/png": "[encoded data removed]",
      "text/plain": [
       "<Figure size 432x288 with 1 Axes>"
      ]
     },
     "metadata": {
      "needs_background": "light"
     },
     "output_type": "display_data"
    }
   ],
   "source": [
    "plt.title('Accuracy')\n",
    "plt.plot(history.history['accuracy'], label='train')\n",
    "plt.plot(history.history['val_accuracy'], label='test')\n",
    "plt.legend()\n",
    "plt.show();"
   ]
  },
  {
   "cell_type": "code",
   "execution_count": 48,
   "id": "6cb91754",
   "metadata": {},
   "outputs": [
    {
     "data": {
      "text/html": [
       "<div>\n",
       "<style scoped>\n",
       "    .dataframe tbody tr th:only-of-type {\n",
       "        vertical-align: middle;\n",
       "    }\n",
       "\n",
       "    .dataframe tbody tr th {\n",
       "        vertical-align: top;\n",
       "    }\n",
       "\n",
       "    .dataframe thead th {\n",
       "        text-align: right;\n",
       "    }\n",
       "</style>\n",
       "<table border=\"1\" class=\"dataframe\">\n",
       "  <thead>\n",
       "    <tr style=\"text-align: right;\">\n",
       "      <th></th>\n",
       "      <th>negative</th>\n",
       "      <th>positive</th>\n",
       "    </tr>\n",
       "  </thead>\n",
       "  <tbody>\n",
       "    <tr>\n",
       "      <th>negative</th>\n",
       "      <td>6638</td>\n",
       "      <td>773</td>\n",
       "    </tr>\n",
       "    <tr>\n",
       "      <th>positive</th>\n",
       "      <td>1178</td>\n",
       "      <td>6411</td>\n",
       "    </tr>\n",
       "  </tbody>\n",
       "</table>\n",
       "</div>"
      ],
      "text/plain": [
       "          negative  positive\n",
       "negative      6638       773\n",
       "positive      1178      6411"
      ]
     },
     "execution_count": 48,
     "metadata": {},
     "output_type": "execute_result"
    }
   ],
   "source": [
    "from sklearn.metrics import confusion_matrix\n",
    "y_pred = model.predict(X_test)\n",
    "\n",
    "pd.DataFrame(confusion_matrix(Y_test.argmax(axis=1), \n",
    "                              y_pred.argmax(axis=1)),\n",
    "             index=labels, columns=labels)"
   ]
  },
  {
   "cell_type": "code",
   "execution_count": 49,
   "id": "5d4a09b2",
   "metadata": {},
   "outputs": [
    {
     "name": "stdout",
     "output_type": "stream",
     "text": [
      "              precision    recall  f1-score   support\n",
      "\n",
      "           0       0.85      0.90      0.87      7411\n",
      "           1       0.89      0.84      0.87      7589\n",
      "\n",
      "    accuracy                           0.87     15000\n",
      "   macro avg       0.87      0.87      0.87     15000\n",
      "weighted avg       0.87      0.87      0.87     15000\n",
      "\n"
     ]
    }
   ],
   "source": [
    "from sklearn.metrics import classification_report\n",
    "\n",
    "print(classification_report(y_true=Y_test.argmax(axis=1), \n",
    "                            y_pred=y_pred.argmax(axis=1)))"
   ]
  },
  {
   "cell_type": "markdown",
   "id": "7183ddb0",
   "metadata": {},
   "source": [
    "## Test predicted"
   ]
  },
  {
   "cell_type": "code",
   "execution_count": 58,
   "id": "4152cfa3",
   "metadata": {},
   "outputs": [
    {
     "name": "stdout",
     "output_type": "stream",
     "text": [
      "[[0.92915577 0.06989658]] negative\n"
     ]
    }
   ],
   "source": [
    "import numpy as np\n",
    "review_sentiment = [data['review'][49500]]\n",
    "seq = tokenizer.texts_to_sequences(review_sentiment)\n",
    "padded = pad_sequences(seq, maxlen=MAX_SEQUENCE_LENGTH)\n",
    "pred = model.predict(padded)\n",
    "labels = pd.get_dummies(data['sentiment']).columns.values\n",
    "print(pred, labels[np.argmax(pred)])"
   ]
  },
  {
   "cell_type": "code",
   "execution_count": 59,
   "id": "96970e91",
   "metadata": {},
   "outputs": [
    {
     "data": {
      "text/plain": [
       "review       case bunch people thinking clever story fits t...\n",
       "sentiment                                             negative\n",
       "length                                                    1363\n",
       "Name: 49500, dtype: object"
      ]
     },
     "execution_count": 59,
     "metadata": {},
     "output_type": "execute_result"
    }
   ],
   "source": [
    "data.iloc[49500]"
   ]
  },
  {
   "cell_type": "code",
   "execution_count": 63,
   "id": "2d52fc16",
   "metadata": {},
   "outputs": [],
   "source": [
    "negative_review_text = 'I watch movies constantly, an i rarely see movies that i have troubles watching all the way through. For one of my classes at school, i needed to watch afi’s top 10 movies. This movie was ranked at number one and I have no idea why. This movie was so boring I had to watch it several times because i kept falling asleep and missing certain parts. Fine, it was clever having Rosebud, and the importance of youth, but i felt that this is an example of a movie, that could be told in about 5 minutes, rather than stretching it out into one of the longest and most boring movies that i have ever seen. Now, i was also shocked at the acting. i generally find that acting supports a relatively weak script, however in this movie’s case, i felt that the relatively weak script was supporting the awful acting. i personally was not very impressed with the acting strictly because the reactions felt very forced and everything was very overdone. all in all i was not impressed at all with this film, regardless of past ratings.'"
   ]
  },
  {
   "cell_type": "code",
   "execution_count": 64,
   "id": "37477dae",
   "metadata": {},
   "outputs": [
    {
     "name": "stdout",
     "output_type": "stream",
     "text": [
      "[[0.98039705 0.01662549]] negative\n"
     ]
    }
   ],
   "source": [
    "import numpy as np\n",
    "review_sentiment = [negative_review_text]\n",
    "seq = tokenizer.texts_to_sequences(review_sentiment)\n",
    "padded = pad_sequences(seq, maxlen=MAX_SEQUENCE_LENGTH)\n",
    "pred = model.predict(padded)\n",
    "labels = pd.get_dummies(data['sentiment']).columns.values\n",
    "print(pred, labels[np.argmax(pred)])"
   ]
  },
  {
   "cell_type": "code",
   "execution_count": null,
   "id": "90d72094",
   "metadata": {},
   "outputs": [],
   "source": []
  }
 ],
 "metadata": {
  "kernelspec": {
   "display_name": "Datasci",
   "language": "python",
   "name": "datasci"
  },
  "language_info": {
   "codemirror_mode": {
    "name": "ipython",
    "version": 3
   },
   "file_extension": ".py",
   "mimetype": "text/x-python",
   "name": "python",
   "nbconvert_exporter": "python",
   "pygments_lexer": "ipython3",
   "version": "3.8.8"
  }
 },
 "nbformat": 4,
 "nbformat_minor": 5
}
