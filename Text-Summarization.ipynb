{
 "cells": [
  {
   "cell_type": "code",
   "execution_count": 6,
   "id": "feaa996b",
   "metadata": {},
   "outputs": [],
   "source": [
    "from nltk.corpus import stopwords\n",
    "from nltk.cluster.util import cosine_distance\n",
    "import numpy as np\n",
    "import networkx as nx"
   ]
  },
  {
   "cell_type": "code",
   "execution_count": 7,
   "id": "e8d149ff",
   "metadata": {},
   "outputs": [
    {
     "data": {
      "text/plain": [
       "'The scenes at the final whistle said it all. An explosion of noise from most of those in attendance while, in front of them, those in claret and blue celebrated and sighed in relief in equal measure. It had been that sort of game for West Ham – tough, challenging, nerve-racking but ultimately glorious. Little wonder David Moyes took his time departing down the tunnel, the Scot milking the applause and rightly so, for this is a manager reborn in charge of a team that continues to soar. Indeed, this was not only West Ham’s first league victory over Liverpool since January 2016 but one that saw them leapfrog their opponents into third. They are also level on points with Manchester City and only three behind Chelsea and, while the idea of Moyes’s men qualifying for the Champions League and even challenging for the title may seem far-fetched, it simply cannot be ruled out given their form and performances. This is their fourth league win in a row and each, in its own way, has been deserved. Here they were forced to show great togetherness and resolve against opponents who dominated possession and territory and carried a goal threat right to the last. The hosts were forced on to the back foot but, as has been typical of them for some time now, they did not wilt while, going forward, they yet again showed craft and guile, unsettling Liverpool on the counterattack and twice piercing them from what has become a formidable weapon: the set piece. For Liverpool it was a chastening afternoon, halting their unbeaten run at 25 games and bringing into sharp focus the defensive frailties that threaten their hopes of winning prizes at home and abroad. This was the sixth occasion this season that they have conceded two or more goals and, while that resulted from a collective slackness, there was a standout figure: Alisson. The Brazilian, normally so secure and reliable, was a central presence for all three West Ham goals, most strikingly the first, given it was an own goal on his part'"
      ]
     },
     "execution_count": 7,
     "metadata": {},
     "output_type": "execute_result"
    }
   ],
   "source": [
    "text = \"The scenes at the final whistle said it all. An explosion of noise from most of those in attendance while, in front of them, those in claret and blue celebrated and sighed in relief in equal measure. It had been that sort of game for West Ham – tough, challenging, nerve-racking but ultimately glorious. Little wonder David Moyes took his time departing down the tunnel, the Scot milking the applause and rightly so, for this is a manager reborn in charge of a team that continues to soar. Indeed, this was not only West Ham’s first league victory over Liverpool since January 2016 but one that saw them leapfrog their opponents into third. They are also level on points with Manchester City and only three behind Chelsea and, while the idea of Moyes’s men qualifying for the Champions League and even challenging for the title may seem far-fetched, it simply cannot be ruled out given their form and performances. This is their fourth league win in a row and each, in its own way, has been deserved. Here they were forced to show great togetherness and resolve against opponents who dominated possession and territory and carried a goal threat right to the last. The hosts were forced on to the back foot but, as has been typical of them for some time now, they did not wilt while, going forward, they yet again showed craft and guile, unsettling Liverpool on the counterattack and twice piercing them from what has become a formidable weapon: the set piece. For Liverpool it was a chastening afternoon, halting their unbeaten run at 25 games and bringing into sharp focus the defensive frailties that threaten their hopes of winning prizes at home and abroad. This was the sixth occasion this season that they have conceded two or more goals and, while that resulted from a collective slackness, there was a standout figure: Alisson. The Brazilian, normally so secure and reliable, was a central presence for all three West Ham goals, most strikingly the first, given it was an own goal on his part. Only four minutes had been played when Pablo Fornals swung a corner into the six-yard area and Liverpool’s goalkeeper made a mess of clearing it with his left arm, the ball grazing off his thumb and drifting into the net. Liverpool’s players protested to the referee, Craig Pawson, insisting Alisson had been fouled by Angelo Ogbonna as the pair jumped together. There came a VAR check and it was decided there had been no foul on Ogbonna’s part. Not that Jürgen Klopp saw it that way. He was immediately incensed by the decision and reiterated that stance afterwards, insisting Ogbonna “hits Alisson’s arm” as they rose and therefore prevented him from making clean contact with the ball. And that was not the end of the German’s ire in regard to the officiating. Five minutes later he was left raging with Pawson for not sending off Aaron Cresswell for his challenge on Jordan Henderson, with the West Ham left-back catching the Liverpool captain on the knee of his standing leg as he maneuvered down the right flank. It definitely could have led to a red yet, incredibly, after another VAR check, not even a foul was given. A sense of injustice permeated through the visitors’ ranks and they channelled it by taking full control of proceedings. After 41 minutes they got the equaliser their efforts deserved via a wonderfully executed free-kick from Trent Alexander-Arnold from the edge of the area, the ball curling over the wall and into the top right-hand corner of the net. It was a blow for West Ham so close to half-time, especially given they had also lost Ogbonna after 22 minutes due to a cut to the centre-back’s face resulting from being accidentally caught by Diojo Jota’s elbow. But they did not feel sorry for themselves and, come the second half, found not only a second wind but further gears. The hosts continued to sit deep but now they were pouring forward on the break, in the process establishing the platform for a barnstorming victory against increasingly lacklustre opponents. Jarrod Bowen and Fornals stood out and it was that pair who combined for West Ham’s second goal on 67 minutes, with Bowen charging forward after possession had been overturned in midfield and playing in Fornals, whose left-footed shot too easily went through the grasp of Alisson. Cue raucous cheers among the home fans, with the volume turned up even further when Kurt Zouma made it 3-1 on 74 minutes with a far-post header from Bowen’s right-sided corner. Alisson scampered across in an attempt to block the ball but got nowhere near it. For West Ham it was also a sixth set-piece goal in six games. Liverpool came forward with renewed vigour and scored again on 83 minutes after Divock Origi, on as a substitute, sent a low drive past Lukasz Fabianski. A comeback suddenly felt on and looked to have been completed when Sadio Mané met Alexander-Arnold’s cross with a diving header that sent the ball past Fabianski and seemingly into the far corner of the net. It went narrowly wide and, soon after, West Ham had secured a triumph that sent this venue into raptures.\"\n",
    "text[0:2000]"
   ]
  },
  {
   "cell_type": "code",
   "execution_count": 8,
   "id": "d61fbf46",
   "metadata": {},
   "outputs": [],
   "source": [
    "sentences = text.split(\". \")"
   ]
  },
  {
   "cell_type": "code",
   "execution_count": 10,
   "id": "50a337a0",
   "metadata": {},
   "outputs": [
    {
     "data": {
      "text/plain": [
       "['The scenes at the final whistle said it all',\n",
       " 'An explosion of noise from most of those in attendance while, in front of them, those in claret and blue celebrated and sighed in relief in equal measure',\n",
       " 'It had been that sort of game for West Ham – tough, challenging, nerve-racking but ultimately glorious',\n",
       " 'Little wonder David Moyes took his time departing down the tunnel, the Scot milking the applause and rightly so, for this is a manager reborn in charge of a team that continues to soar',\n",
       " 'Indeed, this was not only West Ham’s first league victory over Liverpool since January 2016 but one that saw them leapfrog their opponents into third',\n",
       " 'They are also level on points with Manchester City and only three behind Chelsea and, while the idea of Moyes’s men qualifying for the Champions League and even challenging for the title may seem far-fetched, it simply cannot be ruled out given their form and performances',\n",
       " 'This is their fourth league win in a row and each, in its own way, has been deserved',\n",
       " 'Here they were forced to show great togetherness and resolve against opponents who dominated possession and territory and carried a goal threat right to the last',\n",
       " 'The hosts were forced on to the back foot but, as has been typical of them for some time now, they did not wilt while, going forward, they yet again showed craft and guile, unsettling Liverpool on the counterattack and twice piercing them from what has become a formidable weapon: the set piece']"
      ]
     },
     "execution_count": 10,
     "metadata": {},
     "output_type": "execute_result"
    }
   ],
   "source": [
    "sentences[0:9] #Sample"
   ]
  },
  {
   "cell_type": "code",
   "execution_count": 12,
   "id": "36acfb2a",
   "metadata": {},
   "outputs": [
    {
     "data": {
      "text/plain": [
       "[['the', 'scenes', 'at', 'the', 'final', 'whistle', 'said', 'it', 'all'],\n",
       " ['an',\n",
       "  'explosion',\n",
       "  'of',\n",
       "  'noise',\n",
       "  'from',\n",
       "  'most',\n",
       "  'of',\n",
       "  'those',\n",
       "  'in',\n",
       "  'attendance',\n",
       "  'while,',\n",
       "  'in',\n",
       "  'front',\n",
       "  'of',\n",
       "  'them,',\n",
       "  'those',\n",
       "  'in',\n",
       "  'claret',\n",
       "  'and',\n",
       "  'blue',\n",
       "  'celebrated',\n",
       "  'and',\n",
       "  'sighed',\n",
       "  'in',\n",
       "  'relief',\n",
       "  'in',\n",
       "  'equal',\n",
       "  'measure']]"
      ]
     },
     "execution_count": 12,
     "metadata": {},
     "output_type": "execute_result"
    }
   ],
   "source": [
    "sentence_tokens = [s.lower().split(\" \") for s in sentences]\n",
    "sentence_tokens[0:2] # sample"
   ]
  },
  {
   "cell_type": "markdown",
   "id": "7c237f4d",
   "metadata": {},
   "source": [
    "## Sentence similarity"
   ]
  },
  {
   "cell_type": "code",
   "execution_count": 6,
   "id": "1a08b649",
   "metadata": {},
   "outputs": [],
   "source": [
    "def sentence_similarity(sent1, sent2, stopwords=None):\n",
    "    if stopwords is None:\n",
    "        stopwords = []\n",
    " \n",
    "    sent1 = [w.lower() for w in sent1]\n",
    "    sent2 = [w.lower() for w in sent2]\n",
    " \n",
    "    all_words = list(set(sent1 + sent2))\n",
    " \n",
    "    vector1 = [0] * len(all_words)\n",
    "    vector2 = [0] * len(all_words)\n",
    " \n",
    "    # build the vector for the first sentence\n",
    "    for w in sent1:\n",
    "        if w in stopwords:\n",
    "            continue\n",
    "        vector1[all_words.index(w)] += 1\n",
    " \n",
    "    # build the vector for the second sentence\n",
    "    for w in sent2:\n",
    "        if w in stopwords:\n",
    "            continue\n",
    "        vector2[all_words.index(w)] += 1\n",
    " \n",
    "    return 1 - cosine_distance(vector1, vector2)"
   ]
  },
  {
   "cell_type": "code",
   "execution_count": 7,
   "id": "bbc17cc0",
   "metadata": {},
   "outputs": [
    {
     "data": {
      "text/plain": [
       "0.12734290799340264"
      ]
     },
     "execution_count": 7,
     "metadata": {},
     "output_type": "execute_result"
    }
   ],
   "source": [
    "sentence_similarity(sentence_tokens[5], sentence_tokens[10])"
   ]
  },
  {
   "cell_type": "code",
   "execution_count": 8,
   "id": "178da42e",
   "metadata": {},
   "outputs": [
    {
     "data": {
      "text/plain": [
       "['they',\n",
       " 'are',\n",
       " 'also',\n",
       " 'level',\n",
       " 'on',\n",
       " 'points',\n",
       " 'with',\n",
       " 'manchester',\n",
       " 'city',\n",
       " 'and',\n",
       " 'only',\n",
       " 'three',\n",
       " 'behind',\n",
       " 'chelsea',\n",
       " 'and,',\n",
       " 'while',\n",
       " 'the',\n",
       " 'idea',\n",
       " 'of',\n",
       " 'moyes’s',\n",
       " 'men',\n",
       " 'qualifying',\n",
       " 'for',\n",
       " 'the',\n",
       " 'champions',\n",
       " 'league',\n",
       " 'and',\n",
       " 'even',\n",
       " 'challenging',\n",
       " 'for',\n",
       " 'the',\n",
       " 'title',\n",
       " 'may',\n",
       " 'seem',\n",
       " 'far-fetched,',\n",
       " 'it',\n",
       " 'simply',\n",
       " 'cannot',\n",
       " 'be',\n",
       " 'ruled',\n",
       " 'out',\n",
       " 'given',\n",
       " 'their',\n",
       " 'form',\n",
       " 'and',\n",
       " 'performances']"
      ]
     },
     "execution_count": 8,
     "metadata": {},
     "output_type": "execute_result"
    }
   ],
   "source": [
    "sentence_tokens[5]"
   ]
  },
  {
   "cell_type": "code",
   "execution_count": 9,
   "id": "93843ae4",
   "metadata": {},
   "outputs": [
    {
     "data": {
      "text/plain": [
       "['this',\n",
       " 'was',\n",
       " 'the',\n",
       " 'sixth',\n",
       " 'occasion',\n",
       " 'this',\n",
       " 'season',\n",
       " 'that',\n",
       " 'they',\n",
       " 'have',\n",
       " 'conceded',\n",
       " 'two',\n",
       " 'or',\n",
       " 'more',\n",
       " 'goals',\n",
       " 'and,',\n",
       " 'while',\n",
       " 'that',\n",
       " 'resulted',\n",
       " 'from',\n",
       " 'a',\n",
       " 'collective',\n",
       " 'slackness,',\n",
       " 'there',\n",
       " 'was',\n",
       " 'a',\n",
       " 'standout',\n",
       " 'figure:',\n",
       " 'alisson']"
      ]
     },
     "execution_count": 9,
     "metadata": {},
     "output_type": "execute_result"
    }
   ],
   "source": [
    "sentence_tokens[10]"
   ]
  },
  {
   "cell_type": "code",
   "execution_count": 10,
   "id": "1d0fcc54",
   "metadata": {},
   "outputs": [],
   "source": [
    "def build_similarity_matrix(sentences, stop_words):\n",
    "    # Create an empty similarity matrix\n",
    "    similarity_matrix = np.zeros((len(sentences), len(sentences)))\n",
    " \n",
    "    for idx1 in range(len(sentences)):\n",
    "        for idx2 in range(len(sentences)):\n",
    "            if idx1 == idx2: #ignore if both are same sentences\n",
    "                continue \n",
    "            similarity_matrix[idx1][idx2] = sentence_similarity(sentences[idx1], sentences[idx2], stop_words)\n",
    "\n",
    "    return similarity_matrix"
   ]
  },
  {
   "cell_type": "code",
   "execution_count": 11,
   "id": "bd260752",
   "metadata": {},
   "outputs": [],
   "source": [
    "stop_words = stopwords.words('english')"
   ]
  },
  {
   "cell_type": "code",
   "execution_count": 12,
   "id": "76198921",
   "metadata": {},
   "outputs": [
    {
     "data": {
      "text/plain": [
       "array([[0.        , 0.        , 0.        , ..., 0.        , 0.        ,\n",
       "        0.        ],\n",
       "       [0.        , 0.        , 0.        , ..., 0.        , 0.        ,\n",
       "        0.        ],\n",
       "       [0.        , 0.        , 0.        , ..., 0.        , 0.        ,\n",
       "        0.1754116 ],\n",
       "       ...,\n",
       "       [0.        , 0.        , 0.        , ..., 0.        , 0.16269784,\n",
       "        0.06726728],\n",
       "       [0.        , 0.        , 0.        , ..., 0.16269784, 0.        ,\n",
       "        0.06201737],\n",
       "       [0.        , 0.        , 0.1754116 , ..., 0.06726728, 0.06201737,\n",
       "        0.        ]])"
      ]
     },
     "execution_count": 12,
     "metadata": {},
     "output_type": "execute_result"
    }
   ],
   "source": [
    "sentence_sim = build_similarity_matrix(sentence_tokens, stop_words)\n",
    "sentence_sim"
   ]
  },
  {
   "cell_type": "markdown",
   "id": "e5207e16",
   "metadata": {},
   "source": [
    "## Rank sentences in similarity based on PageRank"
   ]
  },
  {
   "cell_type": "code",
   "execution_count": 15,
   "id": "6ddb5aad",
   "metadata": {},
   "outputs": [],
   "source": [
    "sentence_similarity_graph = nx.from_numpy_array(sentence_sim)\n",
    "scores = nx.pagerank(sentence_similarity_graph)"
   ]
  },
  {
   "cell_type": "code",
   "execution_count": 16,
   "id": "b3c4c3c7",
   "metadata": {},
   "outputs": [
    {
     "data": {
      "text/plain": [
       "AtlasView({4: {'weight': 0.04969039949999532}, 6: {'weight': 0.07273929674533075}, 10: {'weight': 0.05337605126836242}, 11: {'weight': 0.09938079899999064}, 19: {'weight': 0.11111111111111116}, 22: {'weight': 0.0820609939862218}, 23: {'weight': 0.05555555555555558}, 26: {'weight': 0.043033148291193535}, 28: {'weight': 0.06804138174397711}, 31: {'weight': 0.05337605126836242}})"
      ]
     },
     "execution_count": 16,
     "metadata": {},
     "output_type": "execute_result"
    }
   ],
   "source": [
    "sentence_similarity_graph[5]"
   ]
  },
  {
   "cell_type": "markdown",
   "id": "86f9356a",
   "metadata": {},
   "source": [
    "## Rank the top sentence"
   ]
  },
  {
   "cell_type": "code",
   "execution_count": 17,
   "id": "0c6f9164",
   "metadata": {},
   "outputs": [
    {
     "name": "stdout",
     "output_type": "stream",
     "text": [
      "Top ranked_sentence order are  [(0.06790640075907707, 'For West Ham it was also a sixth set-piece goal in six games'), (0.06128902405688086, 'Indeed, this was not only West Ham’s first league victory over Liverpool since January 2016 but one that saw them leapfrog their opponents into third'), (0.05723884335481713, 'The Brazilian, normally so secure and reliable, was a central presence for all three West Ham goals, most strikingly the first, given it was an own goal on his part'), (0.055654899308902245, 'It was a blow for West Ham so close to half-time, especially given they had also lost Ogbonna after 22 minutes due to a cut to the centre-back’s face resulting from being accidentally caught by Diojo Jota’s elbow'), (0.053584058232932386, 'It went narrowly wide and, soon after, West Ham had secured a triumph that sent this venue into raptures.'), (0.052424084576485674, 'Five minutes later he was left raging with Pawson for not sending off Aaron Cresswell for his challenge on Jordan Henderson, with the West Ham left-back catching the Liverpool captain on the knee of his standing leg as he maneuvered down the right flank'), (0.05063010683695743, 'Jarrod Bowen and Fornals stood out and it was that pair who combined for West Ham’s second goal on 67 minutes, with Bowen charging forward after possession had been overturned in midfield and playing in Fornals, whose left-footed shot too easily went through the grasp of Alisson'), (0.044254567855434516, 'Liverpool came forward with renewed vigour and scored again on 83 minutes after Divock Origi, on as a substitute, sent a low drive past Lukasz Fabianski'), (0.04163329775275987, 'Only four minutes had been played when Pablo Fornals swung a corner into the six-yard area and Liverpool’s goalkeeper made a mess of clearing it with his left arm, the ball grazing off his thumb and drifting into the net'), (0.04102631885822672, 'After 41 minutes they got the equaliser their efforts deserved via a wonderfully executed free-kick from Trent Alexander-Arnold from the edge of the area, the ball curling over the wall and into the top right-hand corner of the net'), (0.040693014967604225, 'It had been that sort of game for West Ham – tough, challenging, nerve-racking but ultimately glorious'), (0.035552504458046565, 'A comeback suddenly felt on and looked to have been completed when Sadio Mané met Alexander-Arnold’s cross with a diving header that sent the ball past Fabianski and seemingly into the far corner of the net'), (0.033437763807460344, 'They are also level on points with Manchester City and only three behind Chelsea and, while the idea of Moyes’s men qualifying for the Champions League and even challenging for the title may seem far-fetched, it simply cannot be ruled out given their form and performances'), (0.032724499421917484, 'The hosts were forced on to the back foot but, as has been typical of them for some time now, they did not wilt while, going forward, they yet again showed craft and guile, unsettling Liverpool on the counterattack and twice piercing them from what has become a formidable weapon: the set piece'), (0.0317543881936274, 'Cue raucous cheers among the home fans, with the volume turned up even further when Kurt Zouma made it 3-1 on 74 minutes with a far-post header from Bowen’s right-sided corner'), (0.030741106063628273, 'Alisson scampered across in an attempt to block the ball but got nowhere near it'), (0.02724314037721029, 'It definitely could have led to a red yet, incredibly, after another VAR check, not even a foul was given'), (0.027088774464413552, 'Here they were forced to show great togetherness and resolve against opponents who dominated possession and territory and carried a goal threat right to the last'), (0.02648031081003066, 'This was the sixth occasion this season that they have conceded two or more goals and, while that resulted from a collective slackness, there was a standout figure: Alisson'), (0.025988427162552827, 'Liverpool’s players protested to the referee, Craig Pawson, insisting Alisson had been fouled by Angelo Ogbonna as the pair jumped together'), (0.022031420156562943, 'He was immediately incensed by the decision and reiterated that stance afterwards, insisting Ogbonna “hits Alisson’s arm” as they rose and therefore prevented him from making clean contact with the ball'), (0.022026135347339444, 'The hosts continued to sit deep but now they were pouring forward on the break, in the process establishing the platform for a barnstorming victory against increasingly lacklustre opponents'), (0.021940989070046372, 'There came a VAR check and it was decided there had been no foul on Ogbonna’s part'), (0.019945509819623022, 'For Liverpool it was a chastening afternoon, halting their unbeaten run at 25 games and bringing into sharp focus the defensive frailties that threaten their hopes of winning prizes at home and abroad'), (0.01784106258626659, 'But they did not feel sorry for themselves and, come the second half, found not only a second wind but further gears'), (0.015621073456015893, 'This is their fourth league win in a row and each, in its own way, has been deserved'), (0.010611880557368007, 'Not that Jürgen Klopp saw it that way'), (0.009017208298480952, 'An explosion of noise from most of those in attendance while, in front of them, those in claret and blue celebrated and sighed in relief in equal measure'), (0.008339053565901623, 'Little wonder David Moyes took his time departing down the tunnel, the Scot milking the applause and rightly so, for this is a manager reborn in charge of a team that continues to soar'), (0.005093378607809859, 'The scenes at the final whistle said it all'), (0.005093378607809859, 'And that was not the end of the German’s ire in regard to the officiating'), (0.005093378607809859, 'A sense of injustice permeated through the visitors’ ranks and they channelled it by taking full control of proceedings')]\n"
     ]
    }
   ],
   "source": [
    "ranked_sentence = sorted(((scores[i],s) for i,s in enumerate(sentences)), reverse=True)    \n",
    "print(\"Top ranked_sentence order are \", ranked_sentence)"
   ]
  },
  {
   "cell_type": "markdown",
   "id": "c810482b",
   "metadata": {},
   "source": [
    "## Pick top n"
   ]
  },
  {
   "cell_type": "code",
   "execution_count": 18,
   "id": "115c0a28",
   "metadata": {},
   "outputs": [
    {
     "name": "stdout",
     "output_type": "stream",
     "text": [
      "Summarize Text: \n",
      " For West Ham it was also a sixth set-piece goal in six games. Indeed, this was not only West Ham’s first league victory over Liverpool since January 2016 but one that saw them leapfrog their opponents into third\n"
     ]
    }
   ],
   "source": [
    "top_n = 2\n",
    "summarize_text = []\n",
    "for i in range(top_n):\n",
    "      summarize_text.append(\"\".join(ranked_sentence[i][1]))\n",
    "\n",
    "print(\"Summarize Text: \\n\", \". \".join(summarize_text))"
   ]
  }
 ],
 "metadata": {
  "kernelspec": {
   "display_name": "Textanalytic",
   "language": "python",
   "name": "textanalytic"
  },
  "language_info": {
   "codemirror_mode": {
    "name": "ipython",
    "version": 3
   },
   "file_extension": ".py",
   "mimetype": "text/x-python",
   "name": "python",
   "nbconvert_exporter": "python",
   "pygments_lexer": "ipython3",
   "version": "3.8.8"
  }
 },
 "nbformat": 4,
 "nbformat_minor": 5
}
